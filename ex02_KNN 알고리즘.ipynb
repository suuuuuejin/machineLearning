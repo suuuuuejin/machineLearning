{
 "cells": [
  {
   "cell_type": "code",
   "execution_count": 4,
   "id": "ad1af04e",
   "metadata": {},
   "outputs": [],
   "source": [
    "import pandas as pd"
   ]
  },
  {
   "cell_type": "code",
   "execution_count": 5,
   "id": "8392f958",
   "metadata": {},
   "outputs": [],
   "source": [
    "data = pd.read_csv(\"./data/bmi_lbs.csv\")\n",
    "data['Weight(kg)'] = data['Weight(lbs)'] * 0.453592"
   ]
  },
  {
   "cell_type": "markdown",
   "id": "b7f0cec8",
   "metadata": {},
   "source": [
    "#### 학습 데이터"
   ]
  },
  {
   "cell_type": "code",
   "execution_count": 6,
   "id": "17d78ca3",
   "metadata": {},
   "outputs": [],
   "source": [
    "X = data[['Height','Weight(kg)']]\n",
    "y = data['Label']"
   ]
  },
  {
   "cell_type": "markdown",
   "id": "33bebd9f",
   "metadata": {},
   "source": [
    "#### 예측할 샘플 데이터"
   ]
  },
  {
   "cell_type": "code",
   "execution_count": 7,
   "id": "43cad3e0",
   "metadata": {},
   "outputs": [
    {
     "data": {
      "text/html": [
       "<div>\n",
       "<style scoped>\n",
       "    .dataframe tbody tr th:only-of-type {\n",
       "        vertical-align: middle;\n",
       "    }\n",
       "\n",
       "    .dataframe tbody tr th {\n",
       "        vertical-align: top;\n",
       "    }\n",
       "\n",
       "    .dataframe thead th {\n",
       "        text-align: right;\n",
       "    }\n",
       "</style>\n",
       "<table border=\"1\" class=\"dataframe\">\n",
       "  <thead>\n",
       "    <tr style=\"text-align: right;\">\n",
       "      <th></th>\n",
       "      <th>Height</th>\n",
       "      <th>Weight(kg)</th>\n",
       "    </tr>\n",
       "  </thead>\n",
       "  <tbody>\n",
       "    <tr>\n",
       "      <th>30</th>\n",
       "      <td>153</td>\n",
       "      <td>120.998660</td>\n",
       "    </tr>\n",
       "    <tr>\n",
       "      <th>110</th>\n",
       "      <td>150</td>\n",
       "      <td>69.999225</td>\n",
       "    </tr>\n",
       "    <tr>\n",
       "      <th>150</th>\n",
       "      <td>196</td>\n",
       "      <td>49.999446</td>\n",
       "    </tr>\n",
       "    <tr>\n",
       "      <th>433</th>\n",
       "      <td>179</td>\n",
       "      <td>126.998593</td>\n",
       "    </tr>\n",
       "    <tr>\n",
       "      <th>498</th>\n",
       "      <td>150</td>\n",
       "      <td>94.998948</td>\n",
       "    </tr>\n",
       "  </tbody>\n",
       "</table>\n",
       "</div>"
      ],
      "text/plain": [
       "     Height  Weight(kg)\n",
       "30      153  120.998660\n",
       "110     150   69.999225\n",
       "150     196   49.999446\n",
       "433     179  126.998593\n",
       "498     150   94.998948"
      ]
     },
     "execution_count": 7,
     "metadata": {},
     "output_type": "execute_result"
    }
   ],
   "source": [
    "sample_data = data.iloc[[30,110,150,433,498],[2,4]]\n",
    "ground_truth = data.iloc[[30,110,150,433,498],0]\n",
    "sample_data"
   ]
  },
  {
   "cell_type": "markdown",
   "id": "27213da6",
   "metadata": {},
   "source": [
    "#### 과제\n",
    " 1. 예측 데이터와 모든 학습 데이터(500개)와의 거리 계산 -> 유클리드 거리 계산\n",
    " 2. 계산된 모든 거리값 중 설정된 k값(k=5)만큼 가장 가까운 데이터 추출\n",
    " 3. 추출된 데이터의 비율 확인 후 예측"
   ]
  },
  {
   "cell_type": "code",
   "execution_count": 8,
   "id": "8aa039a7",
   "metadata": {
    "scrolled": true
   },
   "outputs": [
    {
     "data": {
      "text/html": [
       "<div>\n",
       "<style scoped>\n",
       "    .dataframe tbody tr th:only-of-type {\n",
       "        vertical-align: middle;\n",
       "    }\n",
       "\n",
       "    .dataframe tbody tr th {\n",
       "        vertical-align: top;\n",
       "    }\n",
       "\n",
       "    .dataframe thead th {\n",
       "        text-align: right;\n",
       "    }\n",
       "</style>\n",
       "<table border=\"1\" class=\"dataframe\">\n",
       "  <thead>\n",
       "    <tr style=\"text-align: right;\">\n",
       "      <th></th>\n",
       "      <th>Height</th>\n",
       "      <th>Weight(kg)</th>\n",
       "    </tr>\n",
       "  </thead>\n",
       "  <tbody>\n",
       "    <tr>\n",
       "      <th>0</th>\n",
       "      <td>24.0</td>\n",
       "      <td>25.999712</td>\n",
       "    </tr>\n",
       "    <tr>\n",
       "      <th>1</th>\n",
       "      <td>39.0</td>\n",
       "      <td>16.999812</td>\n",
       "    </tr>\n",
       "    <tr>\n",
       "      <th>2</th>\n",
       "      <td>35.0</td>\n",
       "      <td>39.999557</td>\n",
       "    </tr>\n",
       "    <tr>\n",
       "      <th>3</th>\n",
       "      <td>45.0</td>\n",
       "      <td>33.999623</td>\n",
       "    </tr>\n",
       "    <tr>\n",
       "      <th>4</th>\n",
       "      <td>-1.0</td>\n",
       "      <td>-8.999900</td>\n",
       "    </tr>\n",
       "    <tr>\n",
       "      <th>...</th>\n",
       "      <td>...</td>\n",
       "      <td>...</td>\n",
       "    </tr>\n",
       "    <tr>\n",
       "      <th>495</th>\n",
       "      <td>0.0</td>\n",
       "      <td>82.999081</td>\n",
       "    </tr>\n",
       "    <tr>\n",
       "      <th>496</th>\n",
       "      <td>34.0</td>\n",
       "      <td>50.999435</td>\n",
       "    </tr>\n",
       "    <tr>\n",
       "      <th>497</th>\n",
       "      <td>-9.0</td>\n",
       "      <td>65.999269</td>\n",
       "    </tr>\n",
       "    <tr>\n",
       "      <th>498</th>\n",
       "      <td>0.0</td>\n",
       "      <td>24.999723</td>\n",
       "    </tr>\n",
       "    <tr>\n",
       "      <th>499</th>\n",
       "      <td>23.0</td>\n",
       "      <td>60.999324</td>\n",
       "    </tr>\n",
       "  </tbody>\n",
       "</table>\n",
       "<p>500 rows × 2 columns</p>\n",
       "</div>"
      ],
      "text/plain": [
       "     Height  Weight(kg)\n",
       "0      24.0   25.999712\n",
       "1      39.0   16.999812\n",
       "2      35.0   39.999557\n",
       "3      45.0   33.999623\n",
       "4      -1.0   -8.999900\n",
       "..      ...         ...\n",
       "495     0.0   82.999081\n",
       "496    34.0   50.999435\n",
       "497    -9.0   65.999269\n",
       "498     0.0   24.999723\n",
       "499    23.0   60.999324\n",
       "\n",
       "[500 rows x 2 columns]"
      ]
     },
     "execution_count": 8,
     "metadata": {},
     "output_type": "execute_result"
    }
   ],
   "source": [
    "X-sample_data.iloc[1]"
   ]
  },
  {
   "cell_type": "code",
   "execution_count": 7,
   "id": "c329bdb3",
   "metadata": {},
   "outputs": [],
   "source": [
    "# 1번\n",
    "def my_KNN(input_data, k):\n",
    "    # 카운터 딕셔너리\n",
    "    from collections import Counter\n",
    "    # 1. 모든 데이터와 input데이터 사이의 거리계산\n",
    "    distance_list = []    # 결과는 5 X 500 크기\n",
    "    for i in range(len(input_data)):\n",
    "        temp = (X - input_data.iloc[i]) ** 2     # X데이터 전체[키, 몸무게] - i번째 샘플[키, 몸무게] -> 결과 : [a제곱, b제곱]\n",
    "        distance = (temp.iloc[:, 0] + temp.iloc[:, 1])**0.5   # (키 + 몸무게) 의 제곱근\n",
    "        distance_list.append(distance)\n",
    "    distance_list = pd.Series(distance_list, index=input_data.index)   # list -> series 변환\n",
    "    #print(distance_list)\n",
    "    k_neighbors = []\n",
    "    for i in range(len(input_data)):\n",
    "        input_i = distance_list.iloc[i]    # 첫번째 샘플데이터(30번)\n",
    "        temp = []\n",
    "        for j in range(k):\n",
    "            # k개만큼 최솟값들 뽑기\n",
    "            idx = input_i.idxmin()\n",
    "            temp.append(y.loc[idx])     # 구한 최솟값의 인덱스를 이용하여\n",
    "            # 최솟값 중복 없애게 이번에 뽑은 최솟값은 제거해주기\n",
    "            input_i.drop([idx], inplace=True)\n",
    "        k_neighbors.append(temp)\n",
    "    # k_neighbors -> 크기 : 5 X 5 (샘플데이터 갯수 X 5개의 최소거리 인덱스)\n",
    "    #print(k_neighbor)\n",
    "    # 3번\n",
    "    output = []\n",
    "    for nb in k_neighbors:\n",
    "        count = Counter(nb)     # key : 등급, value: 등급이 나온 갯수\n",
    "        output.append(max(count,key=count.get))\n",
    "    output = pd.Series(output, index=input_data.index)\n",
    "    return output"
   ]
  },
  {
   "cell_type": "code",
   "execution_count": 8,
   "id": "a8a00454",
   "metadata": {},
   "outputs": [
    {
     "data": {
      "text/plain": [
       "30     Extreme Obesity\n",
       "110            Obesity\n",
       "150     Extremely Weak\n",
       "433            Obesity\n",
       "498    Extreme Obesity\n",
       "dtype: object"
      ]
     },
     "execution_count": 8,
     "metadata": {},
     "output_type": "execute_result"
    }
   ],
   "source": [
    "my_KNN(sample_data, 5)"
   ]
  },
  {
   "cell_type": "code",
   "execution_count": null,
   "id": "56c2db62",
   "metadata": {},
   "outputs": [],
   "source": []
  },
  {
   "cell_type": "code",
   "execution_count": 9,
   "id": "6e9b3082",
   "metadata": {},
   "outputs": [],
   "source": [
    "#다른방법\n",
    "def solution4(sample_data, X, y, k=5) -> list:\n",
    "    \n",
    "    answer = []\n",
    "    for idx, val in sample_data.iterrows():\n",
    "        distanceSer = X.apply(lambda x : dist(x, val), axis=1).sort_values()[1:1+k]\n",
    "        \n",
    "        SerLabel, SerVal = y.iloc[distanceSer.index], distanceSer.values\n",
    "        \n",
    "        countLabel = Counter(SerLabel.values)\n",
    "        countCheck = max(countLabel, key=countLabel.get)\n",
    "        \n",
    "        if list(countLabel.values()).count(countLabel[countCheck]) < 2:\n",
    "            answer.append((idx, countCheck))\n",
    "        else:\n",
    "            k_dict = {}\n",
    "            \n",
    "            for label, distance in zip(SerLabel.values, SerVal):\n",
    "                if label not in k_dict.keys():\n",
    "                    k_dict[label] = [distance]\n",
    "                else:\n",
    "                    k_dict[label].append(distance)\n",
    "            \n",
    "            dupliMaxVal = [(key, val) for key, val in k_dict.items() if len(val) == countLabel[countCheck]]\n",
    "            meanCal = map(lambda x: (x[0], np.mean(x[1])), dupliMaxVal)\n",
    "            \n",
    "            answer.append((idx, min(meanCal, key=lambda x:x[1])[0]))\n",
    "            \n",
    "    return answer"
   ]
  },
  {
   "cell_type": "code",
   "execution_count": 10,
   "id": "07d96777",
   "metadata": {},
   "outputs": [
    {
     "data": {
      "text/plain": [
       "['Extreme Obesity', 'Obesity', 'Extremely Weak', 'Obesity', 'Extreme Obesity']"
      ]
     },
     "metadata": {},
     "output_type": "display_data"
    }
   ],
   "source": [
    "#다른방법\n",
    "import numpy as np\n",
    "from math import dist\n",
    "from collections import Counter\n",
    "result =[]\n",
    "for idx, val in sample_data.iterrows():\n",
    "    cal = []\n",
    "    tmp = []\n",
    "    target = (val['Height'], val['Weight(kg)'])\n",
    "    for idx2, val2 in data.iterrows():\n",
    "        compare = (val2['Height'], val2['Weight(kg)'])\n",
    "        if target != compare:\n",
    "            cal.append((idx, idx2, dist(target, compare)))\n",
    "    cal = sorted(cal, key=lambda x: x[2])[:5]\n",
    "    for i in cal:\n",
    "        tmp.append(data.iloc[i[1], 0])\n",
    "    result.append(Counter(tmp).most_common()[0][0])\n",
    "display(result)"
   ]
  },
  {
   "cell_type": "code",
   "execution_count": 11,
   "id": "a68e783d",
   "metadata": {},
   "outputs": [
    {
     "name": "stdout",
     "output_type": "stream",
     "text": [
      "Extreme Obesity\n",
      "Obesity\n",
      "Extremely Weak\n",
      "Obesity\n",
      "Extreme Obesity\n"
     ]
    }
   ],
   "source": [
    "#다른방법\n",
    "from math import dist\n",
    "from collections import Counter\n",
    "dest = []\n",
    "for idx, val in sample_data.iterrows(): # 예측값/ 행단위로 하나씩 뽑음 iterrows\n",
    "    target = ((val['Height'], val['Weight(kg)'])) # 키,몸무게를 각각 x,y로 담고, x,y의 묶음을 튜플로 저장.\n",
    "    calLi = []\n",
    "    for idx2, val2 in data.iterrows():\n",
    "        compare = ((val2['Height'], val2['Weight(kg)'])) #(120, 50)\n",
    "        if target != compare: #예측할 값과 전체데이터의 값이 같지 않을때 / 자기자신과 중복되지않게\n",
    "            calLi.append((idx, idx2, dist(target, compare)))\n",
    "            # dist -> a,b의 거리를 계산해주는 함수 / a(x,y) b(x,y)\n",
    "            # calLi에는 499개가 담긴다~\n",
    "    doyouknow = [(i[1], i[2]) for i in sorted(calLi, key= lambda x:x[2])[:5]]\n",
    "    #calLi의 dist값을 기준으로 정렬하고 5개만 가져와서 index와 dist 값을 저장\n",
    "    doyouknowLabel = data.iloc[[i[0] for i in doyouknow], [0]][\"Label\"]\n",
    "    #data의 인덱스와 매칭시켜 라벨 가져오기 / 시리즈데이터\n",
    "    doyouknowResult = list(zip(doyouknowLabel.values, [i[1] for i in doyouknow]))\n",
    "    #라벨 / 거리값 묶어준다\n",
    "    mostCommLabel = Counter([i[0] for i in doyouknowResult])\n",
    "    #Counter 중복된 데이터가 저장된 배열을 인자로 넘기면 각 원소가 몇 번씩 나오는지가 저장된 객체를 얻게 됩니다.\n",
    "    #라벨값이 몇개있는지 센다\n",
    "    print(mostCommLabel.most_common(1)[0][0])\n",
    "    #most_common 수가 많은 순으로 정렬된 튜플 배열 리스트를 리턴"
   ]
  },
  {
   "cell_type": "code",
   "execution_count": 13,
   "id": "a21023e8",
   "metadata": {},
   "outputs": [
    {
     "data": {
      "text/plain": [
       "(150.0, 94.998947704)"
      ]
     },
     "execution_count": 13,
     "metadata": {},
     "output_type": "execute_result"
    }
   ],
   "source": [
    "target"
   ]
  },
  {
   "cell_type": "code",
   "execution_count": 2,
   "id": "fd18d669",
   "metadata": {},
   "outputs": [],
   "source": [
    "import numpy as np"
   ]
  },
  {
   "cell_type": "code",
   "execution_count": 18,
   "id": "301c7606",
   "metadata": {},
   "outputs": [
    {
     "data": {
      "text/plain": [
       "array([40, 31, 20, 10,  5])"
      ]
     },
     "execution_count": 18,
     "metadata": {},
     "output_type": "execute_result"
    }
   ],
   "source": [
    "a=np.array([3,10,4,31,5,2,40,20])\n",
    "b=np.argsort(a)[::-1]\n",
    "a[b[:5]]"
   ]
  },
  {
   "cell_type": "code",
   "execution_count": 15,
   "id": "afe54e4c",
   "metadata": {},
   "outputs": [],
   "source": []
  }
 ],
 "metadata": {
  "kernelspec": {
   "display_name": "Python 3.9.12 ('base')",
   "language": "python",
   "name": "python3"
  },
  "language_info": {
   "codemirror_mode": {
    "name": "ipython",
    "version": 3
   },
   "file_extension": ".py",
   "mimetype": "text/x-python",
   "name": "python",
   "nbconvert_exporter": "python",
   "pygments_lexer": "ipython3",
   "version": "3.9.12"
  },
  "vscode": {
   "interpreter": {
    "hash": "a9d8fbd2622250be90e11d7629650d111e02c5b989647467f2b91c323a6d7e8d"
   }
  }
 },
 "nbformat": 4,
 "nbformat_minor": 5
}

{
 "cells": [
  {
   "cell_type": "markdown",
   "id": "8e144b4b",
   "metadata": {},
   "source": [
    "### 목표\n",
    "- sklearn 사용법 익히기\n",
    "- 비만도를 예측하는 모델을 만들어보자."
   ]
  },
  {
   "cell_type": "markdown",
   "id": "94014716",
   "metadata": {},
   "source": [
    "### 모델링 순서\n",
    "1. 모델 정의\n",
    "2. 모델 학습\n",
    "3. 모델 예츨\n",
    "4. 모델 평가"
   ]
  },
  {
   "cell_type": "markdown",
   "id": "822a7628",
   "metadata": {},
   "source": [
    "#### 1. 모델 정의 "
   ]
  },
  {
   "cell_type": "code",
   "execution_count": 27,
   "id": "9857f94b",
   "metadata": {},
   "outputs": [],
   "source": [
    "# KNN알고리즘을 사용하는 모델생성\n",
    "from sklearn.neighbors import KNeighborsClassifier\n",
    "# 모델객체생성\n",
    "bmi_model = KNeighborsClassifier()\n"
   ]
  },
  {
   "cell_type": "markdown",
   "id": "eb6db764",
   "metadata": {},
   "source": [
    "#### 2. 모델 학습\n",
    "- 데이터를 로딩해서 탐색\n",
    "- 학습을 위해서 문제와 답을 구분"
   ]
  },
  {
   "cell_type": "code",
   "execution_count": 28,
   "id": "efed3828",
   "metadata": {},
   "outputs": [
    {
     "data": {
      "text/html": [
       "<div>\n",
       "<style scoped>\n",
       "    .dataframe tbody tr th:only-of-type {\n",
       "        vertical-align: middle;\n",
       "    }\n",
       "\n",
       "    .dataframe tbody tr th {\n",
       "        vertical-align: top;\n",
       "    }\n",
       "\n",
       "    .dataframe thead th {\n",
       "        text-align: right;\n",
       "    }\n",
       "</style>\n",
       "<table border=\"1\" class=\"dataframe\">\n",
       "  <thead>\n",
       "    <tr style=\"text-align: right;\">\n",
       "      <th></th>\n",
       "      <th>Label</th>\n",
       "      <th>Gender</th>\n",
       "      <th>Height</th>\n",
       "      <th>Weight(lbs)</th>\n",
       "    </tr>\n",
       "  </thead>\n",
       "  <tbody>\n",
       "    <tr>\n",
       "      <th>0</th>\n",
       "      <td>Obesity</td>\n",
       "      <td>Male</td>\n",
       "      <td>174</td>\n",
       "      <td>211.6416</td>\n",
       "    </tr>\n",
       "    <tr>\n",
       "      <th>1</th>\n",
       "      <td>Normal</td>\n",
       "      <td>Male</td>\n",
       "      <td>189</td>\n",
       "      <td>191.8002</td>\n",
       "    </tr>\n",
       "    <tr>\n",
       "      <th>2</th>\n",
       "      <td>Obesity</td>\n",
       "      <td>Female</td>\n",
       "      <td>185</td>\n",
       "      <td>242.5060</td>\n",
       "    </tr>\n",
       "    <tr>\n",
       "      <th>3</th>\n",
       "      <td>Overweight</td>\n",
       "      <td>Female</td>\n",
       "      <td>195</td>\n",
       "      <td>229.2784</td>\n",
       "    </tr>\n",
       "    <tr>\n",
       "      <th>4</th>\n",
       "      <td>Overweight</td>\n",
       "      <td>Male</td>\n",
       "      <td>149</td>\n",
       "      <td>134.4806</td>\n",
       "    </tr>\n",
       "  </tbody>\n",
       "</table>\n",
       "</div>"
      ],
      "text/plain": [
       "        Label  Gender  Height  Weight(lbs)\n",
       "0     Obesity    Male     174     211.6416\n",
       "1      Normal    Male     189     191.8002\n",
       "2     Obesity  Female     185     242.5060\n",
       "3  Overweight  Female     195     229.2784\n",
       "4  Overweight    Male     149     134.4806"
      ]
     },
     "execution_count": 28,
     "metadata": {},
     "output_type": "execute_result"
    }
   ],
   "source": [
    "# 비만도 데이터 로딩(상위 5개)\n",
    "import pandas as pd\n",
    "data=pd.read_csv(\"./data/bmi_lbs.csv\")\n",
    "data.head()"
   ]
  },
  {
   "cell_type": "code",
   "execution_count": 31,
   "id": "8943e02a",
   "metadata": {},
   "outputs": [
    {
     "data": {
      "text/plain": [
       "Extreme Obesity    198\n",
       "Obesity            130\n",
       "Normal              69\n",
       "Overweight          68\n",
       "Weak                22\n",
       "Extremely Weak      13\n",
       "Name: Label, dtype: int64"
      ]
     },
     "metadata": {},
     "output_type": "display_data"
    },
    {
     "data": {
      "text/html": [
       "<div>\n",
       "<style scoped>\n",
       "    .dataframe tbody tr th:only-of-type {\n",
       "        vertical-align: middle;\n",
       "    }\n",
       "\n",
       "    .dataframe tbody tr th {\n",
       "        vertical-align: top;\n",
       "    }\n",
       "\n",
       "    .dataframe thead th {\n",
       "        text-align: right;\n",
       "    }\n",
       "</style>\n",
       "<table border=\"1\" class=\"dataframe\">\n",
       "  <thead>\n",
       "    <tr style=\"text-align: right;\">\n",
       "      <th></th>\n",
       "      <th>Height</th>\n",
       "      <th>Weight(lbs)</th>\n",
       "    </tr>\n",
       "  </thead>\n",
       "  <tbody>\n",
       "    <tr>\n",
       "      <th>count</th>\n",
       "      <td>500.000000</td>\n",
       "      <td>500.000000</td>\n",
       "    </tr>\n",
       "    <tr>\n",
       "      <th>mean</th>\n",
       "      <td>169.944000</td>\n",
       "      <td>233.687600</td>\n",
       "    </tr>\n",
       "    <tr>\n",
       "      <th>std</th>\n",
       "      <td>16.375261</td>\n",
       "      <td>71.390696</td>\n",
       "    </tr>\n",
       "    <tr>\n",
       "      <th>min</th>\n",
       "      <td>140.000000</td>\n",
       "      <td>110.230000</td>\n",
       "    </tr>\n",
       "    <tr>\n",
       "      <th>25%</th>\n",
       "      <td>156.000000</td>\n",
       "      <td>176.368000</td>\n",
       "    </tr>\n",
       "    <tr>\n",
       "      <th>50%</th>\n",
       "      <td>170.500000</td>\n",
       "      <td>233.687600</td>\n",
       "    </tr>\n",
       "    <tr>\n",
       "      <th>75%</th>\n",
       "      <td>184.000000</td>\n",
       "      <td>299.825600</td>\n",
       "    </tr>\n",
       "    <tr>\n",
       "      <th>max</th>\n",
       "      <td>199.000000</td>\n",
       "      <td>352.736000</td>\n",
       "    </tr>\n",
       "  </tbody>\n",
       "</table>\n",
       "</div>"
      ],
      "text/plain": [
       "           Height  Weight(lbs)\n",
       "count  500.000000   500.000000\n",
       "mean   169.944000   233.687600\n",
       "std     16.375261    71.390696\n",
       "min    140.000000   110.230000\n",
       "25%    156.000000   176.368000\n",
       "50%    170.500000   233.687600\n",
       "75%    184.000000   299.825600\n",
       "max    199.000000   352.736000"
      ]
     },
     "metadata": {},
     "output_type": "display_data"
    }
   ],
   "source": [
    "# 전체 데이터의 갯수 =500      \n",
    "#display(data.shape)\n",
    "len(data)\n",
    "# 비만도 정도를 몇 단계로 구분한 데이터인지 6단계    \n",
    "#display(data[\"Label\"].unique()) 고유한값\n",
    "#display(data.groupby('Label').count())\n",
    "display(data['Label'].value_counts())\n",
    "\n",
    "# 문제로 사용되는 키와 몸무게의 데이터 범위 파악 140~199 / 110.23~352.736\n",
    "# display(data['Weight(lbs)'].sort_values())\n",
    "display(data.describe())"
   ]
  },
  {
   "cell_type": "code",
   "execution_count": 32,
   "id": "627475b5",
   "metadata": {},
   "outputs": [],
   "source": [
    "# 시각화\n",
    "import seaborn as sns"
   ]
  },
  {
   "cell_type": "code",
   "execution_count": 34,
   "id": "5f7cce5f",
   "metadata": {},
   "outputs": [
    {
     "data": {
      "text/plain": [
       "<AxesSubplot:xlabel='Height', ylabel='Weight(lbs)'>"
      ]
     },
     "execution_count": 34,
     "metadata": {},
     "output_type": "execute_result"
    },
    {
     "data": {
      "image/png": "[encoded data removed]",
      "text/plain": [
       "<Figure size 432x288 with 1 Axes>"
      ]
     },
     "metadata": {
      "needs_background": "light"
     },
     "output_type": "display_data"
    }
   ],
   "source": [
    "sns.scatterplot(data=data, x=\"Height\", y=\"Weight(lbs)\", hue=\"Label\")"
   ]
  },
  {
   "cell_type": "code",
   "execution_count": 35,
   "id": "df35b8ba",
   "metadata": {},
   "outputs": [],
   "source": [
    "# 몸무게를 파운드 -> kg으로 변경\n",
    "data['Weight(kg)']= data['Weight(lbs)']*0.453592"
   ]
  },
  {
   "cell_type": "code",
   "execution_count": 38,
   "id": "52708d87",
   "metadata": {},
   "outputs": [
    {
     "name": "stdout",
     "output_type": "stream",
     "text": [
      "(500, 2) (500,)\n"
     ]
    }
   ],
   "source": [
    "# 문제(x)와 답(y) 구분\n",
    "X= data[['Height','Weight(kg)']]\n",
    "y= data['Label']\n",
    "print(X.shape,y.shape)"
   ]
  },
  {
   "cell_type": "code",
   "execution_count": 39,
   "id": "3dc0154a",
   "metadata": {},
   "outputs": [
    {
     "data": {
      "text/plain": [
       "KNeighborsClassifier()"
      ]
     },
     "execution_count": 39,
     "metadata": {},
     "output_type": "execute_result"
    }
   ],
   "source": [
    "bmi_model.fit(X,y)"
   ]
  },
  {
   "cell_type": "markdown",
   "id": "2a65f7b0",
   "metadata": {},
   "source": [
    "#### 3. 모델 예측"
   ]
  },
  {
   "cell_type": "code",
   "execution_count": 40,
   "id": "11447d9a",
   "metadata": {},
   "outputs": [
    {
     "data": {
      "text/html": [
       "<div>\n",
       "<style scoped>\n",
       "    .dataframe tbody tr th:only-of-type {\n",
       "        vertical-align: middle;\n",
       "    }\n",
       "\n",
       "    .dataframe tbody tr th {\n",
       "        vertical-align: top;\n",
       "    }\n",
       "\n",
       "    .dataframe thead th {\n",
       "        text-align: right;\n",
       "    }\n",
       "</style>\n",
       "<table border=\"1\" class=\"dataframe\">\n",
       "  <thead>\n",
       "    <tr style=\"text-align: right;\">\n",
       "      <th></th>\n",
       "      <th>Height</th>\n",
       "      <th>Weight(kg)</th>\n",
       "    </tr>\n",
       "  </thead>\n",
       "  <tbody>\n",
       "    <tr>\n",
       "      <th>30</th>\n",
       "      <td>153</td>\n",
       "      <td>120.998660</td>\n",
       "    </tr>\n",
       "    <tr>\n",
       "      <th>110</th>\n",
       "      <td>150</td>\n",
       "      <td>69.999225</td>\n",
       "    </tr>\n",
       "    <tr>\n",
       "      <th>150</th>\n",
       "      <td>196</td>\n",
       "      <td>49.999446</td>\n",
       "    </tr>\n",
       "    <tr>\n",
       "      <th>433</th>\n",
       "      <td>179</td>\n",
       "      <td>126.998593</td>\n",
       "    </tr>\n",
       "    <tr>\n",
       "      <th>498</th>\n",
       "      <td>150</td>\n",
       "      <td>94.998948</td>\n",
       "    </tr>\n",
       "  </tbody>\n",
       "</table>\n",
       "</div>"
      ],
      "text/plain": [
       "     Height  Weight(kg)\n",
       "30      153  120.998660\n",
       "110     150   69.999225\n",
       "150     196   49.999446\n",
       "433     179  126.998593\n",
       "498     150   94.998948"
      ]
     },
     "execution_count": 40,
     "metadata": {},
     "output_type": "execute_result"
    }
   ],
   "source": [
    "# 예측하기 위한 데이터\n",
    "# 샘플링 -> 30, 110, 150, 433, 498\n",
    "sample_data=data.iloc[[30, 110, 150, 433, 498],[2,4]]\n",
    "sample_data"
   ]
  },
  {
   "cell_type": "code",
   "execution_count": 41,
   "id": "3476eb1c",
   "metadata": {},
   "outputs": [
    {
     "data": {
      "text/plain": [
       "array(['Extreme Obesity', 'Obesity', 'Extremely Weak', 'Obesity',\n",
       "       'Extreme Obesity'], dtype=object)"
      ]
     },
     "execution_count": 41,
     "metadata": {},
     "output_type": "execute_result"
    }
   ],
   "source": [
    "# 예측하기\n",
    "pre=bmi_model.predict(sample_data)\n",
    "pre"
   ]
  },
  {
   "cell_type": "markdown",
   "id": "e79f7eb6",
   "metadata": {},
   "source": [
    "#### 4. 모델 평가\n",
    "- 정확도(accuracy) : 전체 예측 데이터중에 정확히 맞춘 비율"
   ]
  },
  {
   "cell_type": "code",
   "execution_count": null,
   "id": "f9f5c556",
   "metadata": {},
   "outputs": [],
   "source": []
  },
  {
   "cell_type": "code",
   "execution_count": null,
   "id": "45aa9bfa",
   "metadata": {},
   "outputs": [],
   "source": []
  },
  {
   "cell_type": "code",
   "execution_count": null,
   "id": "8e089a82",
   "metadata": {},
   "outputs": [],
   "source": []
  },
  {
   "cell_type": "code",
   "execution_count": null,
   "id": "a5f47f70",
   "metadata": {},
   "outputs": [],
   "source": []
  },
  {
   "cell_type": "code",
   "execution_count": null,
   "id": "84ebfcdc",
   "metadata": {},
   "outputs": [],
   "source": []
  },
  {
   "cell_type": "code",
   "execution_count": null,
   "id": "955e3a6c",
   "metadata": {},
   "outputs": [],
   "source": []
  }
 ],
 "metadata": {
  "kernelspec": {
   "display_name": "Python 3 (ipykernel)",
   "language": "python",
   "name": "python3"
  },
  "language_info": {
   "codemirror_mode": {
    "name": "ipython",
    "version": 3
   },
   "file_extension": ".py",
   "mimetype": "text/x-python",
   "name": "python",
   "nbconvert_exporter": "python",
   "pygments_lexer": "ipython3",
   "version": "3.9.12"
  }
 },
 "nbformat": 4,
 "nbformat_minor": 5
}

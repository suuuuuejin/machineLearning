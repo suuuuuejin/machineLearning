{
 "cells": [
  {
   "cell_type": "markdown",
   "metadata": {},
   "source": [
    "### 1. flask 연동하기"
   ]
  },
  {
   "cell_type": "code",
   "execution_count": 1,
   "metadata": {},
   "outputs": [
    {
     "name": "stdout",
     "output_type": "stream",
     "text": [
      "Requirement already satisfied: flask in c:\\users\\pipi1\\anaconda3\\lib\\site-packages (1.1.2)\n",
      "Requirement already satisfied: itsdangerous>=0.24 in c:\\users\\pipi1\\anaconda3\\lib\\site-packages (from flask) (2.0.1)\n",
      "Requirement already satisfied: Werkzeug>=0.15 in c:\\users\\pipi1\\anaconda3\\lib\\site-packages (from flask) (2.0.3)\n",
      "Requirement already satisfied: click>=5.1 in c:\\users\\pipi1\\anaconda3\\lib\\site-packages (from flask) (8.0.4)\n",
      "Requirement already satisfied: Jinja2>=2.10.1 in c:\\users\\pipi1\\anaconda3\\lib\\site-packages (from flask) (2.11.3)\n",
      "Requirement already satisfied: colorama in c:\\users\\pipi1\\anaconda3\\lib\\site-packages (from click>=5.1->flask) (0.4.4)\n",
      "Requirement already satisfied: MarkupSafe>=0.23 in c:\\users\\pipi1\\anaconda3\\lib\\site-packages (from Jinja2>=2.10.1->flask) (2.0.1)\n"
     ]
    }
   ],
   "source": [
    "# 분석용 서버 구축을 위한 flask 설치\n",
    "!pip install flask"
   ]
  },
  {
   "cell_type": "code",
   "execution_count": 2,
   "metadata": {},
   "outputs": [
    {
     "name": "stdout",
     "output_type": "stream",
     "text": [
      "Collecting opencv-python\n",
      "  Downloading opencv_python-4.6.0.66-cp36-abi3-win_amd64.whl (35.6 MB)\n",
      "Requirement already satisfied: numpy>=1.14.5 in c:\\users\\pipi1\\anaconda3\\lib\\site-packages (from opencv-python) (1.21.5)\n",
      "Installing collected packages: opencv-python\n",
      "Successfully installed opencv-python-4.6.0.66\n"
     ]
    }
   ],
   "source": [
    "# 영상처리분야에서 많이 쓰이는 라이브러리\n",
    "!pip install opencv-python"
   ]
  },
  {
   "cell_type": "code",
   "execution_count": 2,
   "metadata": {},
   "outputs": [],
   "source": [
    "from flask import Flask, request, Response, redirect\n",
    "import io # 파이썬의 입출력을 도와주는 라이브러리\n",
    "import numpy as np\n",
    "import matplotlib.pyplot as plt\n",
    "import cv2 # opencv\n",
    "import pickle # 모델 로딩용"
   ]
  },
  {
   "cell_type": "code",
   "execution_count": 14,
   "metadata": {},
   "outputs": [
    {
     "name": "stdout",
     "output_type": "stream",
     "text": [
      " * Serving Flask app \"__main__\" (lazy loading)\n",
      " * Environment: production\n",
      "\u001b[31m   WARNING: This is a development server. Do not use it in a production deployment.\u001b[0m\n",
      "\u001b[2m   Use a production WSGI server instead.\u001b[0m\n",
      " * Debug mode: off\n"
     ]
    },
    {
     "name": "stderr",
     "output_type": "stream",
     "text": [
      " * Running on http://192.168.21.246:5001/ (Press CTRL+C to quit)\n",
      "192.168.21.246 - - [05/Oct/2022 12:21:05] \"GET /bye/sj HTTP/1.1\" 200 -\n"
     ]
    }
   ],
   "source": [
    "# 서버생성\n",
    "app = Flask(__name__)\n",
    "\n",
    "# 사용자의 요청에 따라 처리하는 라우터(서블릿 역활)\n",
    "@app.route('/', methods=['GET','POST'])\n",
    "def index():\n",
    "    # get방식 처리 코드\n",
    "    if request.method=='GET':\n",
    "        print(request.args)\n",
    "        return 'Hello {}'.format(request.args['name'])\n",
    "    else:\n",
    "        return 'Hello'\n",
    "@app.route('/bye/<name>')    #rest API 할때 많이 활용하는 방법\n",
    "def bye(name):\n",
    "    return 'byebye {}'.format(name)\n",
    "\n",
    "\n",
    "app.run(host='192.168.21.246', port=5001) # 서버구동   "
   ]
  },
  {
   "cell_type": "markdown",
   "metadata": {},
   "source": [
    "#### 2. 손글씨 예측 서버 구축"
   ]
  },
  {
   "cell_type": "code",
   "execution_count": 8,
   "metadata": {},
   "outputs": [
    {
     "name": "stdout",
     "output_type": "stream",
     "text": [
      " * Serving Flask app \"__main__\" (lazy loading)\n",
      " * Environment: production\n",
      "\u001b[31m   WARNING: This is a development server. Do not use it in a production deployment.\u001b[0m\n",
      "\u001b[2m   Use a production WSGI server instead.\u001b[0m\n",
      " * Debug mode: off\n"
     ]
    },
    {
     "name": "stderr",
     "output_type": "stream",
     "text": [
      " * Running on http://192.168.21.246:5001/ (Press CTRL+C to quit)\n",
      "C:\\Users\\pipi1\\AppData\\Local\\Temp\\ipykernel_18280\\1455977616.py:19: DeprecationWarning: The binary mode of fromstring is deprecated, as it behaves surprisingly on unicode inputs. Use frombuffer instead\n",
      "  data = np.fromstring(input_stream.getvalue(),  #0과 1로 된 데이터들 꺼내옴\n",
      "c:\\Users\\pipi1\\anaconda3\\lib\\site-packages\\sklearn\\base.py:450: UserWarning: X does not have valid feature names, but LogisticRegression was fitted with feature names\n",
      "  warnings.warn(\n",
      "192.168.21.246 - - [06/Oct/2022 10:38:39] \"POST /predict HTTP/1.1\" 302 -\n"
     ]
    },
    {
     "name": "stdout",
     "output_type": "stream",
     "text": [
      "ImmutableMultiDict([('img', <FileStorage: '2.jpg' ('image/jpeg')>)])\n"
     ]
    }
   ],
   "source": [
    "# 학습된 모델 객체 로딩\n",
    "from numpy import resize\n",
    "\n",
    "\n",
    "with open('./digit_model.pkl','rb') as f:\n",
    "    model = pickle.load(f)\n",
    "# 분석용 서버 객체 생성\n",
    "app = Flask(__name__)\n",
    "\n",
    "#route 하기전에 서버 실행 한번 해놓기\n",
    "@app.route(\"/predict\", methods=['POST'])\n",
    "def predict():\n",
    "    # 사진을 받아서 전처리\n",
    "    if request.method == \"POST\":\n",
    "        print(request.files) # 보낸 사진파일은 request객체안에 files에 있다\n",
    "        img = request.files['img']\n",
    "        input_stream = io.BytesIO() # byte단위로 읽어들이는 통로(바이너리 상태로 묶여있음)\n",
    "        img.save(input_stream) # 파일로부터 데이터를 읽기\n",
    "        data = np.fromstring(input_stream.getvalue(),  #0과 1로 된 데이터들 꺼내옴\n",
    "                            dtype=np.uint8)  # unsigned int(음수 사용안하고 양수만 사용) \n",
    "                                             # 한픽셀당 0~255가지 이므로 1byte(8bit)만 있어도 됨\n",
    "        #byte단위의 numpy 데이터를 opencv를 이용해 이미지로 변환\n",
    "        real_img = cv2.imdecode(data, cv2.IMREAD_GRAYSCALE)  # 흑백은 IMREAD_GRAYSCALE(흑백으로 복원해 달라라는 의미)\n",
    "                                                             # 컬러는 IMREAD_COLOR\n",
    "        # # BGR -> RGB (컬러사진일 경우 필요한 단계)\n",
    "        # real_img_rbg = cv2.cvtColor(real_img, cv2.COLOR_BGR2RGB) # opencv는 bgr순서로 불러옴\n",
    "        # display(real_img_rbg)\n",
    "        # plt.imshow(real_img_rbg)\n",
    "        # plt.show()\n",
    "\n",
    "        #모델 예측\n",
    "        resize_img = cv2.resize(real_img, dsize =(28,28),  # 손글씨 크기가 28x28이므로 그거에 맞게 사이즈 변경해줌\n",
    "                                interpolation=cv2.INTER_AREA) # 보간법\n",
    "        # 만약에 학습데이터가 스케일링 되었으면 \n",
    "        # 예측 데이터도 스테일링 작업을 해줘야함\n",
    "\n",
    "        # 모델이 예측하기 위한 numpy타입으로 변경\n",
    "        test = np.array(resize_img).reshape(1,784) # 학습데이터와 모양 동일하게 바꿔줌\n",
    "\n",
    "        # 모델 예측\n",
    "        pre = model.predict(test)\n",
    "\n",
    "    return redirect(\"http://localhost:8081/HandDifitService/result.jsp?pre=\"+str(pre[0]))   # redirect(톰캣주소/java프로젝트파일명)\n",
    " \n",
    "# 서버 실행\n",
    "app.run(host='192.168.21.246', port=5001)"
   ]
  },
  {
   "cell_type": "code",
   "execution_count": null,
   "metadata": {},
   "outputs": [],
   "source": []
  },
  {
   "cell_type": "code",
   "execution_count": null,
   "metadata": {},
   "outputs": [],
   "source": []
  },
  {
   "cell_type": "code",
   "execution_count": null,
   "metadata": {},
   "outputs": [],
   "source": []
  },
  {
   "cell_type": "code",
   "execution_count": null,
   "metadata": {},
   "outputs": [],
   "source": []
  },
  {
   "cell_type": "code",
   "execution_count": null,
   "metadata": {},
   "outputs": [],
   "source": []
  },
  {
   "cell_type": "code",
   "execution_count": null,
   "metadata": {},
   "outputs": [],
   "source": []
  },
  {
   "cell_type": "code",
   "execution_count": null,
   "metadata": {},
   "outputs": [],
   "source": []
  },
  {
   "cell_type": "code",
   "execution_count": null,
   "metadata": {},
   "outputs": [],
   "source": []
  },
  {
   "cell_type": "code",
   "execution_count": null,
   "metadata": {},
   "outputs": [],
   "source": []
  },
  {
   "cell_type": "code",
   "execution_count": null,
   "metadata": {},
   "outputs": [],
   "source": []
  },
  {
   "cell_type": "code",
   "execution_count": null,
   "metadata": {},
   "outputs": [],
   "source": []
  },
  {
   "cell_type": "code",
   "execution_count": null,
   "metadata": {},
   "outputs": [],
   "source": []
  },
  {
   "cell_type": "code",
   "execution_count": null,
   "metadata": {},
   "outputs": [],
   "source": []
  },
  {
   "cell_type": "code",
   "execution_count": null,
   "metadata": {},
   "outputs": [],
   "source": []
  },
  {
   "cell_type": "code",
   "execution_count": null,
   "metadata": {},
   "outputs": [],
   "source": []
  },
  {
   "cell_type": "code",
   "execution_count": null,
   "metadata": {},
   "outputs": [],
   "source": []
  },
  {
   "cell_type": "code",
   "execution_count": null,
   "metadata": {},
   "outputs": [],
   "source": []
  },
  {
   "cell_type": "code",
   "execution_count": null,
   "metadata": {},
   "outputs": [],
   "source": []
  },
  {
   "cell_type": "code",
   "execution_count": null,
   "metadata": {},
   "outputs": [],
   "source": []
  },
  {
   "cell_type": "code",
   "execution_count": null,
   "metadata": {},
   "outputs": [],
   "source": []
  },
  {
   "cell_type": "code",
   "execution_count": null,
   "metadata": {},
   "outputs": [],
   "source": []
  },
  {
   "cell_type": "code",
   "execution_count": null,
   "metadata": {},
   "outputs": [],
   "source": []
  },
  {
   "cell_type": "code",
   "execution_count": null,
   "metadata": {},
   "outputs": [],
   "source": []
  }
 ],
 "metadata": {
  "kernelspec": {
   "display_name": "Python 3.9.12 ('base')",
   "language": "python",
   "name": "python3"
  },
  "language_info": {
   "codemirror_mode": {
    "name": "ipython",
    "version": 3
   },
   "file_extension": ".py",
   "mimetype": "text/x-python",
   "name": "python",
   "nbconvert_exporter": "python",
   "pygments_lexer": "ipython3",
   "version": "3.9.12"
  },
  "orig_nbformat": 4,
  "vscode": {
   "interpreter": {
    "hash": "a9d8fbd2622250be90e11d7629650d111e02c5b989647467f2b91c323a6d7e8d"
   }
  }
 },
 "nbformat": 4,
 "nbformat_minor": 2
}

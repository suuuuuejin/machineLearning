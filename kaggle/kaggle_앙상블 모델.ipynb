{
 "cells": [
  {
   "cell_type": "markdown",
   "id": "63315ecb",
   "metadata": {},
   "source": [
    "#### 전처리된 데이터 파일 로딩"
   ]
  },
  {
   "cell_type": "code",
   "execution_count": 44,
   "id": "9864cda4",
   "metadata": {},
   "outputs": [],
   "source": [
    "import numpy as np\n",
    "import pandas as pd\n",
    "import matplotlib.pyplot as plt"
   ]
  },
  {
   "cell_type": "code",
   "execution_count": 45,
   "id": "83e54a33",
   "metadata": {},
   "outputs": [
    {
     "data": {
      "text/html": [
       "<div>\n",
       "<style scoped>\n",
       "    .dataframe tbody tr th:only-of-type {\n",
       "        vertical-align: middle;\n",
       "    }\n",
       "\n",
       "    .dataframe tbody tr th {\n",
       "        vertical-align: top;\n",
       "    }\n",
       "\n",
       "    .dataframe thead th {\n",
       "        text-align: right;\n",
       "    }\n",
       "</style>\n",
       "<table border=\"1\" class=\"dataframe\">\n",
       "  <thead>\n",
       "    <tr style=\"text-align: right;\">\n",
       "      <th></th>\n",
       "      <th>age</th>\n",
       "      <th>capital-gain</th>\n",
       "      <th>capital-loss</th>\n",
       "      <th>education-num</th>\n",
       "      <th>education_ 10th</th>\n",
       "      <th>education_ 11th</th>\n",
       "      <th>education_ 12th</th>\n",
       "      <th>education_ 1st-4th</th>\n",
       "      <th>education_ 5th-6th</th>\n",
       "      <th>education_ 7th-8th</th>\n",
       "      <th>...</th>\n",
       "      <th>sex_ Male</th>\n",
       "      <th>workclass_ Federal-gov</th>\n",
       "      <th>workclass_ Local-gov</th>\n",
       "      <th>workclass_ Never-worked</th>\n",
       "      <th>workclass_ Private</th>\n",
       "      <th>workclass_ Self-emp-inc</th>\n",
       "      <th>workclass_ Self-emp-not-inc</th>\n",
       "      <th>workclass_ State-gov</th>\n",
       "      <th>workclass_ Without-pay</th>\n",
       "      <th>workclass_ private</th>\n",
       "    </tr>\n",
       "    <tr>\n",
       "      <th>no</th>\n",
       "      <th></th>\n",
       "      <th></th>\n",
       "      <th></th>\n",
       "      <th></th>\n",
       "      <th></th>\n",
       "      <th></th>\n",
       "      <th></th>\n",
       "      <th></th>\n",
       "      <th></th>\n",
       "      <th></th>\n",
       "      <th></th>\n",
       "      <th></th>\n",
       "      <th></th>\n",
       "      <th></th>\n",
       "      <th></th>\n",
       "      <th></th>\n",
       "      <th></th>\n",
       "      <th></th>\n",
       "      <th></th>\n",
       "      <th></th>\n",
       "      <th></th>\n",
       "    </tr>\n",
       "  </thead>\n",
       "  <tbody>\n",
       "    <tr>\n",
       "      <th>1</th>\n",
       "      <td>25</td>\n",
       "      <td>0</td>\n",
       "      <td>0</td>\n",
       "      <td>7</td>\n",
       "      <td>0</td>\n",
       "      <td>1</td>\n",
       "      <td>0</td>\n",
       "      <td>0</td>\n",
       "      <td>0</td>\n",
       "      <td>0</td>\n",
       "      <td>...</td>\n",
       "      <td>1</td>\n",
       "      <td>0</td>\n",
       "      <td>0</td>\n",
       "      <td>0</td>\n",
       "      <td>1</td>\n",
       "      <td>0</td>\n",
       "      <td>0</td>\n",
       "      <td>0</td>\n",
       "      <td>0</td>\n",
       "      <td>0</td>\n",
       "    </tr>\n",
       "    <tr>\n",
       "      <th>2</th>\n",
       "      <td>39</td>\n",
       "      <td>0</td>\n",
       "      <td>1721</td>\n",
       "      <td>10</td>\n",
       "      <td>0</td>\n",
       "      <td>0</td>\n",
       "      <td>0</td>\n",
       "      <td>0</td>\n",
       "      <td>0</td>\n",
       "      <td>0</td>\n",
       "      <td>...</td>\n",
       "      <td>0</td>\n",
       "      <td>0</td>\n",
       "      <td>0</td>\n",
       "      <td>0</td>\n",
       "      <td>1</td>\n",
       "      <td>0</td>\n",
       "      <td>0</td>\n",
       "      <td>0</td>\n",
       "      <td>0</td>\n",
       "      <td>0</td>\n",
       "    </tr>\n",
       "    <tr>\n",
       "      <th>3</th>\n",
       "      <td>35</td>\n",
       "      <td>0</td>\n",
       "      <td>0</td>\n",
       "      <td>13</td>\n",
       "      <td>0</td>\n",
       "      <td>0</td>\n",
       "      <td>0</td>\n",
       "      <td>0</td>\n",
       "      <td>0</td>\n",
       "      <td>0</td>\n",
       "      <td>...</td>\n",
       "      <td>0</td>\n",
       "      <td>0</td>\n",
       "      <td>0</td>\n",
       "      <td>0</td>\n",
       "      <td>1</td>\n",
       "      <td>0</td>\n",
       "      <td>0</td>\n",
       "      <td>0</td>\n",
       "      <td>0</td>\n",
       "      <td>0</td>\n",
       "    </tr>\n",
       "    <tr>\n",
       "      <th>4</th>\n",
       "      <td>64</td>\n",
       "      <td>0</td>\n",
       "      <td>0</td>\n",
       "      <td>11</td>\n",
       "      <td>0</td>\n",
       "      <td>0</td>\n",
       "      <td>0</td>\n",
       "      <td>0</td>\n",
       "      <td>0</td>\n",
       "      <td>0</td>\n",
       "      <td>...</td>\n",
       "      <td>0</td>\n",
       "      <td>0</td>\n",
       "      <td>0</td>\n",
       "      <td>0</td>\n",
       "      <td>1</td>\n",
       "      <td>0</td>\n",
       "      <td>0</td>\n",
       "      <td>0</td>\n",
       "      <td>0</td>\n",
       "      <td>0</td>\n",
       "    </tr>\n",
       "    <tr>\n",
       "      <th>5</th>\n",
       "      <td>24</td>\n",
       "      <td>0</td>\n",
       "      <td>0</td>\n",
       "      <td>10</td>\n",
       "      <td>0</td>\n",
       "      <td>0</td>\n",
       "      <td>0</td>\n",
       "      <td>0</td>\n",
       "      <td>0</td>\n",
       "      <td>0</td>\n",
       "      <td>...</td>\n",
       "      <td>1</td>\n",
       "      <td>0</td>\n",
       "      <td>0</td>\n",
       "      <td>0</td>\n",
       "      <td>1</td>\n",
       "      <td>0</td>\n",
       "      <td>0</td>\n",
       "      <td>0</td>\n",
       "      <td>0</td>\n",
       "      <td>0</td>\n",
       "    </tr>\n",
       "  </tbody>\n",
       "</table>\n",
       "<p>5 rows × 107 columns</p>\n",
       "</div>"
      ],
      "text/plain": [
       "    age  capital-gain  capital-loss  education-num  education_ 10th  \\\n",
       "no                                                                    \n",
       "1    25             0             0              7                0   \n",
       "2    39             0          1721             10                0   \n",
       "3    35             0             0             13                0   \n",
       "4    64             0             0             11                0   \n",
       "5    24             0             0             10                0   \n",
       "\n",
       "    education_ 11th  education_ 12th  education_ 1st-4th  education_ 5th-6th  \\\n",
       "no                                                                             \n",
       "1                 1                0                   0                   0   \n",
       "2                 0                0                   0                   0   \n",
       "3                 0                0                   0                   0   \n",
       "4                 0                0                   0                   0   \n",
       "5                 0                0                   0                   0   \n",
       "\n",
       "    education_ 7th-8th  ...  sex_ Male  workclass_ Federal-gov  \\\n",
       "no                      ...                                      \n",
       "1                    0  ...          1                       0   \n",
       "2                    0  ...          0                       0   \n",
       "3                    0  ...          0                       0   \n",
       "4                    0  ...          0                       0   \n",
       "5                    0  ...          1                       0   \n",
       "\n",
       "    workclass_ Local-gov  workclass_ Never-worked  workclass_ Private  \\\n",
       "no                                                                      \n",
       "1                      0                        0                   1   \n",
       "2                      0                        0                   1   \n",
       "3                      0                        0                   1   \n",
       "4                      0                        0                   1   \n",
       "5                      0                        0                   1   \n",
       "\n",
       "    workclass_ Self-emp-inc  workclass_ Self-emp-not-inc  \\\n",
       "no                                                         \n",
       "1                         0                            0   \n",
       "2                         0                            0   \n",
       "3                         0                            0   \n",
       "4                         0                            0   \n",
       "5                         0                            0   \n",
       "\n",
       "    workclass_ State-gov  workclass_ Without-pay  workclass_ private  \n",
       "no                                                                    \n",
       "1                      0                       0                   0  \n",
       "2                      0                       0                   0  \n",
       "3                      0                       0                   0  \n",
       "4                      0                       0                   0  \n",
       "5                      0                       0                   0  \n",
       "\n",
       "[5 rows x 107 columns]"
      ]
     },
     "execution_count": 45,
     "metadata": {},
     "output_type": "execute_result"
    }
   ],
   "source": [
    "X_train = pd.read_csv(\"./data/salary/preprocessing_X_train1.csv\",\n",
    "                     index_col='no')\n",
    "X_train.head()"
   ]
  },
  {
   "cell_type": "code",
   "execution_count": 46,
   "id": "a3487887",
   "metadata": {},
   "outputs": [
    {
     "data": {
      "text/html": [
       "<div>\n",
       "<style scoped>\n",
       "    .dataframe tbody tr th:only-of-type {\n",
       "        vertical-align: middle;\n",
       "    }\n",
       "\n",
       "    .dataframe tbody tr th {\n",
       "        vertical-align: top;\n",
       "    }\n",
       "\n",
       "    .dataframe thead th {\n",
       "        text-align: right;\n",
       "    }\n",
       "</style>\n",
       "<table border=\"1\" class=\"dataframe\">\n",
       "  <thead>\n",
       "    <tr style=\"text-align: right;\">\n",
       "      <th></th>\n",
       "      <th>age</th>\n",
       "      <th>capital-gain</th>\n",
       "      <th>capital-loss</th>\n",
       "      <th>education-num</th>\n",
       "      <th>education_ 10th</th>\n",
       "      <th>education_ 11th</th>\n",
       "      <th>education_ 12th</th>\n",
       "      <th>education_ 1st-4th</th>\n",
       "      <th>education_ 5th-6th</th>\n",
       "      <th>education_ 7th-8th</th>\n",
       "      <th>...</th>\n",
       "      <th>workclass_ Federal-gov</th>\n",
       "      <th>workclass_ Local-gov</th>\n",
       "      <th>workclass_ Never-worked</th>\n",
       "      <th>workclass_ Private</th>\n",
       "      <th>workclass_ Self-emp-inc</th>\n",
       "      <th>workclass_ Self-emp-not-inc</th>\n",
       "      <th>workclass_ State-gov</th>\n",
       "      <th>workclass_ Without-pay</th>\n",
       "      <th>workclass_ private</th>\n",
       "      <th>native-country_ Holand-Netherlands</th>\n",
       "    </tr>\n",
       "    <tr>\n",
       "      <th>no</th>\n",
       "      <th></th>\n",
       "      <th></th>\n",
       "      <th></th>\n",
       "      <th></th>\n",
       "      <th></th>\n",
       "      <th></th>\n",
       "      <th></th>\n",
       "      <th></th>\n",
       "      <th></th>\n",
       "      <th></th>\n",
       "      <th></th>\n",
       "      <th></th>\n",
       "      <th></th>\n",
       "      <th></th>\n",
       "      <th></th>\n",
       "      <th></th>\n",
       "      <th></th>\n",
       "      <th></th>\n",
       "      <th></th>\n",
       "      <th></th>\n",
       "      <th></th>\n",
       "    </tr>\n",
       "  </thead>\n",
       "  <tbody>\n",
       "    <tr>\n",
       "      <th>29306</th>\n",
       "      <td>18</td>\n",
       "      <td>0</td>\n",
       "      <td>0</td>\n",
       "      <td>10</td>\n",
       "      <td>0</td>\n",
       "      <td>0</td>\n",
       "      <td>0</td>\n",
       "      <td>0</td>\n",
       "      <td>0</td>\n",
       "      <td>0</td>\n",
       "      <td>...</td>\n",
       "      <td>0</td>\n",
       "      <td>0</td>\n",
       "      <td>0</td>\n",
       "      <td>0</td>\n",
       "      <td>0</td>\n",
       "      <td>0</td>\n",
       "      <td>0</td>\n",
       "      <td>0</td>\n",
       "      <td>1</td>\n",
       "      <td>0</td>\n",
       "    </tr>\n",
       "    <tr>\n",
       "      <th>29307</th>\n",
       "      <td>29</td>\n",
       "      <td>0</td>\n",
       "      <td>0</td>\n",
       "      <td>9</td>\n",
       "      <td>0</td>\n",
       "      <td>0</td>\n",
       "      <td>0</td>\n",
       "      <td>0</td>\n",
       "      <td>0</td>\n",
       "      <td>0</td>\n",
       "      <td>...</td>\n",
       "      <td>0</td>\n",
       "      <td>0</td>\n",
       "      <td>0</td>\n",
       "      <td>1</td>\n",
       "      <td>0</td>\n",
       "      <td>0</td>\n",
       "      <td>0</td>\n",
       "      <td>0</td>\n",
       "      <td>0</td>\n",
       "      <td>0</td>\n",
       "    </tr>\n",
       "    <tr>\n",
       "      <th>29308</th>\n",
       "      <td>45</td>\n",
       "      <td>0</td>\n",
       "      <td>0</td>\n",
       "      <td>13</td>\n",
       "      <td>0</td>\n",
       "      <td>0</td>\n",
       "      <td>0</td>\n",
       "      <td>0</td>\n",
       "      <td>0</td>\n",
       "      <td>0</td>\n",
       "      <td>...</td>\n",
       "      <td>0</td>\n",
       "      <td>0</td>\n",
       "      <td>0</td>\n",
       "      <td>1</td>\n",
       "      <td>0</td>\n",
       "      <td>0</td>\n",
       "      <td>0</td>\n",
       "      <td>0</td>\n",
       "      <td>0</td>\n",
       "      <td>0</td>\n",
       "    </tr>\n",
       "    <tr>\n",
       "      <th>29309</th>\n",
       "      <td>42</td>\n",
       "      <td>0</td>\n",
       "      <td>0</td>\n",
       "      <td>13</td>\n",
       "      <td>0</td>\n",
       "      <td>0</td>\n",
       "      <td>0</td>\n",
       "      <td>0</td>\n",
       "      <td>0</td>\n",
       "      <td>0</td>\n",
       "      <td>...</td>\n",
       "      <td>0</td>\n",
       "      <td>0</td>\n",
       "      <td>0</td>\n",
       "      <td>0</td>\n",
       "      <td>0</td>\n",
       "      <td>1</td>\n",
       "      <td>0</td>\n",
       "      <td>0</td>\n",
       "      <td>0</td>\n",
       "      <td>0</td>\n",
       "    </tr>\n",
       "    <tr>\n",
       "      <th>29310</th>\n",
       "      <td>41</td>\n",
       "      <td>0</td>\n",
       "      <td>1902</td>\n",
       "      <td>16</td>\n",
       "      <td>0</td>\n",
       "      <td>0</td>\n",
       "      <td>0</td>\n",
       "      <td>0</td>\n",
       "      <td>0</td>\n",
       "      <td>0</td>\n",
       "      <td>...</td>\n",
       "      <td>0</td>\n",
       "      <td>0</td>\n",
       "      <td>0</td>\n",
       "      <td>1</td>\n",
       "      <td>0</td>\n",
       "      <td>0</td>\n",
       "      <td>0</td>\n",
       "      <td>0</td>\n",
       "      <td>0</td>\n",
       "      <td>0</td>\n",
       "    </tr>\n",
       "  </tbody>\n",
       "</table>\n",
       "<p>5 rows × 107 columns</p>\n",
       "</div>"
      ],
      "text/plain": [
       "       age  capital-gain  capital-loss  education-num  education_ 10th  \\\n",
       "no                                                                       \n",
       "29306   18             0             0             10                0   \n",
       "29307   29             0             0              9                0   \n",
       "29308   45             0             0             13                0   \n",
       "29309   42             0             0             13                0   \n",
       "29310   41             0          1902             16                0   \n",
       "\n",
       "       education_ 11th  education_ 12th  education_ 1st-4th  \\\n",
       "no                                                            \n",
       "29306                0                0                   0   \n",
       "29307                0                0                   0   \n",
       "29308                0                0                   0   \n",
       "29309                0                0                   0   \n",
       "29310                0                0                   0   \n",
       "\n",
       "       education_ 5th-6th  education_ 7th-8th  ...  workclass_ Federal-gov  \\\n",
       "no                                             ...                           \n",
       "29306                   0                   0  ...                       0   \n",
       "29307                   0                   0  ...                       0   \n",
       "29308                   0                   0  ...                       0   \n",
       "29309                   0                   0  ...                       0   \n",
       "29310                   0                   0  ...                       0   \n",
       "\n",
       "       workclass_ Local-gov  workclass_ Never-worked  workclass_ Private  \\\n",
       "no                                                                         \n",
       "29306                     0                        0                   0   \n",
       "29307                     0                        0                   1   \n",
       "29308                     0                        0                   1   \n",
       "29309                     0                        0                   0   \n",
       "29310                     0                        0                   1   \n",
       "\n",
       "       workclass_ Self-emp-inc  workclass_ Self-emp-not-inc  \\\n",
       "no                                                            \n",
       "29306                        0                            0   \n",
       "29307                        0                            0   \n",
       "29308                        0                            0   \n",
       "29309                        0                            1   \n",
       "29310                        0                            0   \n",
       "\n",
       "       workclass_ State-gov  workclass_ Without-pay  workclass_ private  \\\n",
       "no                                                                        \n",
       "29306                     0                       0                   1   \n",
       "29307                     0                       0                   0   \n",
       "29308                     0                       0                   0   \n",
       "29309                     0                       0                   0   \n",
       "29310                     0                       0                   0   \n",
       "\n",
       "       native-country_ Holand-Netherlands  \n",
       "no                                         \n",
       "29306                                   0  \n",
       "29307                                   0  \n",
       "29308                                   0  \n",
       "29309                                   0  \n",
       "29310                                   0  \n",
       "\n",
       "[5 rows x 107 columns]"
      ]
     },
     "execution_count": 46,
     "metadata": {},
     "output_type": "execute_result"
    }
   ],
   "source": [
    "X_test = pd.read_csv(\"./data/salary/preprocessing_X_test1.csv\",\n",
    "                     index_col='no')\n",
    "X_test.head()"
   ]
  },
  {
   "cell_type": "code",
   "execution_count": 47,
   "id": "d763dddd",
   "metadata": {},
   "outputs": [
    {
     "data": {
      "text/html": [
       "<div>\n",
       "<style scoped>\n",
       "    .dataframe tbody tr th:only-of-type {\n",
       "        vertical-align: middle;\n",
       "    }\n",
       "\n",
       "    .dataframe tbody tr th {\n",
       "        vertical-align: top;\n",
       "    }\n",
       "\n",
       "    .dataframe thead th {\n",
       "        text-align: right;\n",
       "    }\n",
       "</style>\n",
       "<table border=\"1\" class=\"dataframe\">\n",
       "  <thead>\n",
       "    <tr style=\"text-align: right;\">\n",
       "      <th></th>\n",
       "      <th>income</th>\n",
       "    </tr>\n",
       "    <tr>\n",
       "      <th>no</th>\n",
       "      <th></th>\n",
       "    </tr>\n",
       "  </thead>\n",
       "  <tbody>\n",
       "    <tr>\n",
       "      <th>1</th>\n",
       "      <td>0</td>\n",
       "    </tr>\n",
       "    <tr>\n",
       "      <th>2</th>\n",
       "      <td>0</td>\n",
       "    </tr>\n",
       "    <tr>\n",
       "      <th>3</th>\n",
       "      <td>0</td>\n",
       "    </tr>\n",
       "    <tr>\n",
       "      <th>4</th>\n",
       "      <td>0</td>\n",
       "    </tr>\n",
       "    <tr>\n",
       "      <th>5</th>\n",
       "      <td>1</td>\n",
       "    </tr>\n",
       "  </tbody>\n",
       "</table>\n",
       "</div>"
      ],
      "text/plain": [
       "    income\n",
       "no        \n",
       "1        0\n",
       "2        0\n",
       "3        0\n",
       "4        0\n",
       "5        1"
      ]
     },
     "execution_count": 47,
     "metadata": {},
     "output_type": "execute_result"
    }
   ],
   "source": [
    "y_train = pd.read_csv(\"./data/salary/y_train1.csv\",\n",
    "                     index_col='no')\n",
    "y_train.head()"
   ]
  },
  {
   "cell_type": "markdown",
   "id": "c1bb752f",
   "metadata": {},
   "source": [
    "### 목표\n",
    "- 앙상블 모델의 개념을 이해\n",
    "- 교차검증에 대한 이해\n",
    "- GridSearch(최적화를 도와줌)를 이용한 하이퍼파라미터 튜닝 실습"
   ]
  },
  {
   "cell_type": "markdown",
   "id": "037ee1dc",
   "metadata": {},
   "source": [
    "#### 앙상블\n",
    "- 단일 모델로 예측한 결과보다 더 좋은 성능을 내기위해 여러 모델을 묶어서 예측해보는 기법\n",
    "- 앙상블 기법\n",
    "    1. 보팅(Voting)\n",
    "        - 서로다른 알고리즘의 모델을 학습시켜 예측결과를 투표하는 방법\n",
    "        - 앙상블의 가장 기본 원리\n",
    "        - 하드보팅(결과로 투포)과 소프트보팅(평균으로 결정)으로 나뉜다.\n",
    "    2. 배깅(Bagging)\n",
    "        - 같은 알고리즘을 가진 모델을 학습시켜 예측결과를 투표하는 방법\n",
    "        - 학습데이터를 모델마다 다르게 준비(부트스트래핑)\n",
    "        - 학습에 사용되는 컬럼을 다르게 랜덤선택\n",
    "        - tree기반의 배깅모델 -> 랜덤포레스트\n",
    "        - 병렬학습을 해서 상대적으로 속도가 빠르다.\n",
    "    3. 부스팅(Boosting)\n",
    "        - 같은 알고리즘을 가진 모델을 학습시켜 예측결과를 투표하는 방법\n",
    "        - 이전 모델이 잘못 예측한 부분을 다음 모델이 강조해서 학습하는 방법사용\n",
    "        - 순차적인 학습을 하기때문에 속도가 느리다."
   ]
  },
  {
   "cell_type": "markdown",
   "id": "140f4279",
   "metadata": {},
   "source": [
    "#### 배깅모델"
   ]
  },
  {
   "cell_type": "code",
   "execution_count": 48,
   "id": "288d2621",
   "metadata": {},
   "outputs": [],
   "source": [
    "from sklearn.ensemble import RandomForestClassifier"
   ]
  },
  {
   "cell_type": "code",
   "execution_count": 15,
   "id": "409eaf68",
   "metadata": {},
   "outputs": [],
   "source": [
    "rf_model = RandomForestClassifier(random_state=923, # 랜덤 수 고정\n",
    "                                 n_estimators=1000, # 앙상블할 모델의 갯수 \n",
    "                                 max_features=0.6, # 학습에 사용할 특성 수\n",
    "                                 max_depth=15) # 트리의 깊이 설정 "
   ]
  },
  {
   "cell_type": "code",
   "execution_count": 16,
   "id": "23919d2d",
   "metadata": {},
   "outputs": [
    {
     "name": "stderr",
     "output_type": "stream",
     "text": [
      "C:\\Users\\pipi1\\AppData\\Local\\Temp\\ipykernel_1788\\764246711.py:1: DataConversionWarning: A column-vector y was passed when a 1d array was expected. Please change the shape of y to (n_samples,), for example using ravel().\n",
      "  rf_model.fit(X_train,y_train)\n"
     ]
    },
    {
     "data": {
      "text/plain": [
       "RandomForestClassifier(max_depth=15, max_features=0.6, n_estimators=1000,\n",
       "                       random_state=923)"
      ]
     },
     "execution_count": 16,
     "metadata": {},
     "output_type": "execute_result"
    }
   ],
   "source": [
    "rf_model.fit(X_train,y_train)"
   ]
  },
  {
   "cell_type": "code",
   "execution_count": 17,
   "id": "944e6fe0",
   "metadata": {},
   "outputs": [],
   "source": [
    "rf_pre = rf_model.predict(X_test)"
   ]
  },
  {
   "cell_type": "code",
   "execution_count": 18,
   "id": "e34099a2",
   "metadata": {},
   "outputs": [],
   "source": [
    "# 결과 업로드\n",
    "submission = pd.read_csv(\"./data/salary/sample_submission.csv\")\n",
    "submission[\"income\"] = rf_pre\n",
    "submission.to_csv(\"./data/salary/rf_prediction1.csv\",\n",
    "                 index=False)"
   ]
  },
  {
   "cell_type": "markdown",
   "id": "f261e3d5",
   "metadata": {},
   "source": [
    "#### 교차검증\n",
    "- 모델의 일반화를 위해서 데이터를 훈련, 검증, 평가 셋으로 분리\n",
    "- 검증셋이 여러개 있어서 모델의 신뢰도를 확보 할 수 있으면 좋다.\n",
    "- 하지만 데이터양이 충분하지 않은 경우가 많아서 교차검증 기법을 많이 사용\n",
    "- 교차검증 기법중에서도 k-fold cross validation기법이 일반적으로 쓰임"
   ]
  },
  {
   "cell_type": "code",
   "execution_count": 5,
   "id": "287c461a",
   "metadata": {
    "collapsed": true
   },
   "outputs": [
    {
     "ename": "NameError",
     "evalue": "name 'rf_model' is not defined",
     "output_type": "error",
     "traceback": [
      "\u001b[1;31m---------------------------------------------------------------------------\u001b[0m",
      "\u001b[1;31mNameError\u001b[0m                                 Traceback (most recent call last)",
      "\u001b[1;32mc:\\Users\\pipi1\\머신러닝\\kaggle_앙상블 모델.ipynb 셀 15\u001b[0m in \u001b[0;36m<cell line: 2>\u001b[1;34m()\u001b[0m\n\u001b[0;32m      <a href='vscode-notebook-cell:/c%3A/Users/pipi1/%EB%A8%B8%EC%8B%A0%EB%9F%AC%EB%8B%9D/kaggle_%EC%95%99%EC%83%81%EB%B8%94%20%EB%AA%A8%EB%8D%B8.ipynb#X20sZmlsZQ%3D%3D?line=0'>1</a>\u001b[0m \u001b[39mfrom\u001b[39;00m \u001b[39msklearn\u001b[39;00m\u001b[39m.\u001b[39;00m\u001b[39mmodel_selection\u001b[39;00m \u001b[39mimport\u001b[39;00m cross_val_score\n\u001b[1;32m----> <a href='vscode-notebook-cell:/c%3A/Users/pipi1/%EB%A8%B8%EC%8B%A0%EB%9F%AC%EB%8B%9D/kaggle_%EC%95%99%EC%83%81%EB%B8%94%20%EB%AA%A8%EB%8D%B8.ipynb#X20sZmlsZQ%3D%3D?line=1'>2</a>\u001b[0m cross_score \u001b[39m=\u001b[39m cross_val_score(rf_model,X_train,y_train,cv\u001b[39m=\u001b[39m\u001b[39m5\u001b[39m)\n",
      "\u001b[1;31mNameError\u001b[0m: name 'rf_model' is not defined"
     ]
    }
   ],
   "source": [
    "from sklearn.model_selection import cross_val_score\n",
    "cross_score = cross_val_score(rf_model,X_train,y_train,cv=5)"
   ]
  },
  {
   "cell_type": "code",
   "execution_count": 20,
   "id": "571fd58d",
   "metadata": {},
   "outputs": [
    {
     "data": {
      "text/plain": [
       "0.853983961781266"
      ]
     },
     "execution_count": 20,
     "metadata": {},
     "output_type": "execute_result"
    }
   ],
   "source": [
    "cross_score.mean()"
   ]
  },
  {
   "cell_type": "markdown",
   "id": "4c4a0572",
   "metadata": {},
   "source": [
    "#### GridSearch를 이용한 모델최적화(하이퍼파라미터튜닝)\n",
    "- 특정 검증데이터에서만 좋은 하이퍼파라미터보다는 \n",
    "- 여러 검증데이터에서 좋은 하이퍼파라미터를 선택하는게 일반화에 도움이 되기 떄문에 모델최적화에서도 교차검증을 적용해서 사용한다."
   ]
  },
  {
   "cell_type": "code",
   "execution_count": 21,
   "id": "bf2e2446",
   "metadata": {},
   "outputs": [],
   "source": [
    "from sklearn.model_selection import GridSearchCV"
   ]
  },
  {
   "cell_type": "code",
   "execution_count": 22,
   "id": "e4d4f747",
   "metadata": {},
   "outputs": [],
   "source": [
    "# 모델 최적화(하이퍼파라미터튜닝)를 할 객체 생성\n",
    "model2 = RandomForestClassifier(random_state=0)\n",
    "# 파라미터 조합\n",
    "pram_grid = {\n",
    "    'max_depth' : [5, 10, 15, 20],\n",
    "    'n_estimators' : [500, 1000, 1500, 2000],\n",
    "    'max_features' : [0.5, 0.7, 0.8]\n",
    "}  # 총 4x4x3 개"
   ]
  },
  {
   "cell_type": "code",
   "execution_count": 23,
   "id": "c681e074",
   "metadata": {},
   "outputs": [],
   "source": [
    "grid = GridSearchCV(model2,   #튜닝할 모델\n",
    "                    pram_grid, # 튜닝해볼 파라미터 조합\n",
    "                    cv=3, # 교차검증 횟수\n",
    "                    n_jobs=-1)  # 연산에 사용할 pc코어 수(-1 = 모든 피씨의 연산을 여기에 집중시키겠다)\n",
    "                    # 총 파라미터 조합갯수 x 교차검증횟수(cv)"
   ]
  },
  {
   "cell_type": "code",
   "execution_count": 24,
   "id": "19293176",
   "metadata": {},
   "outputs": [
    {
     "name": "stderr",
     "output_type": "stream",
     "text": [
      "c:\\Users\\pipi1\\anaconda3\\lib\\site-packages\\sklearn\\model_selection\\_search.py:926: DataConversionWarning: A column-vector y was passed when a 1d array was expected. Please change the shape of y to (n_samples,), for example using ravel().\n",
      "  self.best_estimator_.fit(X, y, **fit_params)\n"
     ]
    },
    {
     "data": {
      "text/plain": [
       "GridSearchCV(cv=3, estimator=RandomForestClassifier(random_state=0), n_jobs=-1,\n",
       "             param_grid={'max_depth': [5, 10, 15, 20],\n",
       "                         'max_features': [0.5, 0.7, 0.8],\n",
       "                         'n_estimators': [500, 1000, 1500, 2000]})"
      ]
     },
     "execution_count": 24,
     "metadata": {},
     "output_type": "execute_result"
    }
   ],
   "source": [
    "grid.fit(X_train,y_train)"
   ]
  },
  {
   "cell_type": "code",
   "execution_count": 25,
   "id": "52306b85",
   "metadata": {},
   "outputs": [
    {
     "name": "stdout",
     "output_type": "stream",
     "text": [
      "최고 점수 0.8572256428997139\n",
      "최고 조합 {'max_depth': 10, 'max_features': 0.8, 'n_estimators': 1000}\n"
     ]
    }
   ],
   "source": [
    "print(\"최고 점수\",grid.best_score_)\n",
    "print(\"최고 조합\",grid.best_params_)"
   ]
  },
  {
   "cell_type": "code",
   "execution_count": 26,
   "id": "9382644b",
   "metadata": {},
   "outputs": [],
   "source": [
    "# 학습이 완료된 최고 조합 모델\n",
    "best_rf = grid.best_estimator_"
   ]
  },
  {
   "cell_type": "code",
   "execution_count": 27,
   "id": "00abb78b",
   "metadata": {},
   "outputs": [],
   "source": [
    "pre_test=best_rf.predict(X_test)"
   ]
  },
  {
   "cell_type": "code",
   "execution_count": 28,
   "id": "37364d75",
   "metadata": {},
   "outputs": [],
   "source": [
    "# 결과 업로드\n",
    "submission = pd.read_csv(\"./data/salary/sample_submission.csv\")\n",
    "submission[\"income\"] = pre_test\n",
    "submission.to_csv(\"./data/salary/rf_prediction2.csv\",\n",
    "                 index=False)"
   ]
  },
  {
   "cell_type": "markdown",
   "id": "3f1f83f9",
   "metadata": {},
   "source": [
    "#### 부스팅 모델"
   ]
  },
  {
   "cell_type": "code",
   "execution_count": 2,
   "id": "e6657810",
   "metadata": {},
   "outputs": [],
   "source": [
    "from sklearn.ensemble import GradientBoostingClassifier"
   ]
  },
  {
   "cell_type": "code",
   "execution_count": 3,
   "id": "ea30e221",
   "metadata": {},
   "outputs": [],
   "source": [
    "gbtree = GradientBoostingClassifier(n_estimators=100, # 나무의 갯수, 순차적으로 나무가 100번 만들어짐\n",
    "                                    learning_rate=0.1, # 다음 트리에 반영할 오차 정도, 이전 트리에서 잘못한것을 다음트리한테 얼마나 반영할건지(0.1= 10%만 반영)\n",
    "                                    max_depth=5, #나무의 최대깊이\n",
    "                                    subsample=1 #학슴에 사용할 데이터의 비율\n",
    "                                   )"
   ]
  },
  {
   "cell_type": "code",
   "execution_count": 4,
   "id": "78254c29",
   "metadata": {},
   "outputs": [
    {
     "ename": "NameError",
     "evalue": "name 'X_train' is not defined",
     "output_type": "error",
     "traceback": [
      "\u001b[1;31m---------------------------------------------------------------------------\u001b[0m",
      "\u001b[1;31mNameError\u001b[0m                                 Traceback (most recent call last)",
      "\u001b[1;32mc:\\Users\\pipi1\\머신러닝\\kaggle_앙상블 모델.ipynb 셀 29\u001b[0m in \u001b[0;36m<cell line: 1>\u001b[1;34m()\u001b[0m\n\u001b[1;32m----> <a href='vscode-notebook-cell:/c%3A/Users/pipi1/%EB%A8%B8%EC%8B%A0%EB%9F%AC%EB%8B%9D/kaggle_%EC%95%99%EC%83%81%EB%B8%94%20%EB%AA%A8%EB%8D%B8.ipynb#X40sZmlsZQ%3D%3D?line=0'>1</a>\u001b[0m gbtree\u001b[39m.\u001b[39mfit(X_train,y_train)\n",
      "\u001b[1;31mNameError\u001b[0m: name 'X_train' is not defined"
     ]
    }
   ],
   "source": [
    "gbtree.fit(X_train,y_train)"
   ]
  },
  {
   "cell_type": "code",
   "execution_count": 32,
   "id": "8f4ffe8b",
   "metadata": {},
   "outputs": [],
   "source": [
    "pre_gb = gbtree.predict(X_test)\n",
    "# 결과 업로드\n",
    "submission = pd.read_csv(\"./data/salary/sample_submission.csv\")\n",
    "submission[\"income\"] = pre_gb\n",
    "submission.to_csv(\"./data/salary/gb_prediction2.csv\",\n",
    "                 index=False)\n"
   ]
  },
  {
   "cell_type": "code",
   "execution_count": 33,
   "id": "e04b6108",
   "metadata": {},
   "outputs": [],
   "source": [
    "# 그리드서치 이용한 모델 최적화 실습\n",
    "# 모델 최적화(하이퍼파라미터튜닝)를 할 객체 생성\n",
    "gb_model = GradientBoostingClassifier(random_state=0)\n",
    "# 파라미터 조합\n",
    "pram_grid = {\n",
    "    'learning_rate' : [0.01, 0.1, 0.5, 0.8],\n",
    "    'n_estimators' : [200, 500, 1000, 1500, 2000],\n",
    "    'max_depth' : [5,7,9],\n",
    "    'max_features' : [0.5, 0.7, 0.8],\n",
    "    'subsample' : [0.5,0.7,1.0]\n",
    "}  # 총 4x5x3x3x3x(cv)3 의 조합"
   ]
  },
  {
   "cell_type": "code",
   "execution_count": 34,
   "id": "8a8d41bd",
   "metadata": {},
   "outputs": [],
   "source": [
    "grid = GridSearchCV(gb_model,   #튜닝할 모델\n",
    "                    pram_grid, # 튜닝해볼 파라미터 조합\n",
    "                    cv=3, # 교차검증 횟수\n",
    "                    n_jobs=-1)  # 연산에 사용할 pc코어 수(-1 = 모든 피씨의 연산을 여기에 집중시키겠다)"
   ]
  },
  {
   "cell_type": "code",
   "execution_count": 35,
   "id": "a1348785",
   "metadata": {},
   "outputs": [
    {
     "name": "stderr",
     "output_type": "stream",
     "text": [
      "c:\\Users\\pipi1\\anaconda3\\lib\\site-packages\\sklearn\\ensemble\\_gb.py:494: DataConversionWarning: A column-vector y was passed when a 1d array was expected. Please change the shape of y to (n_samples, ), for example using ravel().\n",
      "  y = column_or_1d(y, warn=True)\n"
     ]
    },
    {
     "data": {
      "text/plain": [
       "GridSearchCV(cv=3, estimator=GradientBoostingClassifier(random_state=0),\n",
       "             n_jobs=-1,\n",
       "             param_grid={'learning_rate': [0.01, 0.1, 0.5, 0.8],\n",
       "                         'max_depth': [5, 7, 9],\n",
       "                         'max_features': [0.5, 0.7, 0.8],\n",
       "                         'n_estimators': [200, 500, 1000, 1500, 2000],\n",
       "                         'subsample': [0.5, 0.7, 1.0]})"
      ]
     },
     "execution_count": 35,
     "metadata": {},
     "output_type": "execute_result"
    }
   ],
   "source": [
    "grid.fit(X_train,y_train)"
   ]
  },
  {
   "cell_type": "code",
   "execution_count": 36,
   "id": "acf72267",
   "metadata": {},
   "outputs": [],
   "source": [
    "pre_grid = grid.predict(X_test)\n"
   ]
  },
  {
   "cell_type": "code",
   "execution_count": 37,
   "id": "bc517109",
   "metadata": {},
   "outputs": [
    {
     "name": "stdout",
     "output_type": "stream",
     "text": [
      "최고 점수 0.8642552497220324\n",
      "최고 조합 {'learning_rate': 0.01, 'max_depth': 5, 'max_features': 0.7, 'n_estimators': 2000, 'subsample': 1.0}\n"
     ]
    }
   ],
   "source": [
    "print(\"최고 점수\",grid.best_score_)\n",
    "print(\"최고 조합\",grid.best_params_)"
   ]
  },
  {
   "cell_type": "code",
   "execution_count": 38,
   "id": "b20d6228",
   "metadata": {},
   "outputs": [],
   "source": [
    "# 학습이 완료된 최고 조합 모델\n",
    "best_rf = grid.best_estimator_\n",
    "pre_test=best_rf.predict(X_test)"
   ]
  },
  {
   "cell_type": "code",
   "execution_count": 39,
   "id": "b304224d",
   "metadata": {},
   "outputs": [],
   "source": [
    "# 결과 업로드\n",
    "submission[\"income\"] = pre_grid\n",
    "submission.to_csv(\"./data/salary/gb_prediction2.csv\",\n",
    "                 index=False)"
   ]
  },
  {
   "cell_type": "markdown",
   "id": "61010547",
   "metadata": {},
   "source": [
    "#### 외부 부스팅 라이브러리 사용하기\n",
    "- boosting의 단점을 보완하고 추가 기능들을 탑재한 외부부스팅 라이브러리들이 있다\n",
    "- ex) wboost, lightGBM, catboost등"
   ]
  },
  {
   "cell_type": "code",
   "execution_count": 40,
   "id": "01f4cf86",
   "metadata": {
    "collapsed": true
   },
   "outputs": [
    {
     "name": "stderr",
     "output_type": "stream",
     "text": [
      "ERROR: Invalid requirement: '#'\n"
     ]
    },
    {
     "name": "stdout",
     "output_type": "stream",
     "text": [
      "Requirement already satisfied: lightgbm in c:\\users\\pipi1\\anaconda3\\lib\\site-packages (3.3.2)\n",
      "Requirement already satisfied: scikit-learn!=0.22.0 in c:\\users\\pipi1\\anaconda3\\lib\\site-packages (from lightgbm) (1.0.2)\n",
      "Requirement already satisfied: numpy in c:\\users\\pipi1\\anaconda3\\lib\\site-packages (from lightgbm) (1.21.5)\n",
      "Requirement already satisfied: scipy in c:\\users\\pipi1\\anaconda3\\lib\\site-packages (from lightgbm) (1.7.3)\n",
      "Requirement already satisfied: wheel in c:\\users\\pipi1\\anaconda3\\lib\\site-packages (from lightgbm) (0.37.1)\n",
      "Requirement already satisfied: joblib>=0.11 in c:\\users\\pipi1\\anaconda3\\lib\\site-packages (from scikit-learn!=0.22.0->lightgbm) (1.1.0)\n",
      "Requirement already satisfied: threadpoolctl>=2.0.0 in c:\\users\\pipi1\\anaconda3\\lib\\site-packages (from scikit-learn!=0.22.0->lightgbm) (2.2.0)\n"
     ]
    }
   ],
   "source": [
    "!pip install xgboost  # gpu에서 병렬 연산을 할수 있게 해주는 # 내부는 C나 c++로 되어있는데 겉은 파이썬\n",
    "!pip install lightgbm  "
   ]
  },
  {
   "cell_type": "code",
   "execution_count": 41,
   "id": "0aa08eda",
   "metadata": {},
   "outputs": [],
   "source": [
    "from xgboost import XGBClassifier"
   ]
  },
  {
   "cell_type": "code",
   "execution_count": 42,
   "id": "8a9642ba",
   "metadata": {},
   "outputs": [],
   "source": [
    "xgb_model = XGBClassifier(booster=\"gbtree\", #부스팅할 모델 알고리즘 (선형모델 기반으로 하려면 gblinear)\n",
    "                          learning_rate=0.1, # 학습률\n",
    "                          max_depth=6, # 나무의 최대깊이\n",
    "                          gamma=0.2) # 리프노드 분리를 결정하는 파라미터  \n",
    "                                 # 키우면 모델 단순, 작아지면 모델 복잡"
   ]
  },
  {
   "cell_type": "code",
   "execution_count": 43,
   "id": "ffc5c5c9",
   "metadata": {},
   "outputs": [],
   "source": [
    "xgb_model.fit(X_train,y_train)\n",
    "pre_xgb = xgb_model.predict(X_test)"
   ]
  },
  {
   "cell_type": "code",
   "execution_count": null,
   "id": "c412908f",
   "metadata": {},
   "outputs": [],
   "source": []
  }
 ],
 "metadata": {
  "kernelspec": {
   "display_name": "Python 3.9.12 ('base')",
   "language": "python",
   "name": "python3"
  },
  "language_info": {
   "codemirror_mode": {
    "name": "ipython",
    "version": 3
   },
   "file_extension": ".py",
   "mimetype": "text/x-python",
   "name": "python",
   "nbconvert_exporter": "python",
   "pygments_lexer": "ipython3",
   "version": "3.9.12"
  },
  "toc": {
   "base_numbering": 1,
   "nav_menu": {},
   "number_sections": true,
   "sideBar": true,
   "skip_h1_title": false,
   "title_cell": "Table of Contents",
   "title_sidebar": "Contents",
   "toc_cell": false,
   "toc_position": {},
   "toc_section_display": true,
   "toc_window_display": false
  },
  "vscode": {
   "interpreter": {
    "hash": "a9d8fbd2622250be90e11d7629650d111e02c5b989647467f2b91c323a6d7e8d"
   }
  }
 },
 "nbformat": 4,
 "nbformat_minor": 5
}

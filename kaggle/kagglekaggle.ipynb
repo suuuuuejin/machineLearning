{
 "cells": [
  {
   "cell_type": "code",
   "execution_count": 141,
   "metadata": {},
   "outputs": [],
   "source": [
    "# EDA를 위한 분석 라이브러리\n",
    "import pandas as pd\n",
    "import numpy as np\n",
    "import matplotlib.pyplot as plt\n",
    "import seaborn as sns\n",
    "#검증 데이터 분리를 위한 함수\n",
    "from sklearn.model_selection import train_test_split\n",
    "#학습을 위한 모델 클래스\n",
    "from sklearn.neighbors import KNeighborsClassifier\n",
    "from sklearn.tree import DecisionTreeClassifier\n",
    "#평가를 위한 함수(정확도)\n",
    "from sklearn.metrics import accuracy_score"
   ]
  },
  {
   "cell_type": "code",
   "execution_count": 142,
   "metadata": {},
   "outputs": [
    {
     "data": {
      "text/plain": [
       "'Train'"
      ]
     },
     "metadata": {},
     "output_type": "display_data"
    },
    {
     "data": {
      "text/html": [
       "<div>\n",
       "<style scoped>\n",
       "    .dataframe tbody tr th:only-of-type {\n",
       "        vertical-align: middle;\n",
       "    }\n",
       "\n",
       "    .dataframe tbody tr th {\n",
       "        vertical-align: top;\n",
       "    }\n",
       "\n",
       "    .dataframe thead th {\n",
       "        text-align: right;\n",
       "    }\n",
       "</style>\n",
       "<table border=\"1\" class=\"dataframe\">\n",
       "  <thead>\n",
       "    <tr style=\"text-align: right;\">\n",
       "      <th></th>\n",
       "      <th>age</th>\n",
       "      <th>workclass</th>\n",
       "      <th>fnlwgt</th>\n",
       "      <th>education</th>\n",
       "      <th>education-num</th>\n",
       "      <th>marital-status</th>\n",
       "      <th>occupation</th>\n",
       "      <th>relationship</th>\n",
       "      <th>race</th>\n",
       "      <th>sex</th>\n",
       "      <th>capital-gain</th>\n",
       "      <th>capital-loss</th>\n",
       "      <th>hours-per-week</th>\n",
       "      <th>native-country</th>\n",
       "      <th>income</th>\n",
       "    </tr>\n",
       "    <tr>\n",
       "      <th>no</th>\n",
       "      <th></th>\n",
       "      <th></th>\n",
       "      <th></th>\n",
       "      <th></th>\n",
       "      <th></th>\n",
       "      <th></th>\n",
       "      <th></th>\n",
       "      <th></th>\n",
       "      <th></th>\n",
       "      <th></th>\n",
       "      <th></th>\n",
       "      <th></th>\n",
       "      <th></th>\n",
       "      <th></th>\n",
       "      <th></th>\n",
       "    </tr>\n",
       "  </thead>\n",
       "  <tbody>\n",
       "    <tr>\n",
       "      <th>1</th>\n",
       "      <td>25</td>\n",
       "      <td>Private</td>\n",
       "      <td>219199</td>\n",
       "      <td>11th</td>\n",
       "      <td>7</td>\n",
       "      <td>Divorced</td>\n",
       "      <td>Machine-op-inspct</td>\n",
       "      <td>Not-in-family</td>\n",
       "      <td>White</td>\n",
       "      <td>Male</td>\n",
       "      <td>0</td>\n",
       "      <td>0</td>\n",
       "      <td>40</td>\n",
       "      <td>United-States</td>\n",
       "      <td>0</td>\n",
       "    </tr>\n",
       "    <tr>\n",
       "      <th>2</th>\n",
       "      <td>39</td>\n",
       "      <td>Private</td>\n",
       "      <td>52978</td>\n",
       "      <td>Some-college</td>\n",
       "      <td>10</td>\n",
       "      <td>Divorced</td>\n",
       "      <td>Other-service</td>\n",
       "      <td>Not-in-family</td>\n",
       "      <td>White</td>\n",
       "      <td>Female</td>\n",
       "      <td>0</td>\n",
       "      <td>1721</td>\n",
       "      <td>55</td>\n",
       "      <td>United-States</td>\n",
       "      <td>0</td>\n",
       "    </tr>\n",
       "    <tr>\n",
       "      <th>3</th>\n",
       "      <td>35</td>\n",
       "      <td>Private</td>\n",
       "      <td>196899</td>\n",
       "      <td>Bachelors</td>\n",
       "      <td>13</td>\n",
       "      <td>Never-married</td>\n",
       "      <td>Handlers-cleaners</td>\n",
       "      <td>Not-in-family</td>\n",
       "      <td>Asian-Pac-Islander</td>\n",
       "      <td>Female</td>\n",
       "      <td>0</td>\n",
       "      <td>0</td>\n",
       "      <td>50</td>\n",
       "      <td>Haiti</td>\n",
       "      <td>0</td>\n",
       "    </tr>\n",
       "    <tr>\n",
       "      <th>4</th>\n",
       "      <td>64</td>\n",
       "      <td>Private</td>\n",
       "      <td>135527</td>\n",
       "      <td>Assoc-voc</td>\n",
       "      <td>11</td>\n",
       "      <td>Divorced</td>\n",
       "      <td>Tech-support</td>\n",
       "      <td>Not-in-family</td>\n",
       "      <td>White</td>\n",
       "      <td>Female</td>\n",
       "      <td>0</td>\n",
       "      <td>0</td>\n",
       "      <td>40</td>\n",
       "      <td>United-States</td>\n",
       "      <td>0</td>\n",
       "    </tr>\n",
       "    <tr>\n",
       "      <th>5</th>\n",
       "      <td>24</td>\n",
       "      <td>Private</td>\n",
       "      <td>60783</td>\n",
       "      <td>Some-college</td>\n",
       "      <td>10</td>\n",
       "      <td>Married-civ-spouse</td>\n",
       "      <td>Transport-moving</td>\n",
       "      <td>Husband</td>\n",
       "      <td>White</td>\n",
       "      <td>Male</td>\n",
       "      <td>0</td>\n",
       "      <td>0</td>\n",
       "      <td>70</td>\n",
       "      <td>United-States</td>\n",
       "      <td>1</td>\n",
       "    </tr>\n",
       "  </tbody>\n",
       "</table>\n",
       "</div>"
      ],
      "text/plain": [
       "    age workclass  fnlwgt      education  education-num       marital-status  \\\n",
       "no                                                                             \n",
       "1    25   Private  219199           11th              7             Divorced   \n",
       "2    39   Private   52978   Some-college             10             Divorced   \n",
       "3    35   Private  196899      Bachelors             13        Never-married   \n",
       "4    64   Private  135527      Assoc-voc             11             Divorced   \n",
       "5    24   Private   60783   Some-college             10   Married-civ-spouse   \n",
       "\n",
       "            occupation    relationship                 race      sex  \\\n",
       "no                                                                     \n",
       "1    Machine-op-inspct   Not-in-family                White     Male   \n",
       "2        Other-service   Not-in-family                White   Female   \n",
       "3    Handlers-cleaners   Not-in-family   Asian-Pac-Islander   Female   \n",
       "4         Tech-support   Not-in-family                White   Female   \n",
       "5     Transport-moving         Husband                White     Male   \n",
       "\n",
       "    capital-gain  capital-loss  hours-per-week  native-country  income  \n",
       "no                                                                      \n",
       "1              0             0              40   United-States       0  \n",
       "2              0          1721              55   United-States       0  \n",
       "3              0             0              50           Haiti       0  \n",
       "4              0             0              40   United-States       0  \n",
       "5              0             0              70   United-States       1  "
      ]
     },
     "metadata": {},
     "output_type": "display_data"
    },
    {
     "data": {
      "text/plain": [
       "'Test'"
      ]
     },
     "metadata": {},
     "output_type": "display_data"
    },
    {
     "data": {
      "text/html": [
       "<div>\n",
       "<style scoped>\n",
       "    .dataframe tbody tr th:only-of-type {\n",
       "        vertical-align: middle;\n",
       "    }\n",
       "\n",
       "    .dataframe tbody tr th {\n",
       "        vertical-align: top;\n",
       "    }\n",
       "\n",
       "    .dataframe thead th {\n",
       "        text-align: right;\n",
       "    }\n",
       "</style>\n",
       "<table border=\"1\" class=\"dataframe\">\n",
       "  <thead>\n",
       "    <tr style=\"text-align: right;\">\n",
       "      <th></th>\n",
       "      <th>age</th>\n",
       "      <th>workclass</th>\n",
       "      <th>fnlwgt</th>\n",
       "      <th>education</th>\n",
       "      <th>education-num</th>\n",
       "      <th>marital-status</th>\n",
       "      <th>occupation</th>\n",
       "      <th>relationship</th>\n",
       "      <th>race</th>\n",
       "      <th>sex</th>\n",
       "      <th>capital-gain</th>\n",
       "      <th>capital-loss</th>\n",
       "      <th>hours-per-week</th>\n",
       "      <th>native-country</th>\n",
       "    </tr>\n",
       "    <tr>\n",
       "      <th>no</th>\n",
       "      <th></th>\n",
       "      <th></th>\n",
       "      <th></th>\n",
       "      <th></th>\n",
       "      <th></th>\n",
       "      <th></th>\n",
       "      <th></th>\n",
       "      <th></th>\n",
       "      <th></th>\n",
       "      <th></th>\n",
       "      <th></th>\n",
       "      <th></th>\n",
       "      <th></th>\n",
       "      <th></th>\n",
       "    </tr>\n",
       "  </thead>\n",
       "  <tbody>\n",
       "    <tr>\n",
       "      <th>29306</th>\n",
       "      <td>18</td>\n",
       "      <td>?</td>\n",
       "      <td>245274</td>\n",
       "      <td>Some-college</td>\n",
       "      <td>10</td>\n",
       "      <td>Never-married</td>\n",
       "      <td>?</td>\n",
       "      <td>Own-child</td>\n",
       "      <td>White</td>\n",
       "      <td>Male</td>\n",
       "      <td>0</td>\n",
       "      <td>0</td>\n",
       "      <td>16</td>\n",
       "      <td>United-States</td>\n",
       "    </tr>\n",
       "    <tr>\n",
       "      <th>29307</th>\n",
       "      <td>29</td>\n",
       "      <td>Private</td>\n",
       "      <td>83003</td>\n",
       "      <td>HS-grad</td>\n",
       "      <td>9</td>\n",
       "      <td>Married-civ-spouse</td>\n",
       "      <td>Other-service</td>\n",
       "      <td>Wife</td>\n",
       "      <td>White</td>\n",
       "      <td>Female</td>\n",
       "      <td>0</td>\n",
       "      <td>0</td>\n",
       "      <td>40</td>\n",
       "      <td>United-States</td>\n",
       "    </tr>\n",
       "    <tr>\n",
       "      <th>29308</th>\n",
       "      <td>45</td>\n",
       "      <td>Private</td>\n",
       "      <td>35136</td>\n",
       "      <td>Bachelors</td>\n",
       "      <td>13</td>\n",
       "      <td>Married-civ-spouse</td>\n",
       "      <td>Tech-support</td>\n",
       "      <td>Husband</td>\n",
       "      <td>Black</td>\n",
       "      <td>Male</td>\n",
       "      <td>0</td>\n",
       "      <td>0</td>\n",
       "      <td>40</td>\n",
       "      <td>United-States</td>\n",
       "    </tr>\n",
       "    <tr>\n",
       "      <th>29309</th>\n",
       "      <td>42</td>\n",
       "      <td>Self-emp-not-inc</td>\n",
       "      <td>64631</td>\n",
       "      <td>Bachelors</td>\n",
       "      <td>13</td>\n",
       "      <td>Married-civ-spouse</td>\n",
       "      <td>Exec-managerial</td>\n",
       "      <td>Husband</td>\n",
       "      <td>White</td>\n",
       "      <td>Male</td>\n",
       "      <td>0</td>\n",
       "      <td>0</td>\n",
       "      <td>40</td>\n",
       "      <td>United-States</td>\n",
       "    </tr>\n",
       "    <tr>\n",
       "      <th>29310</th>\n",
       "      <td>41</td>\n",
       "      <td>Private</td>\n",
       "      <td>195821</td>\n",
       "      <td>Doctorate</td>\n",
       "      <td>16</td>\n",
       "      <td>Married-civ-spouse</td>\n",
       "      <td>Exec-managerial</td>\n",
       "      <td>Wife</td>\n",
       "      <td>White</td>\n",
       "      <td>Female</td>\n",
       "      <td>0</td>\n",
       "      <td>1902</td>\n",
       "      <td>40</td>\n",
       "      <td>United-States</td>\n",
       "    </tr>\n",
       "  </tbody>\n",
       "</table>\n",
       "</div>"
      ],
      "text/plain": [
       "       age          workclass  fnlwgt      education  education-num  \\\n",
       "no                                                                    \n",
       "29306   18                  ?  245274   Some-college             10   \n",
       "29307   29            Private   83003        HS-grad              9   \n",
       "29308   45            Private   35136      Bachelors             13   \n",
       "29309   42   Self-emp-not-inc   64631      Bachelors             13   \n",
       "29310   41            Private  195821      Doctorate             16   \n",
       "\n",
       "            marital-status        occupation relationship    race      sex  \\\n",
       "no                                                                           \n",
       "29306        Never-married                 ?    Own-child   White     Male   \n",
       "29307   Married-civ-spouse     Other-service         Wife   White   Female   \n",
       "29308   Married-civ-spouse      Tech-support      Husband   Black     Male   \n",
       "29309   Married-civ-spouse   Exec-managerial      Husband   White     Male   \n",
       "29310   Married-civ-spouse   Exec-managerial         Wife   White   Female   \n",
       "\n",
       "       capital-gain  capital-loss  hours-per-week  native-country  \n",
       "no                                                                 \n",
       "29306             0             0              16   United-States  \n",
       "29307             0             0              40   United-States  \n",
       "29308             0             0              40   United-States  \n",
       "29309             0             0              40   United-States  \n",
       "29310             0          1902              40   United-States  "
      ]
     },
     "metadata": {},
     "output_type": "display_data"
    }
   ],
   "source": [
    "train_data = pd.read_csv(\"./data/salary/train.csv\", index_col=\"no\")\n",
    "test = pd.read_csv(\"./data/salary/test.csv\" , index_col=\"no\")\n",
    "display(\"Train\")\n",
    "display(train_data.head())\n",
    "display(\"Test\")\n",
    "display(test.head())"
   ]
  },
  {
   "cell_type": "code",
   "execution_count": 143,
   "metadata": {},
   "outputs": [
    {
     "data": {
      "text/plain": [
       "((29305, 15), (19537, 14))"
      ]
     },
     "execution_count": 143,
     "metadata": {},
     "output_type": "execute_result"
    }
   ],
   "source": [
    "# 전체 데이터 수 파악\n",
    "train_data.shape, test.shape"
   ]
  },
  {
   "cell_type": "code",
   "execution_count": 144,
   "metadata": {},
   "outputs": [
    {
     "name": "stdout",
     "output_type": "stream",
     "text": [
      "<class 'pandas.core.frame.DataFrame'>\n",
      "Int64Index: 29305 entries, 1 to 29305\n",
      "Data columns (total 15 columns):\n",
      " #   Column          Non-Null Count  Dtype \n",
      "---  ------          --------------  ----- \n",
      " 0   age             29305 non-null  int64 \n",
      " 1   workclass       29305 non-null  object\n",
      " 2   fnlwgt          29305 non-null  int64 \n",
      " 3   education       29305 non-null  object\n",
      " 4   education-num   29305 non-null  int64 \n",
      " 5   marital-status  29305 non-null  object\n",
      " 6   occupation      29305 non-null  object\n",
      " 7   relationship    29305 non-null  object\n",
      " 8   race            29305 non-null  object\n",
      " 9   sex             29305 non-null  object\n",
      " 10  capital-gain    29305 non-null  int64 \n",
      " 11  capital-loss    29305 non-null  int64 \n",
      " 12  hours-per-week  29305 non-null  int64 \n",
      " 13  native-country  29305 non-null  object\n",
      " 14  income          29305 non-null  int64 \n",
      "dtypes: int64(7), object(8)\n",
      "memory usage: 3.6+ MB\n"
     ]
    }
   ],
   "source": [
    "train_data.info()"
   ]
  },
  {
   "cell_type": "code",
   "execution_count": 145,
   "metadata": {},
   "outputs": [],
   "source": [
    "# 범주형 데이터\n",
    "# workclass, education, marital-status, occupation, relationship, race, sex, native-country\n",
    "# 수치형 데이터\n",
    "# age, fnlwgt, education-num, capital-gain, capital-loss, hours-per-week"
   ]
  },
  {
   "cell_type": "code",
   "execution_count": 146,
   "metadata": {},
   "outputs": [
    {
     "data": {
      "text/html": [
       "<div>\n",
       "<style scoped>\n",
       "    .dataframe tbody tr th:only-of-type {\n",
       "        vertical-align: middle;\n",
       "    }\n",
       "\n",
       "    .dataframe tbody tr th {\n",
       "        vertical-align: top;\n",
       "    }\n",
       "\n",
       "    .dataframe thead th {\n",
       "        text-align: right;\n",
       "    }\n",
       "</style>\n",
       "<table border=\"1\" class=\"dataframe\">\n",
       "  <thead>\n",
       "    <tr style=\"text-align: right;\">\n",
       "      <th></th>\n",
       "      <th>age</th>\n",
       "      <th>fnlwgt</th>\n",
       "      <th>education-num</th>\n",
       "      <th>capital-gain</th>\n",
       "      <th>capital-loss</th>\n",
       "      <th>hours-per-week</th>\n",
       "      <th>income</th>\n",
       "    </tr>\n",
       "  </thead>\n",
       "  <tbody>\n",
       "    <tr>\n",
       "      <th>age</th>\n",
       "      <td>1.000000</td>\n",
       "      <td>-0.075753</td>\n",
       "      <td>0.035084</td>\n",
       "      <td>0.078498</td>\n",
       "      <td>0.054413</td>\n",
       "      <td>0.073100</td>\n",
       "      <td>0.238460</td>\n",
       "    </tr>\n",
       "    <tr>\n",
       "      <th>fnlwgt</th>\n",
       "      <td>-0.075753</td>\n",
       "      <td>1.000000</td>\n",
       "      <td>-0.030600</td>\n",
       "      <td>-0.005051</td>\n",
       "      <td>-0.001513</td>\n",
       "      <td>-0.010154</td>\n",
       "      <td>-0.002994</td>\n",
       "    </tr>\n",
       "    <tr>\n",
       "      <th>education-num</th>\n",
       "      <td>0.035084</td>\n",
       "      <td>-0.030600</td>\n",
       "      <td>1.000000</td>\n",
       "      <td>0.127651</td>\n",
       "      <td>0.083925</td>\n",
       "      <td>0.147569</td>\n",
       "      <td>0.331798</td>\n",
       "    </tr>\n",
       "    <tr>\n",
       "      <th>capital-gain</th>\n",
       "      <td>0.078498</td>\n",
       "      <td>-0.005051</td>\n",
       "      <td>0.127651</td>\n",
       "      <td>1.000000</td>\n",
       "      <td>-0.031401</td>\n",
       "      <td>0.088609</td>\n",
       "      <td>0.221387</td>\n",
       "    </tr>\n",
       "    <tr>\n",
       "      <th>capital-loss</th>\n",
       "      <td>0.054413</td>\n",
       "      <td>-0.001513</td>\n",
       "      <td>0.083925</td>\n",
       "      <td>-0.031401</td>\n",
       "      <td>1.000000</td>\n",
       "      <td>0.055271</td>\n",
       "      <td>0.135645</td>\n",
       "    </tr>\n",
       "    <tr>\n",
       "      <th>hours-per-week</th>\n",
       "      <td>0.073100</td>\n",
       "      <td>-0.010154</td>\n",
       "      <td>0.147569</td>\n",
       "      <td>0.088609</td>\n",
       "      <td>0.055271</td>\n",
       "      <td>1.000000</td>\n",
       "      <td>0.231045</td>\n",
       "    </tr>\n",
       "    <tr>\n",
       "      <th>income</th>\n",
       "      <td>0.238460</td>\n",
       "      <td>-0.002994</td>\n",
       "      <td>0.331798</td>\n",
       "      <td>0.221387</td>\n",
       "      <td>0.135645</td>\n",
       "      <td>0.231045</td>\n",
       "      <td>1.000000</td>\n",
       "    </tr>\n",
       "  </tbody>\n",
       "</table>\n",
       "</div>"
      ],
      "text/plain": [
       "                     age    fnlwgt  education-num  capital-gain  capital-loss  \\\n",
       "age             1.000000 -0.075753       0.035084      0.078498      0.054413   \n",
       "fnlwgt         -0.075753  1.000000      -0.030600     -0.005051     -0.001513   \n",
       "education-num   0.035084 -0.030600       1.000000      0.127651      0.083925   \n",
       "capital-gain    0.078498 -0.005051       0.127651      1.000000     -0.031401   \n",
       "capital-loss    0.054413 -0.001513       0.083925     -0.031401      1.000000   \n",
       "hours-per-week  0.073100 -0.010154       0.147569      0.088609      0.055271   \n",
       "income          0.238460 -0.002994       0.331798      0.221387      0.135645   \n",
       "\n",
       "                hours-per-week    income  \n",
       "age                   0.073100  0.238460  \n",
       "fnlwgt               -0.010154 -0.002994  \n",
       "education-num         0.147569  0.331798  \n",
       "capital-gain          0.088609  0.221387  \n",
       "capital-loss          0.055271  0.135645  \n",
       "hours-per-week        1.000000  0.231045  \n",
       "income                0.231045  1.000000  "
      ]
     },
     "metadata": {},
     "output_type": "display_data"
    }
   ],
   "source": [
    "display(train_data.corr()) # 상관계수 확인"
   ]
  },
  {
   "cell_type": "code",
   "execution_count": 147,
   "metadata": {},
   "outputs": [
    {
     "data": {
      "text/plain": [
       "age               495\n",
       "workclass         495\n",
       "fnlwgt            495\n",
       "education         495\n",
       "education-num     495\n",
       "marital-status    495\n",
       "occupation        495\n",
       "relationship      495\n",
       "race              495\n",
       "sex               495\n",
       "capital-gain      495\n",
       "capital-loss      495\n",
       "hours-per-week    495\n",
       "native-country    495\n",
       "income            495\n",
       "dtype: int64"
      ]
     },
     "execution_count": 147,
     "metadata": {},
     "output_type": "execute_result"
    }
   ],
   "source": [
    "# 결측치 확인(결측치 null이 아닌 \" ?\"로 처리되어있음) \n",
    "# 숫자형에는 결측치 없음\n",
    "# workclass(1663), occupation(1668), native-country(495) 결측치 있음\n",
    "# workclass - private 수가 너무 많아서 의미 없을거 같음(결측치private로 처리)\n",
    "# occupation - 결측치 처리 하지 않고 ? 그대로 사용할것임 -> 3~4단계로 분류\n",
    "# native-country - United-States수가 너무 많아서 의미 없을거 같음(결측치United-States로 처리)\n",
    "train_data[train_data['native-country']==\" ?\"].count()\n"
   ]
  },
  {
   "cell_type": "code",
   "execution_count": 148,
   "metadata": {},
   "outputs": [
    {
     "name": "stdout",
     "output_type": "stream",
     "text": [
      "Requirement already satisfied: sklearn-pandas in c:\\users\\pipi1\\anaconda3\\lib\\site-packages (2.2.0)\n",
      "Requirement already satisfied: pandas>=1.1.4 in c:\\users\\pipi1\\anaconda3\\lib\\site-packages (from sklearn-pandas) (1.4.2)\n",
      "Requirement already satisfied: scikit-learn>=0.23.0 in c:\\users\\pipi1\\anaconda3\\lib\\site-packages (from sklearn-pandas) (1.1.2)\n",
      "Requirement already satisfied: numpy>=1.18.1 in c:\\users\\pipi1\\anaconda3\\lib\\site-packages (from sklearn-pandas) (1.21.5)\n",
      "Requirement already satisfied: scipy>=1.5.1 in c:\\users\\pipi1\\anaconda3\\lib\\site-packages (from sklearn-pandas) (1.7.3)\n",
      "Requirement already satisfied: python-dateutil>=2.8.1 in c:\\users\\pipi1\\anaconda3\\lib\\site-packages (from pandas>=1.1.4->sklearn-pandas) (2.8.2)\n",
      "Requirement already satisfied: pytz>=2020.1 in c:\\users\\pipi1\\anaconda3\\lib\\site-packages (from pandas>=1.1.4->sklearn-pandas) (2021.3)\n",
      "Requirement already satisfied: six>=1.5 in c:\\users\\pipi1\\anaconda3\\lib\\site-packages (from python-dateutil>=2.8.1->pandas>=1.1.4->sklearn-pandas) (1.16.0)\n",
      "Requirement already satisfied: threadpoolctl>=2.0.0 in c:\\users\\pipi1\\anaconda3\\lib\\site-packages (from scikit-learn>=0.23.0->sklearn-pandas) (2.2.0)\n",
      "Requirement already satisfied: joblib>=1.0.0 in c:\\users\\pipi1\\anaconda3\\lib\\site-packages (from scikit-learn>=0.23.0->sklearn-pandas) (1.1.0)\n"
     ]
    }
   ],
   "source": [
    "!pip install sklearn-pandas"
   ]
  },
  {
   "cell_type": "code",
   "execution_count": 149,
   "metadata": {},
   "outputs": [],
   "source": [
    "# from sklearn_pandas import CategoricalImputer\n",
    "# imputer = CategoricalImputer()\n",
    "# # 결측치처리\n",
    "# train_data['workclass'] = imputer.fit_transform(train_data['workclass'])\n",
    "# train_data['occupation'] = imputer.fit_transform(train_data['occupation'])\n",
    "# train_data['native_country'] = imputer.fit_transform(train_data['native_country'])\n",
    "# #확인\n",
    "# train_data.isna().sum()"
   ]
  },
  {
   "cell_type": "code",
   "execution_count": null,
   "metadata": {},
   "outputs": [],
   "source": []
  },
  {
   "cell_type": "code",
   "execution_count": 150,
   "metadata": {},
   "outputs": [],
   "source": [
    "# train_data['native-country']=train_data['native-country'].str.replace(\"?\",\"United-States\")\n",
    "# train_data['workclass']=train_data['workclass'].str.replace(\"?\",\"private\")\n",
    "# test['native-country']=test['native-country'].str.replace(\"?\",\"United-States\")\n",
    "# test['workclass']=test['workclass'].str.replace(\"?\",\"private\")"
   ]
  },
  {
   "cell_type": "code",
   "execution_count": 151,
   "metadata": {},
   "outputs": [],
   "source": [
    "# train_data['occupation']=train_data['occupation'].str.replace(\"?\",\"Prof-specialty\")\n",
    "# test['occupation']=test['occupation'].str.replace(\"?\",\"Prof-specialty\")"
   ]
  },
  {
   "cell_type": "code",
   "execution_count": null,
   "metadata": {},
   "outputs": [],
   "source": []
  },
  {
   "cell_type": "code",
   "execution_count": null,
   "metadata": {},
   "outputs": [],
   "source": []
  },
  {
   "cell_type": "code",
   "execution_count": 152,
   "metadata": {},
   "outputs": [
    {
     "data": {
      "text/plain": [
       "age               0\n",
       "workclass         0\n",
       "fnlwgt            0\n",
       "education         0\n",
       "education-num     0\n",
       "marital-status    0\n",
       "occupation        0\n",
       "relationship      0\n",
       "race              0\n",
       "sex               0\n",
       "capital-gain      0\n",
       "capital-loss      0\n",
       "hours-per-week    0\n",
       "native-country    0\n",
       "income            0\n",
       "dtype: int64"
      ]
     },
     "execution_count": 152,
     "metadata": {},
     "output_type": "execute_result"
    }
   ],
   "source": [
    "# checking '?' in our dataset\n",
    "train_data.isin(['?']).sum()"
   ]
  },
  {
   "cell_type": "code",
   "execution_count": 153,
   "metadata": {},
   "outputs": [
    {
     "name": "stdout",
     "output_type": "stream",
     "text": [
      "\n",
      " ----Missing values---\n",
      "\n",
      "age               0\n",
      "workclass         0\n",
      "fnlwgt            0\n",
      "education         0\n",
      "education-num     0\n",
      "marital-status    0\n",
      "occupation        0\n",
      "relationship      0\n",
      "race              0\n",
      "sex               0\n",
      "capital-gain      0\n",
      "capital-loss      0\n",
      "hours-per-week    0\n",
      "native-country    0\n",
      "income            0\n",
      "dtype: int64\n",
      "\n",
      " ----Missing values in percentage---\n",
      "\n",
      "age               0.0\n",
      "workclass         0.0\n",
      "fnlwgt            0.0\n",
      "education         0.0\n",
      "education-num     0.0\n",
      "marital-status    0.0\n",
      "occupation        0.0\n",
      "relationship      0.0\n",
      "race              0.0\n",
      "sex               0.0\n",
      "capital-gain      0.0\n",
      "capital-loss      0.0\n",
      "hours-per-week    0.0\n",
      "native-country    0.0\n",
      "income            0.0\n",
      "dtype: float64\n",
      "\n",
      "---Total 0.0% of missing values present in our dataset\n"
     ]
    }
   ],
   "source": [
    "# We are replacing '?' with np.nan\n",
    "train_data = train_data.replace(to_replace='?', value=np.nan)\n",
    "\n",
    "# Now again checking missing values\n",
    "print(\"\\n ----Missing values---\\n\")\n",
    "print(train_data.isna().sum())\n",
    "\n",
    "# Missing values in percentage\n",
    "print(\"\\n ----Missing values in percentage---\\n\")\n",
    "print(round((train_data.isna().sum()/train_data.shape[0])*100,2))\n",
    "print(\"\\n---Total {}% of missing values present in our dataset\".\n",
    "      format(round(sum(train_data.isna().sum()/train_data.shape[0])*100,2)))"
   ]
  },
  {
   "cell_type": "code",
   "execution_count": 156,
   "metadata": {},
   "outputs": [
    {
     "ename": "ImportError",
     "evalue": "cannot import name 'CategoricalImputer' from 'sklearn.impute' (C:\\Users\\pipi1\\anaconda3\\lib\\site-packages\\sklearn\\impute\\__init__.py)",
     "output_type": "error",
     "traceback": [
      "\u001b[1;31m---------------------------------------------------------------------------\u001b[0m",
      "\u001b[1;31mImportError\u001b[0m                               Traceback (most recent call last)",
      "Input \u001b[1;32mIn [156]\u001b[0m, in \u001b[0;36m<cell line: 2>\u001b[1;34m()\u001b[0m\n\u001b[0;32m      1\u001b[0m \u001b[38;5;66;03m# As the columns which have missing values, they are only categorical, we'll use the categorical imputer\u001b[39;00m\n\u001b[1;32m----> 2\u001b[0m \u001b[38;5;28;01mfrom\u001b[39;00m \u001b[38;5;21;01msklearn\u001b[39;00m\u001b[38;5;21;01m.\u001b[39;00m\u001b[38;5;21;01mimpute\u001b[39;00m \u001b[38;5;28;01mimport\u001b[39;00m CategoricalImputer\n\u001b[0;32m      3\u001b[0m imputer \u001b[38;5;241m=\u001b[39m CategoricalImputer()\n",
      "\u001b[1;31mImportError\u001b[0m: cannot import name 'CategoricalImputer' from 'sklearn.impute' (C:\\Users\\pipi1\\anaconda3\\lib\\site-packages\\sklearn\\impute\\__init__.py)"
     ]
    }
   ],
   "source": [
    "# As the columns which have missing values, they are only categorical, we'll use the categorical imputer\n",
    "from sklearn.impute import CategoricalImputer\n",
    "imputer = CategoricalImputer()"
   ]
  },
  {
   "cell_type": "code",
   "execution_count": null,
   "metadata": {},
   "outputs": [],
   "source": [
    "\n",
    "# Imputing the missing values\n",
    "train_data['workclass'] = imputer.fit_transform(train_data['workclass'])\n",
    "train_data['occupation'] = imputer.fit_transform(train_data['occupation'])\n",
    "train_data['native_country'] = imputer.fit_transform(train_data['native_country'])"
   ]
  },
  {
   "cell_type": "code",
   "execution_count": null,
   "metadata": {},
   "outputs": [],
   "source": [
    "# Again checking missing values after imputation\n",
    "train_data.isna().sum()"
   ]
  },
  {
   "cell_type": "code",
   "execution_count": null,
   "metadata": {},
   "outputs": [],
   "source": [
    "train_data"
   ]
  },
  {
   "cell_type": "code",
   "execution_count": null,
   "metadata": {},
   "outputs": [],
   "source": [
    "# test['workclass'] = imputer.fit_transform(test['workclass'])\n",
    "# test['occupation'] = imputer.fit_transform(test['occupation'])\n",
    "# test['native_country'] = imputer.fit_transform(test['native_country'])"
   ]
  },
  {
   "cell_type": "code",
   "execution_count": null,
   "metadata": {},
   "outputs": [],
   "source": [
    "# Checking label counts\n",
    "sns.countplot(x='income', data=train_data)\n",
    "plt.title(\"Distribution of Income\", fontsize = 15)\n",
    "plt.show()"
   ]
  },
  {
   "cell_type": "code",
   "execution_count": null,
   "metadata": {},
   "outputs": [],
   "source": [
    "print('-> Total No. of records : {}\\n'.format(len(train_data)))\n",
    "\n",
    "print('-> Number of people making more that >50K : {}%\\n'.format(\n",
    "    round((len(train_data[train_data['income']==1])/32561)*100, 2)))\n",
    "\n",
    "print('-> Number of people making less than or equal to <=50K : {}%'.format(\n",
    "    round((len(train_data[train_data['income']==0])/32561)*100, 2)))"
   ]
  },
  {
   "cell_type": "code",
   "execution_count": null,
   "metadata": {},
   "outputs": [],
   "source": [
    "# Distribution plot for age column\n",
    "plt.figure(figsize=[15,6])\n",
    "plt.subplot(1,2,1)\n",
    "sns.distplot(train_data['age'])\n",
    "plt.title('Distribution Plot For Age', fontsize = 15)\n",
    "\n",
    "# Distribution plot for age per class\n",
    "plt.subplot(1,2,2)\n",
    "sns.distplot(train_data[train_data['income']==1]['age'], label='1', color='red')\n",
    "sns.distplot(train_data[train_data['income']==0]['age'], label='0', color='blue')\n",
    "plt.legend()\n",
    "plt.title('Distribution Plot For Age Per Class', fontsize = 15)\n",
    "plt.show()"
   ]
  },
  {
   "cell_type": "code",
   "execution_count": null,
   "metadata": {},
   "outputs": [],
   "source": [
    "# Countplot for workclass column\n",
    "plt.figure(figsize=[18,8])\n",
    "plt.subplot(1,2,1)\n",
    "sns.countplot(train_data['workclass'])\n",
    "plt.title(\"Count Plot For Workclass\", fontsize = 15)\n",
    "plt.xticks(rotation=90)\n",
    "\n",
    "# Countplot for workclass per class\n",
    "plt.subplot(1,2,2)\n",
    "sns.countplot(data=train_data, x='workclass', hue='income')\n",
    "plt.title(\"Count Plot For Workclass Per Class\", fontsize = 15)\n",
    "plt.xticks(rotation=90)\n",
    "plt.show()"
   ]
  },
  {
   "cell_type": "code",
   "execution_count": null,
   "metadata": {},
   "outputs": [],
   "source": [
    "# Count Plot for Education Per Class\n",
    "plt.figure(figsize=[16,15])\n",
    "plt.subplot(2,1,1)\n",
    "sns.countplot(x='education', data=train_data, hue='income')\n",
    "plt.xticks(rotation=20)\n",
    "plt.title(\"Count Plot for Education Per Class\", fontsize = 15)\n",
    "\n",
    "# Count Plot for Education Number Per Class\n",
    "plt.subplot(2,1,2)\n",
    "sns.countplot(x='education-num', data=train_data, hue='income')\n",
    "plt.title(\"Count Plot for Education Number Per Class\", fontsize = 15)\n",
    "plt.subplots_adjust(hspace = 0.35)"
   ]
  },
  {
   "cell_type": "code",
   "execution_count": null,
   "metadata": {},
   "outputs": [],
   "source": [
    "education_classes = train_data['education'].unique()\n",
    "for educ_class in education_classes:\n",
    "    print(\"{}, the Education Number is {}\".\n",
    "          format(educ_class, train_data[train_data['education'] == educ_class]['education-num'].unique()))\n"
   ]
  },
  {
   "cell_type": "code",
   "execution_count": null,
   "metadata": {},
   "outputs": [],
   "source": [
    "# education & education number column are just the same, so I am dropping education number column.\n",
    "train_data.drop(labels='education-num', axis=1, inplace=True)\n"
   ]
  },
  {
   "cell_type": "code",
   "execution_count": null,
   "metadata": {},
   "outputs": [],
   "source": [
    "# Count Plot For Gender Per Class\n",
    "sns.countplot(x='sex' ,data=train_data, hue='income')\n",
    "plt.title(\"Countplot for Gender Per Class\", fontsize = 15)"
   ]
  },
  {
   "cell_type": "code",
   "execution_count": null,
   "metadata": {},
   "outputs": [],
   "source": [
    "# Countplot for Maritial Status\n",
    "plt.figure(figsize=[18,8])\n",
    "plt.subplot(1,2,1)\n",
    "sns.countplot(train_data['marital-status'])\n",
    "plt.title(\"Countplot for Maritial Status\", fontsize = 15)\n",
    "plt.xticks(rotation=90)\n",
    "\n",
    "# Countplot for Maritial Status Per Class\n",
    "plt.subplot(1,2,2)\n",
    "sns.countplot(train_data['marital-status'],hue=train_data['income'])\n",
    "plt.title(\"Countplot for Maritial Status Per Class\", fontsize = 15)\n",
    "plt.xticks(rotation=90)\n",
    "plt.show()\n",
    "\n",
    "print('\\n --Value Counts-- \\n')\n",
    "print(train_data['marital-status'].value_counts())"
   ]
  },
  {
   "cell_type": "code",
   "execution_count": null,
   "metadata": {},
   "outputs": [],
   "source": [
    "# Transforming Maritial Status column with value as either married or not married.\n",
    "train_data = train_data.replace({'Married-civ-spouse':'married','Married-AF-spouse':'married','Married-spouse-absent':'married',\n",
    "                    'Never-married':'not married','Divorced':'not married','Separated':'not married','Widowed':'not married'})\n"
   ]
  },
  {
   "cell_type": "code",
   "execution_count": null,
   "metadata": {},
   "outputs": [],
   "source": [
    "plt.figure(figsize=[18,8])\n",
    "plt.subplot(1,2,1)\n",
    "sns.countplot(train_data['relationship'])\n",
    "plt.title('Countplot for Relationship', fontsize = 15)\n",
    "\n",
    "\n",
    "plt.subplot(1,2,2)\n",
    "sns.countplot(train_data['relationship'],hue=train_data['income'])\n",
    "plt.title('Countplot for Relationship Per Class', fontsize = 15)\n",
    "plt.show()\n",
    "\n",
    "print('\\n --Value Counts-- \\n')\n",
    "print(train_data['relationship'].value_counts())"
   ]
  },
  {
   "cell_type": "code",
   "execution_count": null,
   "metadata": {},
   "outputs": [],
   "source": [
    "\n",
    "plt.figure(figsize=[10,5])\n",
    "sns.countplot(train_data['race'], hue=train_data['income'])\n",
    "plt.title('Countplot for Race Per Class', fontsize = 15)"
   ]
  },
  {
   "cell_type": "code",
   "execution_count": null,
   "metadata": {},
   "outputs": [],
   "source": [
    "plt.figure(figsize=[18,8])\n",
    "sns.countplot(train_data['native-country'],hue=train_data['income'])\n",
    "plt.title('Countplot for Country Per Class', fontsize = 15)\n",
    "plt.xticks(rotation=90)\n",
    "plt.show()\n",
    "\n",
    "print('\\n --Value Counts-- \\n')\n",
    "print(train_data['native-country'].value_counts())\n",
    "\n",
    "print('\\n-----------------------------------')\n",
    "print('{}% people belong from united states.'\n",
    "      .format(round(len(train_data[train_data['native-country']=='United-States'])/32561*100,2)))\n",
    "\n",
    "print('{}% people belong from other country.'\n",
    "      .format(round(len(train_data[train_data['native-country']!='United-States'])/32561*100,2)))\n"
   ]
  },
  {
   "cell_type": "code",
   "execution_count": null,
   "metadata": {},
   "outputs": [],
   "source": [
    "# Transforming native country column with value as either United States or Other.\n",
    "countries = train_data['native-country'].unique()[1:]\n",
    "train_data['native-country'] = train_data['native-country'].replace(to_replace=countries, value='Other')\n",
    "# Countplot for Country Per Class\n",
    "sns.countplot(train_data['native-country'], hue=train_data['income'])\n",
    "plt.title('Countplot for Country Per Class', fontsize = 15)\n",
    "plt.show()"
   ]
  },
  {
   "cell_type": "code",
   "execution_count": null,
   "metadata": {},
   "outputs": [],
   "source": [
    "plt.figure(figsize=[18,8])\n",
    "sns.countplot(train_data['occupation'], hue=train_data['income'])\n",
    "plt.title('Countplot for Occupation Per Class', fontsize = 15)\n",
    "plt.xticks(rotation=90)\n",
    "plt.show()"
   ]
  },
  {
   "cell_type": "code",
   "execution_count": null,
   "metadata": {},
   "outputs": [],
   "source": [
    "# Distribution plot for hours per week column\n",
    "plt.figure(figsize=[16,6])\n",
    "sns.distplot(train_data['hours-per-week'])\n",
    "plt.title('Distribution plot for hours per week', fontsize = 15)"
   ]
  },
  {
   "cell_type": "code",
   "execution_count": null,
   "metadata": {},
   "outputs": [],
   "source": [
    "# Categorical features\n",
    "cat_df = train_data.select_dtypes(include=['object'])\n",
    "num_df = train_data.select_dtypes(include=['int64'])\n",
    "\n",
    "# Categorical column with their unique value\n",
    "for i in cat_df.columns:\n",
    "    print(\"{} : {} \\n\".format(i, cat_df[i].unique()))"
   ]
  },
  {
   "cell_type": "code",
   "execution_count": null,
   "metadata": {},
   "outputs": [],
   "source": [
    "\n",
    "# Creating dummies variables\n",
    "train_data_dummie = pd.get_dummies(train_data,drop_first=True)\n",
    "train_data_dummie.head()"
   ]
  },
  {
   "cell_type": "code",
   "execution_count": null,
   "metadata": {},
   "outputs": [],
   "source": [
    "print(\"Total No. of features after creating dummie variable : {}\\n\".format(len(train_data_dummie.columns)))\n",
    "print('--Features--\\n')\n",
    "for i in train_data_dummie.columns:\n",
    "    print(i)\n",
    "print('---------------------------')"
   ]
  },
  {
   "cell_type": "code",
   "execution_count": null,
   "metadata": {},
   "outputs": [],
   "source": [
    "#Feature selection\n",
    "from sklearn.preprocessing import LabelEncoder\n",
    "temp_data = train_data.copy()\n",
    "for col in temp_data.columns:\n",
    "    if temp_data[col].dtypes == 'object':\n",
    "        encoder = LabelEncoder()\n",
    "        temp_data[col] = encoder.fit_transform(temp_data[col])\n",
    "        \n",
    "# Correated Features with target variable\n",
    "print('\\n--Correated Features with target variable--\\n')\n",
    "print(abs(temp_data.corrwith(temp_data['income'])).sort_values(ascending=False)[1:])\n"
   ]
  },
  {
   "cell_type": "code",
   "execution_count": null,
   "metadata": {},
   "outputs": [],
   "source": [
    "# Correlation Heatmap\n",
    "plt.figure(figsize=[14,8])\n",
    "sns.heatmap(temp_data.corr(), annot=True, cmap='RdYlGn', vmax=.5)\n",
    "plt.show()"
   ]
  },
  {
   "cell_type": "code",
   "execution_count": null,
   "metadata": {},
   "outputs": [],
   "source": [
    "train_data_dummie.iloc[:,7:13]"
   ]
  },
  {
   "cell_type": "code",
   "execution_count": null,
   "metadata": {},
   "outputs": [],
   "source": [
    "# Droping those features which we are not going to use\n",
    "final_features = train_data_dummie.drop(['fnlwgt','workclass_ Local-gov', 'workclass_ Never-worked','workclass_ Private',\n",
    "                                         'workclass_ Self-emp-inc','workclass_ Self-emp-not-inc', 'workclass_ State-gov',\n",
    "                                         'workclass_ Without-pay'], axis=1)\n"
   ]
  },
  {
   "cell_type": "code",
   "execution_count": null,
   "metadata": {},
   "outputs": [],
   "source": [
    "X = final_features.drop(['income'],axis=1)\n",
    "y = final_features['income']"
   ]
  },
  {
   "cell_type": "code",
   "execution_count": null,
   "metadata": {},
   "outputs": [],
   "source": [
    "# Feature scaling on training data\n",
    "from sklearn.preprocessing import StandardScaler\n",
    "scaler = StandardScaler()\n",
    "scaler.fit(X[['age', 'capital-gain', 'capital-loss', 'hours-per-week']])"
   ]
  },
  {
   "cell_type": "code",
   "execution_count": null,
   "metadata": {},
   "outputs": [],
   "source": [
    "input_scaled = scaler.transform(X[['age', 'capital-gain', 'capital-loss', 'hours-per-week']])\n",
    "scaled_data = pd.DataFrame(input_scaled,columns=['age', 'capital-gain', 'capital-loss', 'hours-per-week'])\n",
    "X_scaled = scaled_data.join(X.drop(['age','capital-gain', 'capital-loss','hours-per-week'],axis=1))\n"
   ]
  },
  {
   "cell_type": "code",
   "execution_count": null,
   "metadata": {},
   "outputs": [],
   "source": []
  },
  {
   "cell_type": "code",
   "execution_count": null,
   "metadata": {},
   "outputs": [],
   "source": [
    "! pip install imbalanced-learn"
   ]
  },
  {
   "cell_type": "code",
   "execution_count": null,
   "metadata": {},
   "outputs": [],
   "source": [
    "# Fixing imbalanced dataset by oversampling\n",
    "# 클래스 불균형 처리를 해주는 imbalanced-learn를 호출\n",
    "from imblearn.over_sampling import RandomOverSampler\n"
   ]
  },
  {
   "cell_type": "code",
   "execution_count": null,
   "metadata": {},
   "outputs": [],
   "source": [
    "rd_over_sample = RandomOverSampler()\n",
    "X_sampled, y_sampled = rd_over_sample.fit_resample(X_scaled,y)"
   ]
  },
  {
   "cell_type": "code",
   "execution_count": null,
   "metadata": {},
   "outputs": [],
   "source": [
    "# Plot Before sampling\n",
    "plt.figure(figsize=[15,5])\n",
    "plt.subplot(1,2,1)\n",
    "sns.countplot(train_data_dummie['income'])\n",
    "plt.title(\"Before sampling\")\n",
    "\n",
    "# Plot After sampling\n",
    "plt.subplot(1,2,2)\n",
    "sns.countplot(y_sampled.squeeze())\n",
    "plt.title(\"After sampling\")\n",
    "plt.show()\n",
    "\n",
    "print('Before sampling : \\n{}'.format(y.value_counts()))\n",
    "print('\\nAfter sampling : \\n{}'.format(y_sampled.value_counts()))"
   ]
  },
  {
   "cell_type": "code",
   "execution_count": null,
   "metadata": {},
   "outputs": [],
   "source": [
    "# Split data into train and test\n",
    "from sklearn.model_selection import train_test_split\n",
    "x_train, x_test, y_train, y_test = train_test_split(X_sampled, y_sampled, test_size=0.2, random_state=0)\n"
   ]
  },
  {
   "cell_type": "code",
   "execution_count": null,
   "metadata": {},
   "outputs": [],
   "source": [
    "# Model Building\n",
    "from xgboost import XGBClassifier\n",
    "xgb = XGBClassifier(random_state=0)\n",
    "\n",
    "# Training Model\n",
    "xgb.fit(x_train, y_train)\n",
    "\n",
    "# Mode summary\n",
    "y_pred_xgb = xgb.predict(x_test)\n",
    "y_pred_train_xgb = xgb.predict(x_train)"
   ]
  },
  {
   "cell_type": "code",
   "execution_count": null,
   "metadata": {},
   "outputs": [],
   "source": [
    "# XGB Classifier Hyperparameter optimization using RandomizedSearchCV\n",
    "from sklearn.model_selection import RandomizedSearchCV\n",
    "params={\n",
    " \"learning_rate\"    : [0.05, 0.10, 0.15, 0.20, 0.25, 0.30 ] ,\n",
    " \"max_depth\"        : [ 3, 4, 5, 6, 8, 10, 12, 15],\n",
    " \"min_child_weight\" : [ 1, 3, 5, 7 ],\n",
    " \"gamma\"            : [ 0.0, 0.1, 0.2 , 0.3, 0.4 ],\n",
    " \"colsample_bytree\" : [ 0.3, 0.4, 0.5 , 0.7 ]\n",
    "}\n",
    "\n",
    "classifier=XGBClassifier()\n",
    "random_search = RandomizedSearchCV(classifier,\n",
    "                                 param_distributions=params,\n",
    "                                 n_iter=5, n_jobs=-1,cv=5,verbose=3)\n"
   ]
  },
  {
   "cell_type": "code",
   "execution_count": null,
   "metadata": {},
   "outputs": [],
   "source": [
    "random_search.fit(x_train,y_train)"
   ]
  },
  {
   "cell_type": "code",
   "execution_count": null,
   "metadata": {},
   "outputs": [],
   "source": [
    "random_search.best_params_"
   ]
  },
  {
   "cell_type": "code",
   "execution_count": null,
   "metadata": {},
   "outputs": [],
   "source": [
    "\n",
    "# Again Training our model with best parameter\n",
    "xgb_tune = XGBClassifier(random_state=0,min_child_weight=3,max_depth= 15,\n",
    "                    learning_rate = 0.1,gamma= 0.1,\n",
    "                    colsample_bytree= 0.7)\n",
    "xgb_tune.fit(x_train,y_train)\n",
    "y_pred_xgb_tune = xgb_tune.predict(x_test)"
   ]
  },
  {
   "cell_type": "code",
   "execution_count": null,
   "metadata": {},
   "outputs": [],
   "source": [
    "print(\"-----Test Data Accuracy----\")\n",
    "print('Gradient Boosting Classifier:')\n",
    "print('Accuracy score:', round(accuracy_score(y_test, y_pred_xgb_tune), 3))"
   ]
  },
  {
   "cell_type": "code",
   "execution_count": null,
   "metadata": {},
   "outputs": [],
   "source": [
    "test_pre=salary_model.predict(test)\n",
    "test_pre"
   ]
  },
  {
   "cell_type": "code",
   "execution_count": null,
   "metadata": {},
   "outputs": [],
   "source": [
    "submission = pd.read_csv(\"./data/salary/sample_submission.csv\")\n",
    "submission"
   ]
  },
  {
   "cell_type": "code",
   "execution_count": null,
   "metadata": {},
   "outputs": [],
   "source": [
    "submission['income'] = test_pre\n",
    "submission"
   ]
  },
  {
   "cell_type": "code",
   "execution_count": null,
   "metadata": {},
   "outputs": [],
   "source": [
    "X_train, test, y_train"
   ]
  },
  {
   "cell_type": "code",
   "execution_count": null,
   "metadata": {},
   "outputs": [],
   "source": [
    "# csv파일로 저장 index=False -> 이걸 안하면 인덱스도 컬럼으로 저장된다\n",
    "submission.to_csv(\"./data/salary/myPrediction.csv\", index=False)"
   ]
  },
  {
   "cell_type": "code",
   "execution_count": null,
   "metadata": {},
   "outputs": [],
   "source": [
    "from sklearn.ensemble import RandomForestClassifier\n",
    "rf_model = RandomForestClassifier(random_state=118, # 랜덤 수 고정\n",
    "                                 n_estimators=1000, # 앙상블할 모델의 갯수 \n",
    "                                 max_features=0.6, # 학습에 사용할 특성 수\n",
    "                                 max_depth=10) # 트리의 깊이 설정 \n"
   ]
  },
  {
   "cell_type": "code",
   "execution_count": null,
   "metadata": {},
   "outputs": [],
   "source": [
    "X_train1,X_val,y_train1,y_val=train_test_split(X_train,y_train,test_size=0.2, random_state=118)                                                                                                                       \n",
    "rf_model.fit(X_train,y_train)\n",
    "pre= salary_model.predict(X_val)\n",
    "pre\n",
    "score = accuracy_score(y_val,pre)\n",
    "print(\"정확도 : \",score)"
   ]
  },
  {
   "cell_type": "code",
   "execution_count": null,
   "metadata": {},
   "outputs": [],
   "source": [
    "rf_pre = rf_model.predict(X_test)"
   ]
  },
  {
   "cell_type": "code",
   "execution_count": null,
   "metadata": {},
   "outputs": [],
   "source": [
    "X_train.info()"
   ]
  },
  {
   "cell_type": "code",
   "execution_count": null,
   "metadata": {},
   "outputs": [],
   "source": [
    "X_train"
   ]
  },
  {
   "cell_type": "code",
   "execution_count": null,
   "metadata": {},
   "outputs": [],
   "source": [
    "from xgboost import XGBClassifier\n",
    "xgb_model = XGBClassifier()\n",
    "X_train1,X_val,y_train1,y_val=train_test_split(X_train,y_train,test_size=0.2, random_state=118)                                                                                                                       \n",
    "xgb_model.fit(X_train1,y_train1)\n",
    "pre= xgb_model.predict(X_val)\n",
    "pre\n",
    "score = accuracy_score(y_val,pre)\n",
    "print(\"정확도 : \",score)"
   ]
  },
  {
   "cell_type": "code",
   "execution_count": null,
   "metadata": {},
   "outputs": [],
   "source": [
    "pre_xgb = xgb_model.predict(X_test)"
   ]
  },
  {
   "cell_type": "code",
   "execution_count": null,
   "metadata": {},
   "outputs": [],
   "source": []
  },
  {
   "cell_type": "code",
   "execution_count": null,
   "metadata": {},
   "outputs": [],
   "source": [
    "from sklearn.svm import SVC\n",
    "svm_clf = SVC()\n",
    "X_train1,X_val,y_train1,y_val=train_test_split(X_train,y_train,test_size=0.2, random_state=118)                                                                                                                       \n",
    "svm_clf.fit(X_train1,y_train1)\n",
    "pre= svm_clf.predict(X_val)\n",
    "pre\n",
    "score = accuracy_score(y_val,pre)\n",
    "print(\"정확도 : \",score)\n",
    "\n",
    "\n"
   ]
  },
  {
   "cell_type": "code",
   "execution_count": null,
   "metadata": {},
   "outputs": [],
   "source": [
    "test"
   ]
  },
  {
   "cell_type": "code",
   "execution_count": null,
   "metadata": {},
   "outputs": [],
   "source": [
    "from sklearn.ensemble import RandomForestClassifier\n",
    "rf_clf = RandomForestClassifier(n_estimators=13, random_state=118)\n",
    "X_train1,X_val,y_train1,y_val=train_test_split(X_train,y_train,test_size=0.2, random_state=118)                                                                                                                       \n",
    "rf_clf.fit(X_train1,y_train1)\n",
    "pre= rf_clf.predict(X_val)\n",
    "pre\n",
    "score = accuracy_score(y_val,pre)\n",
    "print(\"정확도 : \",score)"
   ]
  },
  {
   "cell_type": "code",
   "execution_count": null,
   "metadata": {},
   "outputs": [],
   "source": [
    "test_y_pred_rf = rf_clf.predict(test)"
   ]
  },
  {
   "cell_type": "code",
   "execution_count": null,
   "metadata": {},
   "outputs": [],
   "source": [
    "submission = pd.read_csv(\"./data/salary/sample_submission.csv\")\n",
    "submission"
   ]
  },
  {
   "cell_type": "code",
   "execution_count": null,
   "metadata": {},
   "outputs": [],
   "source": [
    "submission['income'] = test_y_pred_rf \n",
    "submission"
   ]
  },
  {
   "cell_type": "code",
   "execution_count": null,
   "metadata": {},
   "outputs": [],
   "source": [
    "\n",
    "submission.to_csv(\"./data/salary/myPrediction7.csv\", index=False)"
   ]
  },
  {
   "cell_type": "code",
   "execution_count": null,
   "metadata": {},
   "outputs": [],
   "source": []
  },
  {
   "cell_type": "code",
   "execution_count": null,
   "metadata": {},
   "outputs": [],
   "source": [
    "from sklearn.model_selection import cross_val_score\n",
    "cross_score = cross_val_score(rf_model,X_train,y_train,cv=5)\n",
    "cross_score.mean()"
   ]
  },
  {
   "cell_type": "code",
   "execution_count": null,
   "metadata": {},
   "outputs": [],
   "source": []
  },
  {
   "cell_type": "code",
   "execution_count": null,
   "metadata": {},
   "outputs": [],
   "source": [
    "from sklearn.model_selection import GridSearchCV\n",
    "model2 = RandomForestClassifier(random_state=118)\n",
    "# 파라미터 조합\n",
    "pram_grid = {\n",
    "    'max_depth' : [5, 7, 9, 10],\n",
    "    'n_estimators' : [10,20,25,30],\n",
    "    'max_features' : [0.5, 0.7, 0.8]\n",
    "}  # 총 4x4x3 개\n",
    "grid = GridSearchCV(model2,   #튜닝할 모델\n",
    "                    pram_grid, # 튜닝해볼 파라미터 조합\n",
    "                    cv=3, # 교차검증 횟수\n",
    "                    n_jobs=-1)  # 연산에 사용할 pc코어 수(-1 = 모든 피씨의 연산을 여기에 집중시키겠다)\n",
    "                    # 총 파라미터 조합갯수 x 교차검증횟수(cv)\n",
    "                    "
   ]
  },
  {
   "cell_type": "code",
   "execution_count": null,
   "metadata": {},
   "outputs": [],
   "source": [
    "grid.fit(X_train,y_train)\n",
    "print(\"최고 점수\",grid.best_score_)\n",
    "print(\"최고 조합\",grid.best_params_)"
   ]
  },
  {
   "cell_type": "code",
   "execution_count": null,
   "metadata": {},
   "outputs": [],
   "source": []
  },
  {
   "cell_type": "code",
   "execution_count": null,
   "metadata": {},
   "outputs": [],
   "source": [
    "# Model Building\n",
    "from xgboost import XGBClassifier\n",
    "xgb = XGBClassifier(random_state=0)\n",
    "\n",
    "# Training Model\n",
    "xgb.fit(x_train, y_train)\n",
    "\n",
    "# Mode summary\n",
    "y_pred_xgb = xgb.predict(x_test)\n",
    "y_pred_train_xgb = xgb.predict(x_train)"
   ]
  }
 ],
 "metadata": {
  "kernelspec": {
   "display_name": "Python 3 (ipykernel)",
   "language": "python",
   "name": "python3"
  },
  "language_info": {
   "codemirror_mode": {
    "name": "ipython",
    "version": 3
   },
   "file_extension": ".py",
   "mimetype": "text/x-python",
   "name": "python",
   "nbconvert_exporter": "python",
   "pygments_lexer": "ipython3",
   "version": "3.9.12"
  },
  "toc": {
   "base_numbering": 1,
   "nav_menu": {},
   "number_sections": true,
   "sideBar": true,
   "skip_h1_title": false,
   "title_cell": "Table of Contents",
   "title_sidebar": "Contents",
   "toc_cell": false,
   "toc_position": {},
   "toc_section_display": true,
   "toc_window_display": false
  },
  "vscode": {
   "interpreter": {
    "hash": "a9d8fbd2622250be90e11d7629650d111e02c5b989647467f2b91c323a6d7e8d"
   }
  }
 },
 "nbformat": 4,
 "nbformat_minor": 2
}

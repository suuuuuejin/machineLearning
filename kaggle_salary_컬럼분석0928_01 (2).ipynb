{
 "cells": [
  {
   "cell_type": "code",
   "execution_count": 2,
   "id": "3666da2d",
   "metadata": {},
   "outputs": [],
   "source": [
    "import numpy as np\n",
    "import pandas as pd\n",
    "import matplotlib.pyplot as plt\n",
    "plt.style.use(['dark_background'])\n",
    "import seaborn as sns\n",
    "from sklearn.model_selection import train_test_split\n",
    "from sklearn.neighbors import KNeighborsClassifier\n",
    "from sklearn.tree import DecisionTreeClassifier\n",
    "from sklearn.metrics import accuracy_score"
   ]
  },
  {
   "cell_type": "code",
   "execution_count": 3,
   "id": "7cacf07b",
   "metadata": {},
   "outputs": [],
   "source": [
    "train = pd.read_csv(\"./data/salary/train.csv\")\n",
    "test = pd.read_csv(\"./data/salary/test.csv\")"
   ]
  },
  {
   "cell_type": "markdown",
   "id": "44bbb388",
   "metadata": {},
   "source": [
    "### 데이터 탐색"
   ]
  },
  {
   "cell_type": "code",
   "execution_count": 4,
   "id": "e6cd8718",
   "metadata": {},
   "outputs": [
    {
     "data": {
      "text/plain": [
       "'Train'"
      ]
     },
     "metadata": {},
     "output_type": "display_data"
    },
    {
     "data": {
      "text/html": [
       "<div>\n",
       "<style scoped>\n",
       "    .dataframe tbody tr th:only-of-type {\n",
       "        vertical-align: middle;\n",
       "    }\n",
       "\n",
       "    .dataframe tbody tr th {\n",
       "        vertical-align: top;\n",
       "    }\n",
       "\n",
       "    .dataframe thead th {\n",
       "        text-align: right;\n",
       "    }\n",
       "</style>\n",
       "<table border=\"1\" class=\"dataframe\">\n",
       "  <thead>\n",
       "    <tr style=\"text-align: right;\">\n",
       "      <th></th>\n",
       "      <th>no</th>\n",
       "      <th>age</th>\n",
       "      <th>workclass</th>\n",
       "      <th>fnlwgt</th>\n",
       "      <th>education</th>\n",
       "      <th>education-num</th>\n",
       "      <th>marital-status</th>\n",
       "      <th>occupation</th>\n",
       "      <th>relationship</th>\n",
       "      <th>race</th>\n",
       "      <th>sex</th>\n",
       "      <th>capital-gain</th>\n",
       "      <th>capital-loss</th>\n",
       "      <th>hours-per-week</th>\n",
       "      <th>native-country</th>\n",
       "      <th>income</th>\n",
       "    </tr>\n",
       "  </thead>\n",
       "  <tbody>\n",
       "    <tr>\n",
       "      <th>0</th>\n",
       "      <td>1</td>\n",
       "      <td>25</td>\n",
       "      <td>Private</td>\n",
       "      <td>219199</td>\n",
       "      <td>11th</td>\n",
       "      <td>7</td>\n",
       "      <td>Divorced</td>\n",
       "      <td>Machine-op-inspct</td>\n",
       "      <td>Not-in-family</td>\n",
       "      <td>White</td>\n",
       "      <td>Male</td>\n",
       "      <td>0</td>\n",
       "      <td>0</td>\n",
       "      <td>40</td>\n",
       "      <td>United-States</td>\n",
       "      <td>0</td>\n",
       "    </tr>\n",
       "    <tr>\n",
       "      <th>1</th>\n",
       "      <td>2</td>\n",
       "      <td>39</td>\n",
       "      <td>Private</td>\n",
       "      <td>52978</td>\n",
       "      <td>Some-college</td>\n",
       "      <td>10</td>\n",
       "      <td>Divorced</td>\n",
       "      <td>Other-service</td>\n",
       "      <td>Not-in-family</td>\n",
       "      <td>White</td>\n",
       "      <td>Female</td>\n",
       "      <td>0</td>\n",
       "      <td>1721</td>\n",
       "      <td>55</td>\n",
       "      <td>United-States</td>\n",
       "      <td>0</td>\n",
       "    </tr>\n",
       "    <tr>\n",
       "      <th>2</th>\n",
       "      <td>3</td>\n",
       "      <td>35</td>\n",
       "      <td>Private</td>\n",
       "      <td>196899</td>\n",
       "      <td>Bachelors</td>\n",
       "      <td>13</td>\n",
       "      <td>Never-married</td>\n",
       "      <td>Handlers-cleaners</td>\n",
       "      <td>Not-in-family</td>\n",
       "      <td>Asian-Pac-Islander</td>\n",
       "      <td>Female</td>\n",
       "      <td>0</td>\n",
       "      <td>0</td>\n",
       "      <td>50</td>\n",
       "      <td>Haiti</td>\n",
       "      <td>0</td>\n",
       "    </tr>\n",
       "    <tr>\n",
       "      <th>3</th>\n",
       "      <td>4</td>\n",
       "      <td>64</td>\n",
       "      <td>Private</td>\n",
       "      <td>135527</td>\n",
       "      <td>Assoc-voc</td>\n",
       "      <td>11</td>\n",
       "      <td>Divorced</td>\n",
       "      <td>Tech-support</td>\n",
       "      <td>Not-in-family</td>\n",
       "      <td>White</td>\n",
       "      <td>Female</td>\n",
       "      <td>0</td>\n",
       "      <td>0</td>\n",
       "      <td>40</td>\n",
       "      <td>United-States</td>\n",
       "      <td>0</td>\n",
       "    </tr>\n",
       "    <tr>\n",
       "      <th>4</th>\n",
       "      <td>5</td>\n",
       "      <td>24</td>\n",
       "      <td>Private</td>\n",
       "      <td>60783</td>\n",
       "      <td>Some-college</td>\n",
       "      <td>10</td>\n",
       "      <td>Married-civ-spouse</td>\n",
       "      <td>Transport-moving</td>\n",
       "      <td>Husband</td>\n",
       "      <td>White</td>\n",
       "      <td>Male</td>\n",
       "      <td>0</td>\n",
       "      <td>0</td>\n",
       "      <td>70</td>\n",
       "      <td>United-States</td>\n",
       "      <td>1</td>\n",
       "    </tr>\n",
       "    <tr>\n",
       "      <th>5</th>\n",
       "      <td>6</td>\n",
       "      <td>66</td>\n",
       "      <td>Self-emp-not-inc</td>\n",
       "      <td>274451</td>\n",
       "      <td>9th</td>\n",
       "      <td>5</td>\n",
       "      <td>Married-civ-spouse</td>\n",
       "      <td>Farming-fishing</td>\n",
       "      <td>Husband</td>\n",
       "      <td>White</td>\n",
       "      <td>Male</td>\n",
       "      <td>0</td>\n",
       "      <td>0</td>\n",
       "      <td>25</td>\n",
       "      <td>United-States</td>\n",
       "      <td>1</td>\n",
       "    </tr>\n",
       "    <tr>\n",
       "      <th>6</th>\n",
       "      <td>7</td>\n",
       "      <td>56</td>\n",
       "      <td>Private</td>\n",
       "      <td>152874</td>\n",
       "      <td>Bachelors</td>\n",
       "      <td>13</td>\n",
       "      <td>Divorced</td>\n",
       "      <td>Prof-specialty</td>\n",
       "      <td>Unmarried</td>\n",
       "      <td>Black</td>\n",
       "      <td>Female</td>\n",
       "      <td>0</td>\n",
       "      <td>1741</td>\n",
       "      <td>40</td>\n",
       "      <td>United-States</td>\n",
       "      <td>0</td>\n",
       "    </tr>\n",
       "    <tr>\n",
       "      <th>7</th>\n",
       "      <td>8</td>\n",
       "      <td>70</td>\n",
       "      <td>Self-emp-not-inc</td>\n",
       "      <td>165586</td>\n",
       "      <td>HS-grad</td>\n",
       "      <td>9</td>\n",
       "      <td>Married-civ-spouse</td>\n",
       "      <td>Farming-fishing</td>\n",
       "      <td>Husband</td>\n",
       "      <td>White</td>\n",
       "      <td>Male</td>\n",
       "      <td>0</td>\n",
       "      <td>0</td>\n",
       "      <td>40</td>\n",
       "      <td>United-States</td>\n",
       "      <td>0</td>\n",
       "    </tr>\n",
       "    <tr>\n",
       "      <th>8</th>\n",
       "      <td>9</td>\n",
       "      <td>21</td>\n",
       "      <td>Private</td>\n",
       "      <td>211013</td>\n",
       "      <td>Assoc-voc</td>\n",
       "      <td>11</td>\n",
       "      <td>Married-civ-spouse</td>\n",
       "      <td>Other-service</td>\n",
       "      <td>Other-relative</td>\n",
       "      <td>White</td>\n",
       "      <td>Female</td>\n",
       "      <td>0</td>\n",
       "      <td>0</td>\n",
       "      <td>50</td>\n",
       "      <td>Mexico</td>\n",
       "      <td>0</td>\n",
       "    </tr>\n",
       "    <tr>\n",
       "      <th>9</th>\n",
       "      <td>10</td>\n",
       "      <td>33</td>\n",
       "      <td>Private</td>\n",
       "      <td>192644</td>\n",
       "      <td>HS-grad</td>\n",
       "      <td>9</td>\n",
       "      <td>Separated</td>\n",
       "      <td>Handlers-cleaners</td>\n",
       "      <td>Unmarried</td>\n",
       "      <td>White</td>\n",
       "      <td>Male</td>\n",
       "      <td>0</td>\n",
       "      <td>0</td>\n",
       "      <td>35</td>\n",
       "      <td>Puerto-Rico</td>\n",
       "      <td>0</td>\n",
       "    </tr>\n",
       "  </tbody>\n",
       "</table>\n",
       "</div>"
      ],
      "text/plain": [
       "   no  age          workclass  fnlwgt      education  education-num  \\\n",
       "0   1   25            Private  219199           11th              7   \n",
       "1   2   39            Private   52978   Some-college             10   \n",
       "2   3   35            Private  196899      Bachelors             13   \n",
       "3   4   64            Private  135527      Assoc-voc             11   \n",
       "4   5   24            Private   60783   Some-college             10   \n",
       "5   6   66   Self-emp-not-inc  274451            9th              5   \n",
       "6   7   56            Private  152874      Bachelors             13   \n",
       "7   8   70   Self-emp-not-inc  165586        HS-grad              9   \n",
       "8   9   21            Private  211013      Assoc-voc             11   \n",
       "9  10   33            Private  192644        HS-grad              9   \n",
       "\n",
       "        marital-status          occupation     relationship  \\\n",
       "0             Divorced   Machine-op-inspct    Not-in-family   \n",
       "1             Divorced       Other-service    Not-in-family   \n",
       "2        Never-married   Handlers-cleaners    Not-in-family   \n",
       "3             Divorced        Tech-support    Not-in-family   \n",
       "4   Married-civ-spouse    Transport-moving          Husband   \n",
       "5   Married-civ-spouse     Farming-fishing          Husband   \n",
       "6             Divorced      Prof-specialty        Unmarried   \n",
       "7   Married-civ-spouse     Farming-fishing          Husband   \n",
       "8   Married-civ-spouse       Other-service   Other-relative   \n",
       "9            Separated   Handlers-cleaners        Unmarried   \n",
       "\n",
       "                  race      sex  capital-gain  capital-loss  hours-per-week  \\\n",
       "0                White     Male             0             0              40   \n",
       "1                White   Female             0          1721              55   \n",
       "2   Asian-Pac-Islander   Female             0             0              50   \n",
       "3                White   Female             0             0              40   \n",
       "4                White     Male             0             0              70   \n",
       "5                White     Male             0             0              25   \n",
       "6                Black   Female             0          1741              40   \n",
       "7                White     Male             0             0              40   \n",
       "8                White   Female             0             0              50   \n",
       "9                White     Male             0             0              35   \n",
       "\n",
       "   native-country  income  \n",
       "0   United-States       0  \n",
       "1   United-States       0  \n",
       "2           Haiti       0  \n",
       "3   United-States       0  \n",
       "4   United-States       1  \n",
       "5   United-States       1  \n",
       "6   United-States       0  \n",
       "7   United-States       0  \n",
       "8          Mexico       0  \n",
       "9     Puerto-Rico       0  "
      ]
     },
     "metadata": {},
     "output_type": "display_data"
    },
    {
     "data": {
      "text/plain": [
       "'Test'"
      ]
     },
     "metadata": {},
     "output_type": "display_data"
    },
    {
     "data": {
      "text/html": [
       "<div>\n",
       "<style scoped>\n",
       "    .dataframe tbody tr th:only-of-type {\n",
       "        vertical-align: middle;\n",
       "    }\n",
       "\n",
       "    .dataframe tbody tr th {\n",
       "        vertical-align: top;\n",
       "    }\n",
       "\n",
       "    .dataframe thead th {\n",
       "        text-align: right;\n",
       "    }\n",
       "</style>\n",
       "<table border=\"1\" class=\"dataframe\">\n",
       "  <thead>\n",
       "    <tr style=\"text-align: right;\">\n",
       "      <th></th>\n",
       "      <th>no</th>\n",
       "      <th>age</th>\n",
       "      <th>workclass</th>\n",
       "      <th>fnlwgt</th>\n",
       "      <th>education</th>\n",
       "      <th>education-num</th>\n",
       "      <th>marital-status</th>\n",
       "      <th>occupation</th>\n",
       "      <th>relationship</th>\n",
       "      <th>race</th>\n",
       "      <th>sex</th>\n",
       "      <th>capital-gain</th>\n",
       "      <th>capital-loss</th>\n",
       "      <th>hours-per-week</th>\n",
       "      <th>native-country</th>\n",
       "    </tr>\n",
       "  </thead>\n",
       "  <tbody>\n",
       "    <tr>\n",
       "      <th>0</th>\n",
       "      <td>29306</td>\n",
       "      <td>18</td>\n",
       "      <td>?</td>\n",
       "      <td>245274</td>\n",
       "      <td>Some-college</td>\n",
       "      <td>10</td>\n",
       "      <td>Never-married</td>\n",
       "      <td>?</td>\n",
       "      <td>Own-child</td>\n",
       "      <td>White</td>\n",
       "      <td>Male</td>\n",
       "      <td>0</td>\n",
       "      <td>0</td>\n",
       "      <td>16</td>\n",
       "      <td>United-States</td>\n",
       "    </tr>\n",
       "    <tr>\n",
       "      <th>1</th>\n",
       "      <td>29307</td>\n",
       "      <td>29</td>\n",
       "      <td>Private</td>\n",
       "      <td>83003</td>\n",
       "      <td>HS-grad</td>\n",
       "      <td>9</td>\n",
       "      <td>Married-civ-spouse</td>\n",
       "      <td>Other-service</td>\n",
       "      <td>Wife</td>\n",
       "      <td>White</td>\n",
       "      <td>Female</td>\n",
       "      <td>0</td>\n",
       "      <td>0</td>\n",
       "      <td>40</td>\n",
       "      <td>United-States</td>\n",
       "    </tr>\n",
       "    <tr>\n",
       "      <th>2</th>\n",
       "      <td>29308</td>\n",
       "      <td>45</td>\n",
       "      <td>Private</td>\n",
       "      <td>35136</td>\n",
       "      <td>Bachelors</td>\n",
       "      <td>13</td>\n",
       "      <td>Married-civ-spouse</td>\n",
       "      <td>Tech-support</td>\n",
       "      <td>Husband</td>\n",
       "      <td>Black</td>\n",
       "      <td>Male</td>\n",
       "      <td>0</td>\n",
       "      <td>0</td>\n",
       "      <td>40</td>\n",
       "      <td>United-States</td>\n",
       "    </tr>\n",
       "    <tr>\n",
       "      <th>3</th>\n",
       "      <td>29309</td>\n",
       "      <td>42</td>\n",
       "      <td>Self-emp-not-inc</td>\n",
       "      <td>64631</td>\n",
       "      <td>Bachelors</td>\n",
       "      <td>13</td>\n",
       "      <td>Married-civ-spouse</td>\n",
       "      <td>Exec-managerial</td>\n",
       "      <td>Husband</td>\n",
       "      <td>White</td>\n",
       "      <td>Male</td>\n",
       "      <td>0</td>\n",
       "      <td>0</td>\n",
       "      <td>40</td>\n",
       "      <td>United-States</td>\n",
       "    </tr>\n",
       "    <tr>\n",
       "      <th>4</th>\n",
       "      <td>29310</td>\n",
       "      <td>41</td>\n",
       "      <td>Private</td>\n",
       "      <td>195821</td>\n",
       "      <td>Doctorate</td>\n",
       "      <td>16</td>\n",
       "      <td>Married-civ-spouse</td>\n",
       "      <td>Exec-managerial</td>\n",
       "      <td>Wife</td>\n",
       "      <td>White</td>\n",
       "      <td>Female</td>\n",
       "      <td>0</td>\n",
       "      <td>1902</td>\n",
       "      <td>40</td>\n",
       "      <td>United-States</td>\n",
       "    </tr>\n",
       "  </tbody>\n",
       "</table>\n",
       "</div>"
      ],
      "text/plain": [
       "      no  age          workclass  fnlwgt      education  education-num  \\\n",
       "0  29306   18                  ?  245274   Some-college             10   \n",
       "1  29307   29            Private   83003        HS-grad              9   \n",
       "2  29308   45            Private   35136      Bachelors             13   \n",
       "3  29309   42   Self-emp-not-inc   64631      Bachelors             13   \n",
       "4  29310   41            Private  195821      Doctorate             16   \n",
       "\n",
       "        marital-status        occupation relationship    race      sex  \\\n",
       "0        Never-married                 ?    Own-child   White     Male   \n",
       "1   Married-civ-spouse     Other-service         Wife   White   Female   \n",
       "2   Married-civ-spouse      Tech-support      Husband   Black     Male   \n",
       "3   Married-civ-spouse   Exec-managerial      Husband   White     Male   \n",
       "4   Married-civ-spouse   Exec-managerial         Wife   White   Female   \n",
       "\n",
       "   capital-gain  capital-loss  hours-per-week  native-country  \n",
       "0             0             0              16   United-States  \n",
       "1             0             0              40   United-States  \n",
       "2             0             0              40   United-States  \n",
       "3             0             0              40   United-States  \n",
       "4             0          1902              40   United-States  "
      ]
     },
     "metadata": {},
     "output_type": "display_data"
    }
   ],
   "source": [
    "display('Train')\n",
    "display(train.head(10))\n",
    "display('Test')\n",
    "display(test.head())"
   ]
  },
  {
   "cell_type": "code",
   "execution_count": 26,
   "id": "a27a5b8a",
   "metadata": {},
   "outputs": [
    {
     "data": {
      "text/plain": [
       " Married-civ-spouse       13331\n",
       " Never-married             9673\n",
       " Divorced                  4030\n",
       " Widowed                    942\n",
       " Separated                  914\n",
       " Married-spouse-absent      394\n",
       " Married-AF-spouse           21\n",
       "Name: marital-status, dtype: int64"
      ]
     },
     "execution_count": 26,
     "metadata": {},
     "output_type": "execute_result"
    }
   ],
   "source": [
    "train['marital-status'].value_counts()"
   ]
  },
  {
   "cell_type": "code",
   "execution_count": 5,
   "id": "e1e6b870",
   "metadata": {},
   "outputs": [
    {
     "data": {
      "text/plain": [
       "'Train'"
      ]
     },
     "metadata": {},
     "output_type": "display_data"
    },
    {
     "data": {
      "text/plain": [
       "(29305, 16)"
      ]
     },
     "metadata": {},
     "output_type": "display_data"
    },
    {
     "data": {
      "text/plain": [
       "'Test'"
      ]
     },
     "metadata": {},
     "output_type": "display_data"
    },
    {
     "data": {
      "text/plain": [
       "(19537, 15)"
      ]
     },
     "metadata": {},
     "output_type": "display_data"
    }
   ],
   "source": [
    "display('Train')\n",
    "display(train.shape)\n",
    "display('Test')\n",
    "display(test.shape)"
   ]
  },
  {
   "cell_type": "code",
   "execution_count": 6,
   "id": "8299cb81",
   "metadata": {},
   "outputs": [
    {
     "data": {
      "text/plain": [
       "'Train'"
      ]
     },
     "metadata": {},
     "output_type": "display_data"
    },
    {
     "name": "stdout",
     "output_type": "stream",
     "text": [
      "<class 'pandas.core.frame.DataFrame'>\n",
      "RangeIndex: 29305 entries, 0 to 29304\n",
      "Data columns (total 16 columns):\n",
      " #   Column          Non-Null Count  Dtype \n",
      "---  ------          --------------  ----- \n",
      " 0   no              29305 non-null  int64 \n",
      " 1   age             29305 non-null  int64 \n",
      " 2   workclass       29305 non-null  object\n",
      " 3   fnlwgt          29305 non-null  int64 \n",
      " 4   education       29305 non-null  object\n",
      " 5   education-num   29305 non-null  int64 \n",
      " 6   marital-status  29305 non-null  object\n",
      " 7   occupation      29305 non-null  object\n",
      " 8   relationship    29305 non-null  object\n",
      " 9   race            29305 non-null  object\n",
      " 10  sex             29305 non-null  object\n",
      " 11  capital-gain    29305 non-null  int64 \n",
      " 12  capital-loss    29305 non-null  int64 \n",
      " 13  hours-per-week  29305 non-null  int64 \n",
      " 14  native-country  29305 non-null  object\n",
      " 15  income          29305 non-null  int64 \n",
      "dtypes: int64(8), object(8)\n",
      "memory usage: 3.6+ MB\n"
     ]
    },
    {
     "data": {
      "text/plain": [
       "None"
      ]
     },
     "metadata": {},
     "output_type": "display_data"
    },
    {
     "data": {
      "text/plain": [
       "'Test'"
      ]
     },
     "metadata": {},
     "output_type": "display_data"
    },
    {
     "name": "stdout",
     "output_type": "stream",
     "text": [
      "<class 'pandas.core.frame.DataFrame'>\n",
      "RangeIndex: 19537 entries, 0 to 19536\n",
      "Data columns (total 15 columns):\n",
      " #   Column          Non-Null Count  Dtype \n",
      "---  ------          --------------  ----- \n",
      " 0   no              19537 non-null  int64 \n",
      " 1   age             19537 non-null  int64 \n",
      " 2   workclass       19537 non-null  object\n",
      " 3   fnlwgt          19537 non-null  int64 \n",
      " 4   education       19537 non-null  object\n",
      " 5   education-num   19537 non-null  int64 \n",
      " 6   marital-status  19537 non-null  object\n",
      " 7   occupation      19537 non-null  object\n",
      " 8   relationship    19537 non-null  object\n",
      " 9   race            19537 non-null  object\n",
      " 10  sex             19537 non-null  object\n",
      " 11  capital-gain    19537 non-null  int64 \n",
      " 12  capital-loss    19537 non-null  int64 \n",
      " 13  hours-per-week  19537 non-null  int64 \n",
      " 14  native-country  19537 non-null  object\n",
      "dtypes: int64(7), object(8)\n",
      "memory usage: 2.2+ MB\n"
     ]
    },
    {
     "data": {
      "text/plain": [
       "None"
      ]
     },
     "metadata": {},
     "output_type": "display_data"
    }
   ],
   "source": [
    "display('Train')\n",
    "display(train.info())\n",
    "display('Test')\n",
    "display(test.info())"
   ]
  },
  {
   "cell_type": "code",
   "execution_count": 7,
   "id": "dfb49313",
   "metadata": {},
   "outputs": [
    {
     "data": {
      "text/html": [
       "<div>\n",
       "<style scoped>\n",
       "    .dataframe tbody tr th:only-of-type {\n",
       "        vertical-align: middle;\n",
       "    }\n",
       "\n",
       "    .dataframe tbody tr th {\n",
       "        vertical-align: top;\n",
       "    }\n",
       "\n",
       "    .dataframe thead th {\n",
       "        text-align: right;\n",
       "    }\n",
       "</style>\n",
       "<table border=\"1\" class=\"dataframe\">\n",
       "  <thead>\n",
       "    <tr style=\"text-align: right;\">\n",
       "      <th></th>\n",
       "      <th>no</th>\n",
       "      <th>age</th>\n",
       "      <th>fnlwgt</th>\n",
       "      <th>education-num</th>\n",
       "      <th>capital-gain</th>\n",
       "      <th>capital-loss</th>\n",
       "      <th>hours-per-week</th>\n",
       "      <th>income</th>\n",
       "    </tr>\n",
       "  </thead>\n",
       "  <tbody>\n",
       "    <tr>\n",
       "      <th>count</th>\n",
       "      <td>29305.000000</td>\n",
       "      <td>29305.000000</td>\n",
       "      <td>2.930500e+04</td>\n",
       "      <td>29305.000000</td>\n",
       "      <td>29305.000000</td>\n",
       "      <td>29305.000000</td>\n",
       "      <td>29305.000000</td>\n",
       "      <td>29305.000000</td>\n",
       "    </tr>\n",
       "    <tr>\n",
       "      <th>mean</th>\n",
       "      <td>14653.000000</td>\n",
       "      <td>38.659171</td>\n",
       "      <td>1.897357e+05</td>\n",
       "      <td>10.083057</td>\n",
       "      <td>1084.531786</td>\n",
       "      <td>87.073571</td>\n",
       "      <td>40.440096</td>\n",
       "      <td>0.240403</td>\n",
       "    </tr>\n",
       "    <tr>\n",
       "      <th>std</th>\n",
       "      <td>8459.769156</td>\n",
       "      <td>13.743827</td>\n",
       "      <td>1.056348e+05</td>\n",
       "      <td>2.570371</td>\n",
       "      <td>7495.715677</td>\n",
       "      <td>401.225580</td>\n",
       "      <td>12.332840</td>\n",
       "      <td>0.427335</td>\n",
       "    </tr>\n",
       "    <tr>\n",
       "      <th>min</th>\n",
       "      <td>1.000000</td>\n",
       "      <td>17.000000</td>\n",
       "      <td>1.376900e+04</td>\n",
       "      <td>1.000000</td>\n",
       "      <td>0.000000</td>\n",
       "      <td>0.000000</td>\n",
       "      <td>1.000000</td>\n",
       "      <td>0.000000</td>\n",
       "    </tr>\n",
       "    <tr>\n",
       "      <th>25%</th>\n",
       "      <td>7327.000000</td>\n",
       "      <td>28.000000</td>\n",
       "      <td>1.176060e+05</td>\n",
       "      <td>9.000000</td>\n",
       "      <td>0.000000</td>\n",
       "      <td>0.000000</td>\n",
       "      <td>40.000000</td>\n",
       "      <td>0.000000</td>\n",
       "    </tr>\n",
       "    <tr>\n",
       "      <th>50%</th>\n",
       "      <td>14653.000000</td>\n",
       "      <td>37.000000</td>\n",
       "      <td>1.779550e+05</td>\n",
       "      <td>10.000000</td>\n",
       "      <td>0.000000</td>\n",
       "      <td>0.000000</td>\n",
       "      <td>40.000000</td>\n",
       "      <td>0.000000</td>\n",
       "    </tr>\n",
       "    <tr>\n",
       "      <th>75%</th>\n",
       "      <td>21979.000000</td>\n",
       "      <td>48.000000</td>\n",
       "      <td>2.377130e+05</td>\n",
       "      <td>12.000000</td>\n",
       "      <td>0.000000</td>\n",
       "      <td>0.000000</td>\n",
       "      <td>45.000000</td>\n",
       "      <td>0.000000</td>\n",
       "    </tr>\n",
       "    <tr>\n",
       "      <th>max</th>\n",
       "      <td>29305.000000</td>\n",
       "      <td>90.000000</td>\n",
       "      <td>1.490400e+06</td>\n",
       "      <td>16.000000</td>\n",
       "      <td>99999.000000</td>\n",
       "      <td>4356.000000</td>\n",
       "      <td>99.000000</td>\n",
       "      <td>1.000000</td>\n",
       "    </tr>\n",
       "  </tbody>\n",
       "</table>\n",
       "</div>"
      ],
      "text/plain": [
       "                 no           age        fnlwgt  education-num  capital-gain  \\\n",
       "count  29305.000000  29305.000000  2.930500e+04   29305.000000  29305.000000   \n",
       "mean   14653.000000     38.659171  1.897357e+05      10.083057   1084.531786   \n",
       "std     8459.769156     13.743827  1.056348e+05       2.570371   7495.715677   \n",
       "min        1.000000     17.000000  1.376900e+04       1.000000      0.000000   \n",
       "25%     7327.000000     28.000000  1.176060e+05       9.000000      0.000000   \n",
       "50%    14653.000000     37.000000  1.779550e+05      10.000000      0.000000   \n",
       "75%    21979.000000     48.000000  2.377130e+05      12.000000      0.000000   \n",
       "max    29305.000000     90.000000  1.490400e+06      16.000000  99999.000000   \n",
       "\n",
       "       capital-loss  hours-per-week        income  \n",
       "count  29305.000000    29305.000000  29305.000000  \n",
       "mean      87.073571       40.440096      0.240403  \n",
       "std      401.225580       12.332840      0.427335  \n",
       "min        0.000000        1.000000      0.000000  \n",
       "25%        0.000000       40.000000      0.000000  \n",
       "50%        0.000000       40.000000      0.000000  \n",
       "75%        0.000000       45.000000      0.000000  \n",
       "max     4356.000000       99.000000      1.000000  "
      ]
     },
     "execution_count": 7,
     "metadata": {},
     "output_type": "execute_result"
    }
   ],
   "source": [
    "train.describe()"
   ]
  },
  {
   "cell_type": "code",
   "execution_count": 8,
   "id": "19d359d2",
   "metadata": {},
   "outputs": [
    {
     "data": {
      "text/html": [
       "<div>\n",
       "<style scoped>\n",
       "    .dataframe tbody tr th:only-of-type {\n",
       "        vertical-align: middle;\n",
       "    }\n",
       "\n",
       "    .dataframe tbody tr th {\n",
       "        vertical-align: top;\n",
       "    }\n",
       "\n",
       "    .dataframe thead th {\n",
       "        text-align: right;\n",
       "    }\n",
       "</style>\n",
       "<table border=\"1\" class=\"dataframe\">\n",
       "  <thead>\n",
       "    <tr style=\"text-align: right;\">\n",
       "      <th></th>\n",
       "      <th>workclass</th>\n",
       "      <th>education</th>\n",
       "      <th>marital-status</th>\n",
       "      <th>occupation</th>\n",
       "      <th>relationship</th>\n",
       "      <th>race</th>\n",
       "      <th>sex</th>\n",
       "      <th>native-country</th>\n",
       "    </tr>\n",
       "  </thead>\n",
       "  <tbody>\n",
       "    <tr>\n",
       "      <th>count</th>\n",
       "      <td>29305</td>\n",
       "      <td>29305</td>\n",
       "      <td>29305</td>\n",
       "      <td>29305</td>\n",
       "      <td>29305</td>\n",
       "      <td>29305</td>\n",
       "      <td>29305</td>\n",
       "      <td>29305</td>\n",
       "    </tr>\n",
       "    <tr>\n",
       "      <th>unique</th>\n",
       "      <td>9</td>\n",
       "      <td>16</td>\n",
       "      <td>7</td>\n",
       "      <td>15</td>\n",
       "      <td>6</td>\n",
       "      <td>5</td>\n",
       "      <td>2</td>\n",
       "      <td>42</td>\n",
       "    </tr>\n",
       "    <tr>\n",
       "      <th>top</th>\n",
       "      <td>Private</td>\n",
       "      <td>HS-grad</td>\n",
       "      <td>Married-civ-spouse</td>\n",
       "      <td>Prof-specialty</td>\n",
       "      <td>Husband</td>\n",
       "      <td>White</td>\n",
       "      <td>Male</td>\n",
       "      <td>United-States</td>\n",
       "    </tr>\n",
       "    <tr>\n",
       "      <th>freq</th>\n",
       "      <td>20410</td>\n",
       "      <td>9435</td>\n",
       "      <td>13331</td>\n",
       "      <td>3724</td>\n",
       "      <td>11769</td>\n",
       "      <td>25081</td>\n",
       "      <td>19621</td>\n",
       "      <td>26301</td>\n",
       "    </tr>\n",
       "  </tbody>\n",
       "</table>\n",
       "</div>"
      ],
      "text/plain": [
       "       workclass education       marital-status       occupation relationship  \\\n",
       "count      29305     29305                29305            29305        29305   \n",
       "unique         9        16                    7               15            6   \n",
       "top      Private   HS-grad   Married-civ-spouse   Prof-specialty      Husband   \n",
       "freq       20410      9435                13331             3724        11769   \n",
       "\n",
       "          race    sex  native-country  \n",
       "count    29305  29305           29305  \n",
       "unique       5      2              42  \n",
       "top      White   Male   United-States  \n",
       "freq     25081  19621           26301  "
      ]
     },
     "execution_count": 8,
     "metadata": {},
     "output_type": "execute_result"
    }
   ],
   "source": [
    "train[['workclass','education','marital-status','occupation','relationship','race','sex','native-country']].describe()"
   ]
  },
  {
   "cell_type": "markdown",
   "id": "279bced3",
   "metadata": {},
   "source": [
    "#### 단순 관계성"
   ]
  },
  {
   "cell_type": "code",
   "execution_count": 9,
   "id": "bb03c12b",
   "metadata": {},
   "outputs": [
    {
     "data": {
      "text/plain": [
       "no                0.001111\n",
       "age               1.000000\n",
       "fnlwgt           -0.075753\n",
       "education-num     0.035084\n",
       "capital-gain      0.078498\n",
       "capital-loss      0.054413\n",
       "hours-per-week    0.073100\n",
       "income            0.238460\n",
       "Name: age, dtype: float64"
      ]
     },
     "execution_count": 9,
     "metadata": {},
     "output_type": "execute_result"
    }
   ],
   "source": [
    "train.corr()['age']\n",
    "# 나이가 많을 수록 수입이 높음"
   ]
  },
  {
   "cell_type": "code",
   "execution_count": 10,
   "id": "c852b3c2",
   "metadata": {},
   "outputs": [
    {
     "data": {
      "text/plain": [
       "no               -0.008466\n",
       "age               0.035084\n",
       "fnlwgt           -0.030600\n",
       "education-num     1.000000\n",
       "capital-gain      0.127651\n",
       "capital-loss      0.083925\n",
       "hours-per-week    0.147569\n",
       "income            0.331798\n",
       "Name: education-num, dtype: float64"
      ]
     },
     "execution_count": 10,
     "metadata": {},
     "output_type": "execute_result"
    }
   ],
   "source": [
    "train.corr()['education-num']\n",
    "# 교육수준이 높을수록 capital-gain, hours-per-week, income 이 높음"
   ]
  },
  {
   "cell_type": "code",
   "execution_count": 11,
   "id": "75b17159",
   "metadata": {},
   "outputs": [
    {
     "data": {
      "text/plain": [
       "no               -0.004080\n",
       "age               0.238460\n",
       "fnlwgt           -0.002994\n",
       "education-num     0.331798\n",
       "capital-gain      0.221387\n",
       "capital-loss      0.135645\n",
       "hours-per-week    0.231045\n",
       "income            1.000000\n",
       "Name: income, dtype: float64"
      ]
     },
     "execution_count": 11,
     "metadata": {},
     "output_type": "execute_result"
    }
   ],
   "source": [
    "train.corr()['income']\n",
    "# 수입이 높을수록 age, capital-gain, capital-loss, hours-per-week"
   ]
  },
  {
   "cell_type": "markdown",
   "id": "f9dc4994",
   "metadata": {},
   "source": [
    "#### 성별과 학력에 따른 임금격차"
   ]
  },
  {
   "cell_type": "code",
   "execution_count": 12,
   "id": "daf0f83b",
   "metadata": {},
   "outputs": [],
   "source": [
    "data_sex = train[['sex', 'education-num','income']].groupby(['sex', 'education-num']).mean()"
   ]
  },
  {
   "cell_type": "code",
   "execution_count": 13,
   "id": "1b58f139",
   "metadata": {},
   "outputs": [
    {
     "data": {
      "text/html": [
       "<div>\n",
       "<style scoped>\n",
       "    .dataframe tbody tr th:only-of-type {\n",
       "        vertical-align: middle;\n",
       "    }\n",
       "\n",
       "    .dataframe tbody tr th {\n",
       "        vertical-align: top;\n",
       "    }\n",
       "\n",
       "    .dataframe thead th {\n",
       "        text-align: right;\n",
       "    }\n",
       "</style>\n",
       "<table border=\"1\" class=\"dataframe\">\n",
       "  <thead>\n",
       "    <tr style=\"text-align: right;\">\n",
       "      <th></th>\n",
       "      <th></th>\n",
       "      <th>income</th>\n",
       "    </tr>\n",
       "    <tr>\n",
       "      <th>sex</th>\n",
       "      <th>education-num</th>\n",
       "      <th></th>\n",
       "    </tr>\n",
       "  </thead>\n",
       "  <tbody>\n",
       "    <tr>\n",
       "      <th rowspan=\"16\" valign=\"top\">Female</th>\n",
       "      <th>1</th>\n",
       "      <td>0</td>\n",
       "    </tr>\n",
       "    <tr>\n",
       "      <th>2</th>\n",
       "      <td>0</td>\n",
       "    </tr>\n",
       "    <tr>\n",
       "      <th>3</th>\n",
       "      <td>1</td>\n",
       "    </tr>\n",
       "    <tr>\n",
       "      <th>4</th>\n",
       "      <td>1</td>\n",
       "    </tr>\n",
       "    <tr>\n",
       "      <th>5</th>\n",
       "      <td>3</td>\n",
       "    </tr>\n",
       "    <tr>\n",
       "      <th>6</th>\n",
       "      <td>1</td>\n",
       "    </tr>\n",
       "    <tr>\n",
       "      <th>7</th>\n",
       "      <td>7</td>\n",
       "    </tr>\n",
       "    <tr>\n",
       "      <th>8</th>\n",
       "      <td>1</td>\n",
       "    </tr>\n",
       "    <tr>\n",
       "      <th>9</th>\n",
       "      <td>201</td>\n",
       "    </tr>\n",
       "    <tr>\n",
       "      <th>10</th>\n",
       "      <td>177</td>\n",
       "    </tr>\n",
       "    <tr>\n",
       "      <th>11</th>\n",
       "      <td>52</td>\n",
       "    </tr>\n",
       "    <tr>\n",
       "      <th>12</th>\n",
       "      <td>49</td>\n",
       "    </tr>\n",
       "    <tr>\n",
       "      <th>13</th>\n",
       "      <td>309</td>\n",
       "    </tr>\n",
       "    <tr>\n",
       "      <th>14</th>\n",
       "      <td>173</td>\n",
       "    </tr>\n",
       "    <tr>\n",
       "      <th>15</th>\n",
       "      <td>44</td>\n",
       "    </tr>\n",
       "    <tr>\n",
       "      <th>16</th>\n",
       "      <td>39</td>\n",
       "    </tr>\n",
       "    <tr>\n",
       "      <th rowspan=\"16\" valign=\"top\">Male</th>\n",
       "      <th>1</th>\n",
       "      <td>0</td>\n",
       "    </tr>\n",
       "    <tr>\n",
       "      <th>2</th>\n",
       "      <td>2</td>\n",
       "    </tr>\n",
       "    <tr>\n",
       "      <th>3</th>\n",
       "      <td>15</td>\n",
       "    </tr>\n",
       "    <tr>\n",
       "      <th>4</th>\n",
       "      <td>43</td>\n",
       "    </tr>\n",
       "    <tr>\n",
       "      <th>5</th>\n",
       "      <td>20</td>\n",
       "    </tr>\n",
       "    <tr>\n",
       "      <th>6</th>\n",
       "      <td>41</td>\n",
       "    </tr>\n",
       "    <tr>\n",
       "      <th>7</th>\n",
       "      <td>54</td>\n",
       "    </tr>\n",
       "    <tr>\n",
       "      <th>8</th>\n",
       "      <td>26</td>\n",
       "    </tr>\n",
       "    <tr>\n",
       "      <th>9</th>\n",
       "      <td>1309</td>\n",
       "    </tr>\n",
       "    <tr>\n",
       "      <th>10</th>\n",
       "      <td>1080</td>\n",
       "    </tr>\n",
       "    <tr>\n",
       "      <th>11</th>\n",
       "      <td>264</td>\n",
       "    </tr>\n",
       "    <tr>\n",
       "      <th>12</th>\n",
       "      <td>205</td>\n",
       "    </tr>\n",
       "    <tr>\n",
       "      <th>13</th>\n",
       "      <td>1689</td>\n",
       "    </tr>\n",
       "    <tr>\n",
       "      <th>14</th>\n",
       "      <td>690</td>\n",
       "    </tr>\n",
       "    <tr>\n",
       "      <th>15</th>\n",
       "      <td>331</td>\n",
       "    </tr>\n",
       "    <tr>\n",
       "      <th>16</th>\n",
       "      <td>218</td>\n",
       "    </tr>\n",
       "  </tbody>\n",
       "</table>\n",
       "</div>"
      ],
      "text/plain": [
       "                       income\n",
       "sex     education-num        \n",
       " Female 1                   0\n",
       "        2                   0\n",
       "        3                   1\n",
       "        4                   1\n",
       "        5                   3\n",
       "        6                   1\n",
       "        7                   7\n",
       "        8                   1\n",
       "        9                 201\n",
       "        10                177\n",
       "        11                 52\n",
       "        12                 49\n",
       "        13                309\n",
       "        14                173\n",
       "        15                 44\n",
       "        16                 39\n",
       " Male   1                   0\n",
       "        2                   2\n",
       "        3                  15\n",
       "        4                  43\n",
       "        5                  20\n",
       "        6                  41\n",
       "        7                  54\n",
       "        8                  26\n",
       "        9                1309\n",
       "        10               1080\n",
       "        11                264\n",
       "        12                205\n",
       "        13               1689\n",
       "        14                690\n",
       "        15                331\n",
       "        16                218"
      ]
     },
     "execution_count": 13,
     "metadata": {},
     "output_type": "execute_result"
    }
   ],
   "source": [
    "train[['sex', 'education-num','income']].groupby(['sex', 'education-num']).sum()"
   ]
  },
  {
   "cell_type": "code",
   "execution_count": 14,
   "id": "861d6448",
   "metadata": {
    "scrolled": true
   },
   "outputs": [
    {
     "data": {
      "text/plain": [
       "<AxesSubplot:xlabel='sex,education-num'>"
      ]
     },
     "execution_count": 14,
     "metadata": {},
     "output_type": "execute_result"
    },
    {
     "data": {
      "image/png": "[encoded data removed]",
      "text/plain": [
       "<Figure size 432x288 with 1 Axes>"
      ]
     },
     "metadata": {},
     "output_type": "display_data"
    }
   ],
   "source": [
    "train[['sex', 'education-num','income']].groupby(['sex', 'education-num']).mean().plot(kind='bar')\n",
    "#  남녀에 따른 임금 격차가 큼을 나타냄 "
   ]
  },
  {
   "cell_type": "code",
   "execution_count": 15,
   "id": "9bd9f4b4",
   "metadata": {
    "scrolled": true
   },
   "outputs": [
    {
     "data": {
      "text/plain": [
       "<AxesSubplot:xlabel='education-num', ylabel='count'>"
      ]
     },
     "execution_count": 15,
     "metadata": {},
     "output_type": "execute_result"
    },
    {
     "data": {
      "image/png": "[encoded data removed]",
      "text/plain": [
       "<Figure size 432x288 with 1 Axes>"
      ]
     },
     "metadata": {},
     "output_type": "display_data"
    }
   ],
   "source": [
    "sns.countplot(data=train, x='education-num', hue='sex' )\n",
    "# 남녀에 따른 최종학력도 차이남"
   ]
  },
  {
   "cell_type": "code",
   "execution_count": 16,
   "id": "432cd35a",
   "metadata": {},
   "outputs": [
    {
     "data": {
      "text/plain": [
       "<AxesSubplot:xlabel='sex', ylabel='age'>"
      ]
     },
     "execution_count": 16,
     "metadata": {},
     "output_type": "execute_result"
    },
    {
     "data": {
      "image/png": "[encoded data removed]",
      "text/plain": [
       "<Figure size 1080x360 with 1 Axes>"
      ]
     },
     "metadata": {},
     "output_type": "display_data"
    }
   ],
   "source": [
    "plt.figure(figsize=(15,5))\n",
    "sns.violinplot(data = train, \n",
    "               x = 'sex',\n",
    "               y = 'age',\n",
    "               hue = 'income', \n",
    "               split = True)"
   ]
  },
  {
   "cell_type": "code",
   "execution_count": 17,
   "id": "6b543257",
   "metadata": {},
   "outputs": [
    {
     "data": {
      "text/plain": [
       "<AxesSubplot:xlabel='sex', ylabel='education-num'>"
      ]
     },
     "execution_count": 17,
     "metadata": {},
     "output_type": "execute_result"
    },
    {
     "data": {
      "image/png": "[encoded data removed]",
      "text/plain": [
       "<Figure size 1080x360 with 1 Axes>"
      ]
     },
     "metadata": {},
     "output_type": "display_data"
    }
   ],
   "source": [
    "plt.figure(figsize=(15,5))\n",
    "sns.violinplot(data = train, \n",
    "              x = 'sex',\n",
    "              y = 'education-num',\n",
    "              hue = 'income', \n",
    "              split = True)"
   ]
  },
  {
   "cell_type": "markdown",
   "id": "d69fac0f",
   "metadata": {},
   "source": [
    "#### 나이와 학력에 따른 임금 격차"
   ]
  },
  {
   "cell_type": "code",
   "execution_count": 18,
   "id": "a45d5d4e",
   "metadata": {},
   "outputs": [
    {
     "data": {
      "text/plain": [
       "<AxesSubplot:xlabel='age', ylabel='Density'>"
      ]
     },
     "execution_count": 18,
     "metadata": {},
     "output_type": "execute_result"
    },
    {
     "data": {
      "image/png": "[encoded data removed]",
      "text/plain": [
       "<Figure size 432x288 with 1 Axes>"
      ]
     },
     "metadata": {},
     "output_type": "display_data"
    }
   ],
   "source": [
    "#연령분포 확인\n",
    "sns.kdeplot(train['age'])"
   ]
  },
  {
   "cell_type": "code",
   "execution_count": 19,
   "id": "4ca4559f",
   "metadata": {},
   "outputs": [
    {
     "data": {
      "text/plain": [
       "<AxesSubplot:>"
      ]
     },
     "execution_count": 19,
     "metadata": {},
     "output_type": "execute_result"
    },
    {
     "data": {
      "image/png": "[encoded data removed]",
      "text/plain": [
       "<Figure size 432x288 with 1 Axes>"
      ]
     },
     "metadata": {},
     "output_type": "display_data"
    }
   ],
   "source": [
    "train['age'].value_counts().plot(kind='bar')"
   ]
  },
  {
   "cell_type": "code",
   "execution_count": 20,
   "id": "897457cd",
   "metadata": {},
   "outputs": [
    {
     "data": {
      "text/plain": [
       "<AxesSubplot:>"
      ]
     },
     "execution_count": 20,
     "metadata": {},
     "output_type": "execute_result"
    },
    {
     "data": {
      "image/png": "[encoded data removed]",
      "text/plain": [
       "<Figure size 432x288 with 1 Axes>"
      ]
     },
     "metadata": {},
     "output_type": "display_data"
    }
   ],
   "source": [
    "train['age'].value_counts().sort_index().plot(kind='bar')"
   ]
  },
  {
   "cell_type": "code",
   "execution_count": 21,
   "id": "1e93f2af",
   "metadata": {},
   "outputs": [
    {
     "data": {
      "text/plain": [
       "count    29305.000000\n",
       "mean        38.659171\n",
       "std         13.743827\n",
       "min         17.000000\n",
       "25%         28.000000\n",
       "50%         37.000000\n",
       "75%         48.000000\n",
       "max         90.000000\n",
       "Name: age, dtype: float64"
      ]
     },
     "execution_count": 21,
     "metadata": {},
     "output_type": "execute_result"
    }
   ],
   "source": [
    "train['age'].describe()"
   ]
  },
  {
   "cell_type": "code",
   "execution_count": 22,
   "id": "9e6581a8",
   "metadata": {},
   "outputs": [
    {
     "data": {
      "text/plain": [
       "count    19537.000000\n",
       "mean        38.620208\n",
       "std         13.660701\n",
       "min         17.000000\n",
       "25%         28.000000\n",
       "50%         37.000000\n",
       "75%         48.000000\n",
       "max         90.000000\n",
       "Name: age, dtype: float64"
      ]
     },
     "execution_count": 22,
     "metadata": {},
     "output_type": "execute_result"
    }
   ],
   "source": [
    "test['age'].describe()"
   ]
  },
  {
   "cell_type": "code",
   "execution_count": 23,
   "id": "0d581272",
   "metadata": {},
   "outputs": [
    {
     "ename": "AttributeError",
     "evalue": "'DataFrame' object has no attribute 'plt'",
     "output_type": "error",
     "traceback": [
      "\u001b[1;31m---------------------------------------------------------------------------\u001b[0m",
      "\u001b[1;31mAttributeError\u001b[0m                            Traceback (most recent call last)",
      "\u001b[1;32mc:\\Users\\pipi1\\머신러닝\\kaggle_salary_컬럼분석0928_01 (2).ipynb 셀 26\u001b[0m in \u001b[0;36m<cell line: 1>\u001b[1;34m()\u001b[0m\n\u001b[1;32m----> <a href='vscode-notebook-cell:/c%3A/Users/pipi1/%EB%A8%B8%EC%8B%A0%EB%9F%AC%EB%8B%9D/kaggle_salary_%EC%BB%AC%EB%9F%BC%EB%B6%84%EC%84%9D0928_01%20%282%29.ipynb#X34sZmlsZQ%3D%3D?line=0'>1</a>\u001b[0m train[[\u001b[39m'\u001b[39;49m\u001b[39mage\u001b[39;49m\u001b[39m'\u001b[39;49m,\u001b[39m'\u001b[39;49m\u001b[39mincome\u001b[39;49m\u001b[39m'\u001b[39;49m]]\u001b[39m.\u001b[39;49mgroupby([\u001b[39m'\u001b[39;49m\u001b[39mage\u001b[39;49m\u001b[39m'\u001b[39;49m])\u001b[39m.\u001b[39;49mmean()\u001b[39m.\u001b[39;49mplt(kind\u001b[39m=\u001b[39m\u001b[39m'\u001b[39m\u001b[39mline\u001b[39m\u001b[39m'\u001b[39m)\n",
      "File \u001b[1;32mc:\\Users\\pipi1\\anaconda3\\lib\\site-packages\\pandas\\core\\generic.py:5575\u001b[0m, in \u001b[0;36mNDFrame.__getattr__\u001b[1;34m(self, name)\u001b[0m\n\u001b[0;32m   5568\u001b[0m \u001b[39mif\u001b[39;00m (\n\u001b[0;32m   5569\u001b[0m     name \u001b[39mnot\u001b[39;00m \u001b[39min\u001b[39;00m \u001b[39mself\u001b[39m\u001b[39m.\u001b[39m_internal_names_set\n\u001b[0;32m   5570\u001b[0m     \u001b[39mand\u001b[39;00m name \u001b[39mnot\u001b[39;00m \u001b[39min\u001b[39;00m \u001b[39mself\u001b[39m\u001b[39m.\u001b[39m_metadata\n\u001b[0;32m   5571\u001b[0m     \u001b[39mand\u001b[39;00m name \u001b[39mnot\u001b[39;00m \u001b[39min\u001b[39;00m \u001b[39mself\u001b[39m\u001b[39m.\u001b[39m_accessors\n\u001b[0;32m   5572\u001b[0m     \u001b[39mand\u001b[39;00m \u001b[39mself\u001b[39m\u001b[39m.\u001b[39m_info_axis\u001b[39m.\u001b[39m_can_hold_identifiers_and_holds_name(name)\n\u001b[0;32m   5573\u001b[0m ):\n\u001b[0;32m   5574\u001b[0m     \u001b[39mreturn\u001b[39;00m \u001b[39mself\u001b[39m[name]\n\u001b[1;32m-> 5575\u001b[0m \u001b[39mreturn\u001b[39;00m \u001b[39mobject\u001b[39;49m\u001b[39m.\u001b[39;49m\u001b[39m__getattribute__\u001b[39;49m(\u001b[39mself\u001b[39;49m, name)\n",
      "\u001b[1;31mAttributeError\u001b[0m: 'DataFrame' object has no attribute 'plt'"
     ]
    }
   ],
   "source": [
    "train[['age','income']].groupby(['age']).mean().plt(kind='line')\n",
    "# 40, 50대의 수입이 높고 80,90대의 경우 이상치로 평균이 높은 특정 사람이 있음"
   ]
  },
  {
   "cell_type": "code",
   "execution_count": null,
   "id": "445b730d",
   "metadata": {
    "scrolled": false
   },
   "outputs": [
    {
     "data": {
      "text/html": [
       "<div>\n",
       "<style scoped>\n",
       "    .dataframe tbody tr th:only-of-type {\n",
       "        vertical-align: middle;\n",
       "    }\n",
       "\n",
       "    .dataframe tbody tr th {\n",
       "        vertical-align: top;\n",
       "    }\n",
       "\n",
       "    .dataframe thead th {\n",
       "        text-align: right;\n",
       "    }\n",
       "</style>\n",
       "<table border=\"1\" class=\"dataframe\">\n",
       "  <thead>\n",
       "    <tr style=\"text-align: right;\">\n",
       "      <th></th>\n",
       "      <th>age</th>\n",
       "      <th>income</th>\n",
       "    </tr>\n",
       "  </thead>\n",
       "  <tbody>\n",
       "    <tr>\n",
       "      <th>477</th>\n",
       "      <td>90</td>\n",
       "      <td>0</td>\n",
       "    </tr>\n",
       "    <tr>\n",
       "      <th>709</th>\n",
       "      <td>90</td>\n",
       "      <td>0</td>\n",
       "    </tr>\n",
       "    <tr>\n",
       "      <th>1121</th>\n",
       "      <td>80</td>\n",
       "      <td>0</td>\n",
       "    </tr>\n",
       "    <tr>\n",
       "      <th>1669</th>\n",
       "      <td>80</td>\n",
       "      <td>1</td>\n",
       "    </tr>\n",
       "    <tr>\n",
       "      <th>1891</th>\n",
       "      <td>90</td>\n",
       "      <td>1</td>\n",
       "    </tr>\n",
       "    <tr>\n",
       "      <th>...</th>\n",
       "      <td>...</td>\n",
       "      <td>...</td>\n",
       "    </tr>\n",
       "    <tr>\n",
       "      <th>28046</th>\n",
       "      <td>89</td>\n",
       "      <td>0</td>\n",
       "    </tr>\n",
       "    <tr>\n",
       "      <th>28395</th>\n",
       "      <td>90</td>\n",
       "      <td>0</td>\n",
       "    </tr>\n",
       "    <tr>\n",
       "      <th>28483</th>\n",
       "      <td>82</td>\n",
       "      <td>0</td>\n",
       "    </tr>\n",
       "    <tr>\n",
       "      <th>29048</th>\n",
       "      <td>80</td>\n",
       "      <td>0</td>\n",
       "    </tr>\n",
       "    <tr>\n",
       "      <th>29091</th>\n",
       "      <td>90</td>\n",
       "      <td>0</td>\n",
       "    </tr>\n",
       "  </tbody>\n",
       "</table>\n",
       "<p>110 rows × 2 columns</p>\n",
       "</div>"
      ],
      "text/plain": [
       "       age  income\n",
       "477     90       0\n",
       "709     90       0\n",
       "1121    80       0\n",
       "1669    80       1\n",
       "1891    90       1\n",
       "...    ...     ...\n",
       "28046   89       0\n",
       "28395   90       0\n",
       "28483   82       0\n",
       "29048   80       0\n",
       "29091   90       0\n",
       "\n",
       "[110 rows x 2 columns]"
      ]
     },
     "execution_count": 23,
     "metadata": {},
     "output_type": "execute_result"
    }
   ],
   "source": [
    "train[train['age']>=80][['age','income']]\n",
    "# train[train['age']>=80][['age','income']][train['income']==1].count()\n",
    "# 110명 중 18명 만 50k이상 수입 \n",
    "# group지어지면서 평균의 오류 생김 저 나이대를 크게 분류할 필요가 있음"
   ]
  },
  {
   "cell_type": "code",
   "execution_count": null,
   "id": "84db78a0",
   "metadata": {},
   "outputs": [
    {
     "name": "stderr",
     "output_type": "stream",
     "text": [
      "C:\\Users\\aischool\\AppData\\Local\\Temp\\ipykernel_6528\\3432152283.py:2: UserWarning: Boolean Series key will be reindexed to match DataFrame index.\n",
      "  train[train['age']>=80][['age','education-num']][train['education-num']>=9]\n"
     ]
    },
    {
     "data": {
      "text/html": [
       "<div>\n",
       "<style scoped>\n",
       "    .dataframe tbody tr th:only-of-type {\n",
       "        vertical-align: middle;\n",
       "    }\n",
       "\n",
       "    .dataframe tbody tr th {\n",
       "        vertical-align: top;\n",
       "    }\n",
       "\n",
       "    .dataframe thead th {\n",
       "        text-align: right;\n",
       "    }\n",
       "</style>\n",
       "<table border=\"1\" class=\"dataframe\">\n",
       "  <thead>\n",
       "    <tr style=\"text-align: right;\">\n",
       "      <th></th>\n",
       "      <th>age</th>\n",
       "      <th>education-num</th>\n",
       "    </tr>\n",
       "  </thead>\n",
       "  <tbody>\n",
       "    <tr>\n",
       "      <th>477</th>\n",
       "      <td>90</td>\n",
       "      <td>9</td>\n",
       "    </tr>\n",
       "    <tr>\n",
       "      <th>709</th>\n",
       "      <td>90</td>\n",
       "      <td>9</td>\n",
       "    </tr>\n",
       "    <tr>\n",
       "      <th>1121</th>\n",
       "      <td>80</td>\n",
       "      <td>9</td>\n",
       "    </tr>\n",
       "    <tr>\n",
       "      <th>1669</th>\n",
       "      <td>80</td>\n",
       "      <td>15</td>\n",
       "    </tr>\n",
       "    <tr>\n",
       "      <th>1891</th>\n",
       "      <td>90</td>\n",
       "      <td>12</td>\n",
       "    </tr>\n",
       "    <tr>\n",
       "      <th>...</th>\n",
       "      <td>...</td>\n",
       "      <td>...</td>\n",
       "    </tr>\n",
       "    <tr>\n",
       "      <th>28046</th>\n",
       "      <td>89</td>\n",
       "      <td>13</td>\n",
       "    </tr>\n",
       "    <tr>\n",
       "      <th>28395</th>\n",
       "      <td>90</td>\n",
       "      <td>9</td>\n",
       "    </tr>\n",
       "    <tr>\n",
       "      <th>28483</th>\n",
       "      <td>82</td>\n",
       "      <td>10</td>\n",
       "    </tr>\n",
       "    <tr>\n",
       "      <th>29048</th>\n",
       "      <td>80</td>\n",
       "      <td>16</td>\n",
       "    </tr>\n",
       "    <tr>\n",
       "      <th>29091</th>\n",
       "      <td>90</td>\n",
       "      <td>13</td>\n",
       "    </tr>\n",
       "  </tbody>\n",
       "</table>\n",
       "<p>82 rows × 2 columns</p>\n",
       "</div>"
      ],
      "text/plain": [
       "       age  education-num\n",
       "477     90              9\n",
       "709     90              9\n",
       "1121    80              9\n",
       "1669    80             15\n",
       "1891    90             12\n",
       "...    ...            ...\n",
       "28046   89             13\n",
       "28395   90              9\n",
       "28483   82             10\n",
       "29048   80             16\n",
       "29091   90             13\n",
       "\n",
       "[82 rows x 2 columns]"
      ]
     },
     "execution_count": 24,
     "metadata": {},
     "output_type": "execute_result"
    }
   ],
   "source": [
    "#train[train['age']>=80][['age','education-num']].sort_values(by='education-num')\n",
    "train[train['age']>=80][['age','education-num']][train['education-num']>=9]\n",
    "# 110 명중 82명이 고학력"
   ]
  },
  {
   "cell_type": "code",
   "execution_count": null,
   "id": "92aae5b1",
   "metadata": {},
   "outputs": [
    {
     "name": "stderr",
     "output_type": "stream",
     "text": [
      "C:\\Users\\aischool\\AppData\\Local\\Temp\\ipykernel_6528\\1893291727.py:1: UserWarning: Boolean Series key will be reindexed to match DataFrame index.\n",
      "  train[train['age']>=80][['age','education-num','income']][train['education-num']>=9][train['income']==1].count()\n"
     ]
    },
    {
     "data": {
      "text/plain": [
       "age              16\n",
       "education-num    16\n",
       "income           16\n",
       "dtype: int64"
      ]
     },
     "execution_count": 25,
     "metadata": {},
     "output_type": "execute_result"
    }
   ],
   "source": [
    "train[train['age']>=80][['age','education-num','income']][train['education-num']>=9][train['income']==1].count()\n",
    "# 110명중 16명만 50k이상 소득 상단에서 나왔던 고소득 고령인구 18명중 16명이 고학력자\n",
    "# 연령층이 높을수록 학력 영향을 더 많이 받음 "
   ]
  },
  {
   "cell_type": "markdown",
   "id": "f3f9abc6",
   "metadata": {},
   "source": [
    "#### native-country 컬럼 분석 & 처리\n",
    "- native-country에 해당하는 income이 대륙별로 통계내기는 좀 무의미해 보임\n",
    "- 결측치만을 따로 뒀을때 income의 평균이나 수적 비율도 전체와 결측치가 비슷 \n",
    "- 굳이 결측치를 어느 그룹에 넣을 필요 없을듯 or 'United-States'정도에 넣을면 좋을듯 "
   ]
  },
  {
   "cell_type": "code",
   "execution_count": null,
   "id": "20fd833c",
   "metadata": {},
   "outputs": [
    {
     "data": {
      "text/html": [
       "<div>\n",
       "<style scoped>\n",
       "    .dataframe tbody tr th:only-of-type {\n",
       "        vertical-align: middle;\n",
       "    }\n",
       "\n",
       "    .dataframe tbody tr th {\n",
       "        vertical-align: top;\n",
       "    }\n",
       "\n",
       "    .dataframe thead th {\n",
       "        text-align: right;\n",
       "    }\n",
       "</style>\n",
       "<table border=\"1\" class=\"dataframe\">\n",
       "  <thead>\n",
       "    <tr style=\"text-align: right;\">\n",
       "      <th></th>\n",
       "      <th>income</th>\n",
       "    </tr>\n",
       "    <tr>\n",
       "      <th>native-country</th>\n",
       "      <th></th>\n",
       "    </tr>\n",
       "  </thead>\n",
       "  <tbody>\n",
       "    <tr>\n",
       "      <th>Trinadad&amp;Tobago</th>\n",
       "      <td>0.000000</td>\n",
       "    </tr>\n",
       "    <tr>\n",
       "      <th>Holand-Netherlands</th>\n",
       "      <td>0.000000</td>\n",
       "    </tr>\n",
       "    <tr>\n",
       "      <th>Vietnam</th>\n",
       "      <td>0.020000</td>\n",
       "    </tr>\n",
       "    <tr>\n",
       "      <th>Nicaragua</th>\n",
       "      <td>0.035714</td>\n",
       "    </tr>\n",
       "    <tr>\n",
       "      <th>Columbia</th>\n",
       "      <td>0.037736</td>\n",
       "    </tr>\n",
       "    <tr>\n",
       "      <th>Guatemala</th>\n",
       "      <td>0.039216</td>\n",
       "    </tr>\n",
       "    <tr>\n",
       "      <th>Dominican-Republic</th>\n",
       "      <td>0.049180</td>\n",
       "    </tr>\n",
       "    <tr>\n",
       "      <th>El-Salvador</th>\n",
       "      <td>0.052083</td>\n",
       "    </tr>\n",
       "    <tr>\n",
       "      <th>Mexico</th>\n",
       "      <td>0.053541</td>\n",
       "    </tr>\n",
       "    <tr>\n",
       "      <th>Outlying-US(Guam-USVI-etc)</th>\n",
       "      <td>0.066667</td>\n",
       "    </tr>\n",
       "    <tr>\n",
       "      <th>Laos</th>\n",
       "      <td>0.076923</td>\n",
       "    </tr>\n",
       "    <tr>\n",
       "      <th>Haiti</th>\n",
       "      <td>0.078431</td>\n",
       "    </tr>\n",
       "    <tr>\n",
       "      <th>Honduras</th>\n",
       "      <td>0.090909</td>\n",
       "    </tr>\n",
       "    <tr>\n",
       "      <th>Puerto-Rico</th>\n",
       "      <td>0.102564</td>\n",
       "    </tr>\n",
       "    <tr>\n",
       "      <th>Scotland</th>\n",
       "      <td>0.111111</td>\n",
       "    </tr>\n",
       "    <tr>\n",
       "      <th>Peru</th>\n",
       "      <td>0.120000</td>\n",
       "    </tr>\n",
       "    <tr>\n",
       "      <th>Jamaica</th>\n",
       "      <td>0.132353</td>\n",
       "    </tr>\n",
       "    <tr>\n",
       "      <th>Thailand</th>\n",
       "      <td>0.133333</td>\n",
       "    </tr>\n",
       "    <tr>\n",
       "      <th>Poland</th>\n",
       "      <td>0.150943</td>\n",
       "    </tr>\n",
       "    <tr>\n",
       "      <th>Portugal</th>\n",
       "      <td>0.162791</td>\n",
       "    </tr>\n",
       "    <tr>\n",
       "      <th>South</th>\n",
       "      <td>0.189189</td>\n",
       "    </tr>\n",
       "    <tr>\n",
       "      <th>Ecuador</th>\n",
       "      <td>0.190476</td>\n",
       "    </tr>\n",
       "    <tr>\n",
       "      <th>Hong</th>\n",
       "      <td>0.210526</td>\n",
       "    </tr>\n",
       "    <tr>\n",
       "      <th>Cuba</th>\n",
       "      <td>0.223404</td>\n",
       "    </tr>\n",
       "    <tr>\n",
       "      <th>?</th>\n",
       "      <td>0.236364</td>\n",
       "    </tr>\n",
       "    <tr>\n",
       "      <th>United-States</th>\n",
       "      <td>0.245884</td>\n",
       "    </tr>\n",
       "    <tr>\n",
       "      <th>China</th>\n",
       "      <td>0.264706</td>\n",
       "    </tr>\n",
       "    <tr>\n",
       "      <th>Philippines</th>\n",
       "      <td>0.280899</td>\n",
       "    </tr>\n",
       "    <tr>\n",
       "      <th>France</th>\n",
       "      <td>0.300000</td>\n",
       "    </tr>\n",
       "    <tr>\n",
       "      <th>Taiwan</th>\n",
       "      <td>0.307692</td>\n",
       "    </tr>\n",
       "    <tr>\n",
       "      <th>Yugoslavia</th>\n",
       "      <td>0.307692</td>\n",
       "    </tr>\n",
       "    <tr>\n",
       "      <th>Cambodia</th>\n",
       "      <td>0.315789</td>\n",
       "    </tr>\n",
       "    <tr>\n",
       "      <th>Germany</th>\n",
       "      <td>0.330645</td>\n",
       "    </tr>\n",
       "    <tr>\n",
       "      <th>Ireland</th>\n",
       "      <td>0.347826</td>\n",
       "    </tr>\n",
       "    <tr>\n",
       "      <th>Greece</th>\n",
       "      <td>0.360000</td>\n",
       "    </tr>\n",
       "    <tr>\n",
       "      <th>Italy</th>\n",
       "      <td>0.366667</td>\n",
       "    </tr>\n",
       "    <tr>\n",
       "      <th>Iran</th>\n",
       "      <td>0.368421</td>\n",
       "    </tr>\n",
       "    <tr>\n",
       "      <th>Canada</th>\n",
       "      <td>0.369369</td>\n",
       "    </tr>\n",
       "    <tr>\n",
       "      <th>England</th>\n",
       "      <td>0.373333</td>\n",
       "    </tr>\n",
       "    <tr>\n",
       "      <th>Japan</th>\n",
       "      <td>0.388889</td>\n",
       "    </tr>\n",
       "    <tr>\n",
       "      <th>Hungary</th>\n",
       "      <td>0.416667</td>\n",
       "    </tr>\n",
       "    <tr>\n",
       "      <th>India</th>\n",
       "      <td>0.433333</td>\n",
       "    </tr>\n",
       "  </tbody>\n",
       "</table>\n",
       "</div>"
      ],
      "text/plain": [
       "                               income\n",
       "native-country                       \n",
       " Trinadad&Tobago             0.000000\n",
       " Holand-Netherlands          0.000000\n",
       " Vietnam                     0.020000\n",
       " Nicaragua                   0.035714\n",
       " Columbia                    0.037736\n",
       " Guatemala                   0.039216\n",
       " Dominican-Republic          0.049180\n",
       " El-Salvador                 0.052083\n",
       " Mexico                      0.053541\n",
       " Outlying-US(Guam-USVI-etc)  0.066667\n",
       " Laos                        0.076923\n",
       " Haiti                       0.078431\n",
       " Honduras                    0.090909\n",
       " Puerto-Rico                 0.102564\n",
       " Scotland                    0.111111\n",
       " Peru                        0.120000\n",
       " Jamaica                     0.132353\n",
       " Thailand                    0.133333\n",
       " Poland                      0.150943\n",
       " Portugal                    0.162791\n",
       " South                       0.189189\n",
       " Ecuador                     0.190476\n",
       " Hong                        0.210526\n",
       " Cuba                        0.223404\n",
       " ?                           0.236364\n",
       " United-States               0.245884\n",
       " China                       0.264706\n",
       " Philippines                 0.280899\n",
       " France                      0.300000\n",
       " Taiwan                      0.307692\n",
       " Yugoslavia                  0.307692\n",
       " Cambodia                    0.315789\n",
       " Germany                     0.330645\n",
       " Ireland                     0.347826\n",
       " Greece                      0.360000\n",
       " Italy                       0.366667\n",
       " Iran                        0.368421\n",
       " Canada                      0.369369\n",
       " England                     0.373333\n",
       " Japan                       0.388889\n",
       " Hungary                     0.416667\n",
       " India                       0.433333"
      ]
     },
     "execution_count": 26,
     "metadata": {},
     "output_type": "execute_result"
    }
   ],
   "source": [
    "train[['native-country','income']].groupby(['native-country']).mean().sort_values(by='income')\n"
   ]
  },
  {
   "cell_type": "code",
   "execution_count": null,
   "id": "3b3aaf1d",
   "metadata": {},
   "outputs": [
    {
     "data": {
      "text/plain": [
       "0    22260\n",
       "1     7045\n",
       "Name: income, dtype: int64"
      ]
     },
     "execution_count": 27,
     "metadata": {},
     "output_type": "execute_result"
    }
   ],
   "source": [
    "train['income'].value_counts()\n"
   ]
  },
  {
   "cell_type": "code",
   "execution_count": null,
   "id": "023db202",
   "metadata": {},
   "outputs": [
    {
     "data": {
      "text/plain": [
       "income\n",
       "0         378\n",
       "1         117\n",
       "dtype: int64"
      ]
     },
     "execution_count": 28,
     "metadata": {},
     "output_type": "execute_result"
    }
   ],
   "source": [
    "train[train['native-country']==\" ?\"][['income']].value_counts()"
   ]
  },
  {
   "cell_type": "code",
   "execution_count": null,
   "id": "1ef5667b",
   "metadata": {
    "scrolled": false
   },
   "outputs": [
    {
     "data": {
      "text/plain": [
       "income\n",
       "0         19834\n",
       "1          6467\n",
       "dtype: int64"
      ]
     },
     "execution_count": 29,
     "metadata": {},
     "output_type": "execute_result"
    }
   ],
   "source": [
    "train[train['native-country']==\" United-States\"][['income']].value_counts()"
   ]
  },
  {
   "cell_type": "code",
   "execution_count": null,
   "id": "60d8b59c",
   "metadata": {},
   "outputs": [
    {
     "data": {
      "text/html": [
       "<div>\n",
       "<style scoped>\n",
       "    .dataframe tbody tr th:only-of-type {\n",
       "        vertical-align: middle;\n",
       "    }\n",
       "\n",
       "    .dataframe tbody tr th {\n",
       "        vertical-align: top;\n",
       "    }\n",
       "\n",
       "    .dataframe thead th {\n",
       "        text-align: right;\n",
       "    }\n",
       "</style>\n",
       "<table border=\"1\" class=\"dataframe\">\n",
       "  <thead>\n",
       "    <tr style=\"text-align: right;\">\n",
       "      <th></th>\n",
       "      <th>income</th>\n",
       "    </tr>\n",
       "  </thead>\n",
       "  <tbody>\n",
       "    <tr>\n",
       "      <th>count</th>\n",
       "      <td>29305.000000</td>\n",
       "    </tr>\n",
       "    <tr>\n",
       "      <th>mean</th>\n",
       "      <td>0.240403</td>\n",
       "    </tr>\n",
       "    <tr>\n",
       "      <th>std</th>\n",
       "      <td>0.427335</td>\n",
       "    </tr>\n",
       "    <tr>\n",
       "      <th>min</th>\n",
       "      <td>0.000000</td>\n",
       "    </tr>\n",
       "    <tr>\n",
       "      <th>25%</th>\n",
       "      <td>0.000000</td>\n",
       "    </tr>\n",
       "    <tr>\n",
       "      <th>50%</th>\n",
       "      <td>0.000000</td>\n",
       "    </tr>\n",
       "    <tr>\n",
       "      <th>75%</th>\n",
       "      <td>0.000000</td>\n",
       "    </tr>\n",
       "    <tr>\n",
       "      <th>max</th>\n",
       "      <td>1.000000</td>\n",
       "    </tr>\n",
       "  </tbody>\n",
       "</table>\n",
       "</div>"
      ],
      "text/plain": [
       "             income\n",
       "count  29305.000000\n",
       "mean       0.240403\n",
       "std        0.427335\n",
       "min        0.000000\n",
       "25%        0.000000\n",
       "50%        0.000000\n",
       "75%        0.000000\n",
       "max        1.000000"
      ]
     },
     "execution_count": 30,
     "metadata": {},
     "output_type": "execute_result"
    }
   ],
   "source": [
    "train[['native-country','income']].describe()"
   ]
  },
  {
   "cell_type": "markdown",
   "id": "194d8a95",
   "metadata": {},
   "source": [
    "#### 'marital-status'와 '' 컬럼 분석& 처리\n",
    "- 결측치 없음\n",
    "- 배우자 유무가 소득을 크게 올림 \n",
    "- 의외로 자식이 있을때 소득 너무 낮음"
   ]
  },
  {
   "cell_type": "code",
   "execution_count": null,
   "id": "730fe2c7",
   "metadata": {
    "scrolled": true
   },
   "outputs": [
    {
     "data": {
      "text/html": [
       "<div>\n",
       "<style scoped>\n",
       "    .dataframe tbody tr th:only-of-type {\n",
       "        vertical-align: middle;\n",
       "    }\n",
       "\n",
       "    .dataframe tbody tr th {\n",
       "        vertical-align: top;\n",
       "    }\n",
       "\n",
       "    .dataframe thead th {\n",
       "        text-align: right;\n",
       "    }\n",
       "</style>\n",
       "<table border=\"1\" class=\"dataframe\">\n",
       "  <thead>\n",
       "    <tr style=\"text-align: right;\">\n",
       "      <th></th>\n",
       "      <th>no</th>\n",
       "      <th>age</th>\n",
       "      <th>workclass</th>\n",
       "      <th>fnlwgt</th>\n",
       "      <th>education</th>\n",
       "      <th>education-num</th>\n",
       "      <th>marital-status</th>\n",
       "      <th>occupation</th>\n",
       "      <th>relationship</th>\n",
       "      <th>race</th>\n",
       "      <th>sex</th>\n",
       "      <th>capital-gain</th>\n",
       "      <th>capital-loss</th>\n",
       "      <th>hours-per-week</th>\n",
       "      <th>native-country</th>\n",
       "      <th>income</th>\n",
       "    </tr>\n",
       "  </thead>\n",
       "  <tbody>\n",
       "  </tbody>\n",
       "</table>\n",
       "</div>"
      ],
      "text/plain": [
       "Empty DataFrame\n",
       "Columns: [no, age, workclass, fnlwgt, education, education-num, marital-status, occupation, relationship, race, sex, capital-gain, capital-loss, hours-per-week, native-country, income]\n",
       "Index: []"
      ]
     },
     "execution_count": 31,
     "metadata": {},
     "output_type": "execute_result"
    }
   ],
   "source": [
    "train[train['marital-status']==\" ?\"]"
   ]
  },
  {
   "cell_type": "code",
   "execution_count": null,
   "id": "746ebbcb",
   "metadata": {},
   "outputs": [
    {
     "data": {
      "text/html": [
       "<div>\n",
       "<style scoped>\n",
       "    .dataframe tbody tr th:only-of-type {\n",
       "        vertical-align: middle;\n",
       "    }\n",
       "\n",
       "    .dataframe tbody tr th {\n",
       "        vertical-align: top;\n",
       "    }\n",
       "\n",
       "    .dataframe thead th {\n",
       "        text-align: right;\n",
       "    }\n",
       "</style>\n",
       "<table border=\"1\" class=\"dataframe\">\n",
       "  <thead>\n",
       "    <tr style=\"text-align: right;\">\n",
       "      <th></th>\n",
       "      <th>no</th>\n",
       "      <th>age</th>\n",
       "      <th>workclass</th>\n",
       "      <th>fnlwgt</th>\n",
       "      <th>education</th>\n",
       "      <th>education-num</th>\n",
       "      <th>marital-status</th>\n",
       "      <th>occupation</th>\n",
       "      <th>relationship</th>\n",
       "      <th>race</th>\n",
       "      <th>sex</th>\n",
       "      <th>capital-gain</th>\n",
       "      <th>capital-loss</th>\n",
       "      <th>hours-per-week</th>\n",
       "      <th>native-country</th>\n",
       "      <th>income</th>\n",
       "    </tr>\n",
       "  </thead>\n",
       "  <tbody>\n",
       "  </tbody>\n",
       "</table>\n",
       "</div>"
      ],
      "text/plain": [
       "Empty DataFrame\n",
       "Columns: [no, age, workclass, fnlwgt, education, education-num, marital-status, occupation, relationship, race, sex, capital-gain, capital-loss, hours-per-week, native-country, income]\n",
       "Index: []"
      ]
     },
     "execution_count": 32,
     "metadata": {},
     "output_type": "execute_result"
    }
   ],
   "source": [
    "train[train['relationship']==\" ?\"]"
   ]
  },
  {
   "cell_type": "code",
   "execution_count": null,
   "id": "023da578",
   "metadata": {},
   "outputs": [
    {
     "data": {
      "text/html": [
       "<div>\n",
       "<style scoped>\n",
       "    .dataframe tbody tr th:only-of-type {\n",
       "        vertical-align: middle;\n",
       "    }\n",
       "\n",
       "    .dataframe tbody tr th {\n",
       "        vertical-align: top;\n",
       "    }\n",
       "\n",
       "    .dataframe thead th {\n",
       "        text-align: right;\n",
       "    }\n",
       "</style>\n",
       "<table border=\"1\" class=\"dataframe\">\n",
       "  <thead>\n",
       "    <tr style=\"text-align: right;\">\n",
       "      <th></th>\n",
       "      <th>income</th>\n",
       "    </tr>\n",
       "    <tr>\n",
       "      <th>marital-status</th>\n",
       "      <th></th>\n",
       "    </tr>\n",
       "  </thead>\n",
       "  <tbody>\n",
       "    <tr>\n",
       "      <th>Never-married</th>\n",
       "      <td>0.046831</td>\n",
       "    </tr>\n",
       "    <tr>\n",
       "      <th>Separated</th>\n",
       "      <td>0.067834</td>\n",
       "    </tr>\n",
       "    <tr>\n",
       "      <th>Widowed</th>\n",
       "      <td>0.083864</td>\n",
       "    </tr>\n",
       "    <tr>\n",
       "      <th>Married-spouse-absent</th>\n",
       "      <td>0.093909</td>\n",
       "    </tr>\n",
       "    <tr>\n",
       "      <th>Divorced</th>\n",
       "      <td>0.104467</td>\n",
       "    </tr>\n",
       "    <tr>\n",
       "      <th>Married-AF-spouse</th>\n",
       "      <td>0.380952</td>\n",
       "    </tr>\n",
       "    <tr>\n",
       "      <th>Married-civ-spouse</th>\n",
       "      <td>0.448954</td>\n",
       "    </tr>\n",
       "  </tbody>\n",
       "</table>\n",
       "</div>"
      ],
      "text/plain": [
       "                          income\n",
       "marital-status                  \n",
       " Never-married          0.046831\n",
       " Separated              0.067834\n",
       " Widowed                0.083864\n",
       " Married-spouse-absent  0.093909\n",
       " Divorced               0.104467\n",
       " Married-AF-spouse      0.380952\n",
       " Married-civ-spouse     0.448954"
      ]
     },
     "execution_count": 33,
     "metadata": {},
     "output_type": "execute_result"
    }
   ],
   "source": [
    "train[['marital-status','income']].groupby(['marital-status']).mean().sort_values(by='income')"
   ]
  },
  {
   "cell_type": "code",
   "execution_count": null,
   "id": "32bc3d29",
   "metadata": {},
   "outputs": [
    {
     "data": {
      "text/html": [
       "<div>\n",
       "<style scoped>\n",
       "    .dataframe tbody tr th:only-of-type {\n",
       "        vertical-align: middle;\n",
       "    }\n",
       "\n",
       "    .dataframe tbody tr th {\n",
       "        vertical-align: top;\n",
       "    }\n",
       "\n",
       "    .dataframe thead th {\n",
       "        text-align: right;\n",
       "    }\n",
       "</style>\n",
       "<table border=\"1\" class=\"dataframe\">\n",
       "  <thead>\n",
       "    <tr style=\"text-align: right;\">\n",
       "      <th></th>\n",
       "      <th>income</th>\n",
       "    </tr>\n",
       "    <tr>\n",
       "      <th>relationship</th>\n",
       "      <th></th>\n",
       "    </tr>\n",
       "  </thead>\n",
       "  <tbody>\n",
       "    <tr>\n",
       "      <th>Own-child</th>\n",
       "      <td>0.014273</td>\n",
       "    </tr>\n",
       "    <tr>\n",
       "      <th>Other-relative</th>\n",
       "      <td>0.035398</td>\n",
       "    </tr>\n",
       "    <tr>\n",
       "      <th>Unmarried</th>\n",
       "      <td>0.060567</td>\n",
       "    </tr>\n",
       "    <tr>\n",
       "      <th>Not-in-family</th>\n",
       "      <td>0.105146</td>\n",
       "    </tr>\n",
       "    <tr>\n",
       "      <th>Husband</th>\n",
       "      <td>0.452035</td>\n",
       "    </tr>\n",
       "    <tr>\n",
       "      <th>Wife</th>\n",
       "      <td>0.466423</td>\n",
       "    </tr>\n",
       "  </tbody>\n",
       "</table>\n",
       "</div>"
      ],
      "text/plain": [
       "                   income\n",
       "relationship             \n",
       " Own-child       0.014273\n",
       " Other-relative  0.035398\n",
       " Unmarried       0.060567\n",
       " Not-in-family   0.105146\n",
       " Husband         0.452035\n",
       " Wife            0.466423"
      ]
     },
     "execution_count": 34,
     "metadata": {},
     "output_type": "execute_result"
    }
   ],
   "source": [
    "train[['relationship','income']].groupby(['relationship']).mean().sort_values(by='income')"
   ]
  },
  {
   "cell_type": "code",
   "execution_count": null,
   "id": "9463401d",
   "metadata": {},
   "outputs": [
    {
     "data": {
      "text/plain": [
       "income\n",
       "0         4489\n",
       "1           65\n",
       "dtype: int64"
      ]
     },
     "execution_count": 35,
     "metadata": {},
     "output_type": "execute_result"
    }
   ],
   "source": [
    "train[train['relationship']==\" Own-child\"][['income']].value_counts()"
   ]
  },
  {
   "cell_type": "markdown",
   "id": "cc44e7e9",
   "metadata": {},
   "source": [
    "#### 'occupation' 분석 & 처리\n",
    "- 결측치 부분이 평균에서 크게 낮음\n",
    "- 방법1 결측치 처리 모델 만드는 법\n",
    "- 방법2 3~4그룹으로 나누자(결측치 필요 없음)"
   ]
  },
  {
   "cell_type": "code",
   "execution_count": null,
   "id": "1a552f6a",
   "metadata": {},
   "outputs": [
    {
     "name": "stderr",
     "output_type": "stream",
     "text": [
      "C:\\Users\\aischool\\AppData\\Local\\Temp\\ipykernel_6528\\3366835811.py:1: FutureWarning: Dropping of nuisance columns in DataFrame reductions (with 'numeric_only=None') is deprecated; in a future version this will raise TypeError.  Select only valid columns before calling the reduction.\n",
      "  train[train['occupation']==' ?'][['occupation','income']].mean()\n"
     ]
    },
    {
     "data": {
      "text/plain": [
       "income    0.104916\n",
       "dtype: float64"
      ]
     },
     "execution_count": 36,
     "metadata": {},
     "output_type": "execute_result"
    }
   ],
   "source": [
    "train[train['occupation']==' ?'][['occupation','income']].mean()"
   ]
  },
  {
   "cell_type": "code",
   "execution_count": null,
   "id": "384da080",
   "metadata": {},
   "outputs": [
    {
     "data": {
      "text/html": [
       "<div>\n",
       "<style scoped>\n",
       "    .dataframe tbody tr th:only-of-type {\n",
       "        vertical-align: middle;\n",
       "    }\n",
       "\n",
       "    .dataframe tbody tr th {\n",
       "        vertical-align: top;\n",
       "    }\n",
       "\n",
       "    .dataframe thead th {\n",
       "        text-align: right;\n",
       "    }\n",
       "</style>\n",
       "<table border=\"1\" class=\"dataframe\">\n",
       "  <thead>\n",
       "    <tr style=\"text-align: right;\">\n",
       "      <th></th>\n",
       "      <th>income</th>\n",
       "    </tr>\n",
       "    <tr>\n",
       "      <th>occupation</th>\n",
       "      <th></th>\n",
       "    </tr>\n",
       "  </thead>\n",
       "  <tbody>\n",
       "    <tr>\n",
       "      <th>Priv-house-serv</th>\n",
       "      <td>0.020548</td>\n",
       "    </tr>\n",
       "    <tr>\n",
       "      <th>Other-service</th>\n",
       "      <td>0.043361</td>\n",
       "    </tr>\n",
       "    <tr>\n",
       "      <th>Handlers-cleaners</th>\n",
       "      <td>0.066453</td>\n",
       "    </tr>\n",
       "    <tr>\n",
       "      <th>?</th>\n",
       "      <td>0.104916</td>\n",
       "    </tr>\n",
       "    <tr>\n",
       "      <th>Farming-fishing</th>\n",
       "      <td>0.106982</td>\n",
       "    </tr>\n",
       "    <tr>\n",
       "      <th>Machine-op-inspct</th>\n",
       "      <td>0.131971</td>\n",
       "    </tr>\n",
       "    <tr>\n",
       "      <th>Adm-clerical</th>\n",
       "      <td>0.133140</td>\n",
       "    </tr>\n",
       "    <tr>\n",
       "      <th>Transport-moving</th>\n",
       "      <td>0.202441</td>\n",
       "    </tr>\n",
       "    <tr>\n",
       "      <th>Craft-repair</th>\n",
       "      <td>0.225771</td>\n",
       "    </tr>\n",
       "    <tr>\n",
       "      <th>Sales</th>\n",
       "      <td>0.275516</td>\n",
       "    </tr>\n",
       "    <tr>\n",
       "      <th>Tech-support</th>\n",
       "      <td>0.284393</td>\n",
       "    </tr>\n",
       "    <tr>\n",
       "      <th>Armed-Forces</th>\n",
       "      <td>0.300000</td>\n",
       "    </tr>\n",
       "    <tr>\n",
       "      <th>Protective-serv</th>\n",
       "      <td>0.321725</td>\n",
       "    </tr>\n",
       "    <tr>\n",
       "      <th>Prof-specialty</th>\n",
       "      <td>0.448980</td>\n",
       "    </tr>\n",
       "    <tr>\n",
       "      <th>Exec-managerial</th>\n",
       "      <td>0.481851</td>\n",
       "    </tr>\n",
       "  </tbody>\n",
       "</table>\n",
       "</div>"
      ],
      "text/plain": [
       "                      income\n",
       "occupation                  \n",
       " Priv-house-serv    0.020548\n",
       " Other-service      0.043361\n",
       " Handlers-cleaners  0.066453\n",
       " ?                  0.104916\n",
       " Farming-fishing    0.106982\n",
       " Machine-op-inspct  0.131971\n",
       " Adm-clerical       0.133140\n",
       " Transport-moving   0.202441\n",
       " Craft-repair       0.225771\n",
       " Sales              0.275516\n",
       " Tech-support       0.284393\n",
       " Armed-Forces       0.300000\n",
       " Protective-serv    0.321725\n",
       " Prof-specialty     0.448980\n",
       " Exec-managerial    0.481851"
      ]
     },
     "execution_count": 37,
     "metadata": {},
     "output_type": "execute_result"
    }
   ],
   "source": [
    "train[['occupation','income']].groupby(['occupation']).mean().sort_values(by='income')"
   ]
  },
  {
   "cell_type": "code",
   "execution_count": null,
   "id": "aefaea1d",
   "metadata": {},
   "outputs": [
    {
     "data": {
      "text/plain": [
       "native-country  \n",
       " United-States      0.907074\n",
       " ?                  0.018585\n",
       " Mexico             0.015588\n",
       " Canada             0.008993\n",
       " South              0.006595\n",
       " Puerto-Rico        0.004796\n",
       " Germany            0.004796\n",
       " Taiwan             0.004197\n",
       " Philippines        0.004197\n",
       " El-Salvador        0.003597\n",
       " Haiti              0.002998\n",
       " England            0.001799\n",
       " Portugal           0.001799\n",
       " Poland             0.001799\n",
       " China              0.001799\n",
       " Jamaica            0.001199\n",
       " Italy              0.001199\n",
       " India              0.001199\n",
       " Hong               0.001199\n",
       " France             0.001199\n",
       " Japan              0.000600\n",
       " Cambodia           0.000600\n",
       " Nicaragua          0.000600\n",
       " Hungary            0.000600\n",
       " Cuba               0.000600\n",
       " Columbia           0.000600\n",
       " Thailand           0.000600\n",
       " Trinadad&Tobago    0.000600\n",
       " Ireland            0.000600\n",
       "dtype: float64"
      ]
     },
     "execution_count": 38,
     "metadata": {},
     "output_type": "execute_result"
    }
   ],
   "source": [
    "train[train['occupation']==' ?'][['native-country']].value_counts(normalize=True)"
   ]
  },
  {
   "cell_type": "code",
   "execution_count": null,
   "id": "ef19dabf",
   "metadata": {},
   "outputs": [
    {
     "data": {
      "text/plain": [
       "native-country             \n",
       " United-States                 0.897492\n",
       " Mexico                        0.019758\n",
       " ?                             0.016891\n",
       " Philippines                   0.006074\n",
       " Germany                       0.004231\n",
       " Puerto-Rico                   0.003992\n",
       " Canada                        0.003788\n",
       " El-Salvador                   0.003276\n",
       " Cuba                          0.003208\n",
       " India                         0.003071\n",
       " England                       0.002559\n",
       " South                         0.002525\n",
       " Jamaica                       0.002320\n",
       " China                         0.002320\n",
       " Dominican-Republic            0.002082\n",
       " Italy                         0.002047\n",
       " Japan                         0.001843\n",
       " Columbia                      0.001809\n",
       " Poland                        0.001809\n",
       " Haiti                         0.001740\n",
       " Guatemala                     0.001740\n",
       " Vietnam                       0.001706\n",
       " Portugal                      0.001467\n",
       " Taiwan                        0.001331\n",
       " Iran                          0.001297\n",
       " Nicaragua                     0.000955\n",
       " Peru                          0.000853\n",
       " Greece                        0.000853\n",
       " Ireland                       0.000785\n",
       " Ecuador                       0.000717\n",
       " France                        0.000682\n",
       " Cambodia                      0.000648\n",
       " Hong                          0.000648\n",
       " Outlying-US(Guam-USVI-etc)    0.000512\n",
       " Thailand                      0.000512\n",
       " Laos                          0.000444\n",
       " Trinadad&Tobago               0.000444\n",
       " Yugoslavia                    0.000444\n",
       " Hungary                       0.000409\n",
       " Honduras                      0.000375\n",
       " Scotland                      0.000307\n",
       " Holand-Netherlands            0.000034\n",
       "dtype: float64"
      ]
     },
     "execution_count": 39,
     "metadata": {},
     "output_type": "execute_result"
    }
   ],
   "source": [
    "train[['native-country']].value_counts(normalize=True)"
   ]
  },
  {
   "cell_type": "code",
   "execution_count": null,
   "id": "4de745b7",
   "metadata": {},
   "outputs": [
    {
     "data": {
      "text/plain": [
       "relationship   \n",
       " Own-child         0.309952\n",
       " Husband           0.254197\n",
       " Not-in-family     0.239209\n",
       " Unmarried         0.091727\n",
       " Wife              0.069544\n",
       " Other-relative    0.035372\n",
       "dtype: float64"
      ]
     },
     "execution_count": 40,
     "metadata": {},
     "output_type": "execute_result"
    }
   ],
   "source": [
    "train[train['occupation']==' ?'][['relationship']].value_counts(normalize=True)"
   ]
  },
  {
   "cell_type": "code",
   "execution_count": null,
   "id": "6a09b682",
   "metadata": {},
   "outputs": [
    {
     "data": {
      "text/plain": [
       "relationship   \n",
       " Husband           0.401604\n",
       " Not-in-family     0.260604\n",
       " Own-child         0.155400\n",
       " Unmarried         0.104794\n",
       " Wife              0.046750\n",
       " Other-relative    0.030848\n",
       "dtype: float64"
      ]
     },
     "execution_count": 41,
     "metadata": {},
     "output_type": "execute_result"
    }
   ],
   "source": [
    "train[['relationship']].value_counts(normalize=True)"
   ]
  },
  {
   "cell_type": "markdown",
   "id": "be890e55",
   "metadata": {},
   "source": [
    "#### 'race' 분석 & 처리 \n",
    "- 결측치 없음\n",
    "- Amer-Indian-Eskimo, Black, Other -> income 평균치에 훨씬 밑도는 수준\n",
    "- Asian-Pac-Islander, White -> income 평균치"
   ]
  },
  {
   "cell_type": "code",
   "execution_count": null,
   "id": "f726bf6d",
   "metadata": {},
   "outputs": [
    {
     "data": {
      "text/html": [
       "<div>\n",
       "<style scoped>\n",
       "    .dataframe tbody tr th:only-of-type {\n",
       "        vertical-align: middle;\n",
       "    }\n",
       "\n",
       "    .dataframe tbody tr th {\n",
       "        vertical-align: top;\n",
       "    }\n",
       "\n",
       "    .dataframe thead th {\n",
       "        text-align: right;\n",
       "    }\n",
       "</style>\n",
       "<table border=\"1\" class=\"dataframe\">\n",
       "  <thead>\n",
       "    <tr style=\"text-align: right;\">\n",
       "      <th></th>\n",
       "      <th>income</th>\n",
       "    </tr>\n",
       "    <tr>\n",
       "      <th>race</th>\n",
       "      <th></th>\n",
       "    </tr>\n",
       "  </thead>\n",
       "  <tbody>\n",
       "    <tr>\n",
       "      <th>Other</th>\n",
       "      <td>0.117155</td>\n",
       "    </tr>\n",
       "    <tr>\n",
       "      <th>Black</th>\n",
       "      <td>0.118516</td>\n",
       "    </tr>\n",
       "    <tr>\n",
       "      <th>Amer-Indian-Eskimo</th>\n",
       "      <td>0.124138</td>\n",
       "    </tr>\n",
       "    <tr>\n",
       "      <th>Asian-Pac-Islander</th>\n",
       "      <td>0.255713</td>\n",
       "    </tr>\n",
       "    <tr>\n",
       "      <th>White</th>\n",
       "      <td>0.255851</td>\n",
       "    </tr>\n",
       "  </tbody>\n",
       "</table>\n",
       "</div>"
      ],
      "text/plain": [
       "                       income\n",
       "race                         \n",
       " Other               0.117155\n",
       " Black               0.118516\n",
       " Amer-Indian-Eskimo  0.124138\n",
       " Asian-Pac-Islander  0.255713\n",
       " White               0.255851"
      ]
     },
     "execution_count": 45,
     "metadata": {},
     "output_type": "execute_result"
    }
   ],
   "source": [
    "train[['race','income']].groupby(['race']).mean().sort_values(by='income')"
   ]
  },
  {
   "cell_type": "code",
   "execution_count": null,
   "id": "fc03984a",
   "metadata": {},
   "outputs": [
    {
     "data": {
      "text/plain": [
       " Husband           0.322176\n",
       " Not-in-family     0.259414\n",
       " Own-child         0.142259\n",
       " Other-relative    0.108787\n",
       " Unmarried         0.104603\n",
       " Wife              0.062762\n",
       "Name: relationship, dtype: float64"
      ]
     },
     "execution_count": 51,
     "metadata": {},
     "output_type": "execute_result"
    }
   ],
   "source": [
    "train[train['race']==' Other']['relationship'].value_counts(normalize=True)"
   ]
  },
  {
   "cell_type": "code",
   "execution_count": null,
   "id": "24dcb208",
   "metadata": {},
   "outputs": [
    {
     "data": {
      "text/plain": [
       " Husband           0.401604\n",
       " Not-in-family     0.260604\n",
       " Own-child         0.155400\n",
       " Unmarried         0.104794\n",
       " Wife              0.046750\n",
       " Other-relative    0.030848\n",
       "Name: relationship, dtype: float64"
      ]
     },
     "execution_count": 52,
     "metadata": {},
     "output_type": "execute_result"
    }
   ],
   "source": [
    "train['relationship'].value_counts(normalize=True)"
   ]
  },
  {
   "cell_type": "code",
   "execution_count": null,
   "id": "f3753b7d",
   "metadata": {},
   "outputs": [
    {
     "data": {
      "text/plain": [
       " Not-in-family     0.269452\n",
       " Unmarried         0.243876\n",
       " Husband           0.207133\n",
       " Own-child         0.182277\n",
       " Other-relative    0.050793\n",
       " Wife              0.046470\n",
       "Name: relationship, dtype: float64"
      ]
     },
     "execution_count": 53,
     "metadata": {},
     "output_type": "execute_result"
    }
   ],
   "source": [
    "train[train['race']==' Black']['relationship'].value_counts(normalize=True)"
   ]
  },
  {
   "cell_type": "code",
   "execution_count": null,
   "id": "4ed201ab",
   "metadata": {},
   "outputs": [
    {
     "data": {
      "text/plain": [
       " Husband           0.286207\n",
       " Not-in-family     0.265517\n",
       " Unmarried         0.206897\n",
       " Own-child         0.127586\n",
       " Wife              0.068966\n",
       " Other-relative    0.044828\n",
       "Name: relationship, dtype: float64"
      ]
     },
     "execution_count": 54,
     "metadata": {},
     "output_type": "execute_result"
    }
   ],
   "source": [
    "train[train['race']==' Amer-Indian-Eskimo']['relationship'].value_counts(normalize=True)"
   ]
  },
  {
   "cell_type": "code",
   "execution_count": null,
   "id": "12c534cf",
   "metadata": {},
   "outputs": [
    {
     "data": {
      "text/plain": [
       " Husband           0.381937\n",
       " Not-in-family     0.216540\n",
       " Own-child         0.163221\n",
       " Other-relative    0.085963\n",
       " Unmarried         0.083787\n",
       " Wife              0.068553\n",
       "Name: relationship, dtype: float64"
      ]
     },
     "execution_count": 55,
     "metadata": {},
     "output_type": "execute_result"
    }
   ],
   "source": [
    "train[train['race']==' Asian-Pac-Islander']['relationship'].value_counts(normalize=True)"
   ]
  },
  {
   "cell_type": "code",
   "execution_count": null,
   "id": "58683c2b",
   "metadata": {},
   "outputs": [
    {
     "data": {
      "text/plain": [
       " Husband           0.425940\n",
       " Not-in-family     0.261194\n",
       " Own-child         0.152586\n",
       " Unmarried         0.088992\n",
       " Wife              0.045572\n",
       " Other-relative    0.025717\n",
       "Name: relationship, dtype: float64"
      ]
     },
     "execution_count": 56,
     "metadata": {},
     "output_type": "execute_result"
    }
   ],
   "source": [
    "train[train['race']==' White']['relationship'].value_counts(normalize=True)"
   ]
  },
  {
   "cell_type": "markdown",
   "id": "44d460be",
   "metadata": {},
   "source": []
  },
  {
   "cell_type": "code",
   "execution_count": null,
   "id": "95299fe8",
   "metadata": {},
   "outputs": [
    {
     "data": {
      "text/plain": [
       "<AxesSubplot:xlabel='age'>"
      ]
     },
     "execution_count": 80,
     "metadata": {},
     "output_type": "execute_result"
    },
    {
     "data": {
      "image/png": "[encoded data removed]",
      "text/plain": [
       "<Figure size 432x288 with 1 Axes>"
      ]
     },
     "metadata": {},
     "output_type": "display_data"
    }
   ],
   "source": [
    "train[['age','income']].groupby(['age']).mean().plot(kind='line')"
   ]
  },
  {
   "cell_type": "code",
   "execution_count": null,
   "id": "c4c0eaf9",
   "metadata": {},
   "outputs": [
    {
     "data": {
      "text/plain": [
       "<pandas.core.groupby.generic.DataFrameGroupBy object at 0x0000016AA5A69700>"
      ]
     },
     "execution_count": 76,
     "metadata": {},
     "output_type": "execute_result"
    }
   ],
   "source": []
  },
  {
   "cell_type": "code",
   "execution_count": null,
   "id": "906c80ec",
   "metadata": {},
   "outputs": [
    {
     "data": {
      "text/plain": [
       "<AxesSubplot:xlabel='age'>"
      ]
     },
     "execution_count": 79,
     "metadata": {},
     "output_type": "execute_result"
    },
    {
     "data": {
      "image/png": "[encoded data removed]",
      "text/plain": [
       "<Figure size 432x288 with 1 Axes>"
      ]
     },
     "metadata": {},
     "output_type": "display_data"
    }
   ],
   "source": [
    "train[['age']].value_counts().plot(kind='bar')"
   ]
  },
  {
   "cell_type": "code",
   "execution_count": null,
   "id": "9e7bec88",
   "metadata": {},
   "outputs": [
    {
     "name": "stderr",
     "output_type": "stream",
     "text": [
      "C:\\Users\\aischool\\AppData\\Local\\Temp\\ipykernel_6528\\3593007134.py:1: UserWarning: Boolean Series key will be reindexed to match DataFrame index.\n",
      "  train[train['age']<20][train['income']==1].count()['age'],train[train['age']<20].count()['age']\n"
     ]
    },
    {
     "data": {
      "text/plain": [
       "(2, 1479)"
      ]
     },
     "execution_count": 96,
     "metadata": {},
     "output_type": "execute_result"
    }
   ],
   "source": [
    "train[train['age']<20][train['income']==1].count()['age'],train[train['age']<20].count()['age']"
   ]
  },
  {
   "cell_type": "code",
   "execution_count": null,
   "id": "d6293c1f",
   "metadata": {},
   "outputs": [
    {
     "name": "stderr",
     "output_type": "stream",
     "text": [
      "C:\\Users\\aischool\\AppData\\Local\\Temp\\ipykernel_6528\\2727660656.py:1: UserWarning: Boolean Series key will be reindexed to match DataFrame index.\n",
      "  train[train['age']<25][train['income']==1].count()['age']-train[train['age']<=20][train['income']==1].count()['age']\n"
     ]
    },
    {
     "data": {
      "text/plain": [
       "52"
      ]
     },
     "execution_count": 102,
     "metadata": {},
     "output_type": "execute_result"
    }
   ],
   "source": [
    "train[train['age']<25][train['income']==1].count()['age']-train[train['age']<=20][train['income']==1].count()['age']"
   ]
  },
  {
   "cell_type": "code",
   "execution_count": null,
   "id": "e3773796",
   "metadata": {
    "scrolled": true
   },
   "outputs": [
    {
     "data": {
      "text/plain": [
       "2910"
      ]
     },
     "execution_count": 104,
     "metadata": {},
     "output_type": "execute_result"
    }
   ],
   "source": [
    "train[train['age']<25].count()['age']-train[train['age']<=20].count()['age']"
   ]
  },
  {
   "cell_type": "code",
   "execution_count": null,
   "id": "a7f9389c",
   "metadata": {},
   "outputs": [
    {
     "name": "stderr",
     "output_type": "stream",
     "text": [
      "C:\\Users\\aischool\\AppData\\Local\\Temp\\ipykernel_6528\\1465039564.py:7: UserWarning: Boolean Series key will be reindexed to match DataFrame index.\n",
      "  b=train[train['age']<=i+5][train['income']==1].count()['age']-train[train['age']<i][train['income']==1].count()['age']\n"
     ]
    }
   ],
   "source": [
    "# 초과 이하\n",
    "age_all=[]\n",
    "age_income=[]\n",
    "age=[]\n",
    "for i in range(15,101,5):\n",
    "    a=train[train['age']<=i+5].count()['age']-train[train['age']<i].count()['age']\n",
    "    age_all.append(a)\n",
    "    b=train[train['age']<=i+5][train['income']==1].count()['age']-train[train['age']<i][train['income']==1].count()['age']\n",
    "    age_income.append(b)\n",
    "    age.append(str(i)+'~'+str(i+5))"
   ]
  },
  {
   "cell_type": "code",
   "execution_count": null,
   "id": "091e7904",
   "metadata": {},
   "outputs": [
    {
     "data": {
      "text/html": [
       "<div>\n",
       "<style scoped>\n",
       "    .dataframe tbody tr th:only-of-type {\n",
       "        vertical-align: middle;\n",
       "    }\n",
       "\n",
       "    .dataframe tbody tr th {\n",
       "        vertical-align: top;\n",
       "    }\n",
       "\n",
       "    .dataframe thead th {\n",
       "        text-align: right;\n",
       "    }\n",
       "</style>\n",
       "<table border=\"1\" class=\"dataframe\">\n",
       "  <thead>\n",
       "    <tr style=\"text-align: right;\">\n",
       "      <th></th>\n",
       "      <th>0</th>\n",
       "      <th>1</th>\n",
       "    </tr>\n",
       "  </thead>\n",
       "  <tbody>\n",
       "    <tr>\n",
       "      <th>15~25</th>\n",
       "      <td>5819</td>\n",
       "      <td>103</td>\n",
       "    </tr>\n",
       "    <tr>\n",
       "      <th>25~35</th>\n",
       "      <td>8396</td>\n",
       "      <td>1446</td>\n",
       "    </tr>\n",
       "    <tr>\n",
       "      <th>35~45</th>\n",
       "      <td>7912</td>\n",
       "      <td>2672</td>\n",
       "    </tr>\n",
       "    <tr>\n",
       "      <th>45~55</th>\n",
       "      <td>5618</td>\n",
       "      <td>2241</td>\n",
       "    </tr>\n",
       "    <tr>\n",
       "      <th>55~65</th>\n",
       "      <td>3052</td>\n",
       "      <td>993</td>\n",
       "    </tr>\n",
       "    <tr>\n",
       "      <th>65~75</th>\n",
       "      <td>1056</td>\n",
       "      <td>237</td>\n",
       "    </tr>\n",
       "    <tr>\n",
       "      <th>75~85</th>\n",
       "      <td>221</td>\n",
       "      <td>30</td>\n",
       "    </tr>\n",
       "    <tr>\n",
       "      <th>85~95</th>\n",
       "      <td>46</td>\n",
       "      <td>9</td>\n",
       "    </tr>\n",
       "    <tr>\n",
       "      <th>95~105</th>\n",
       "      <td>0</td>\n",
       "      <td>0</td>\n",
       "    </tr>\n",
       "  </tbody>\n",
       "</table>\n",
       "</div>"
      ],
      "text/plain": [
       "           0     1\n",
       "15~25   5819   103\n",
       "25~35   8396  1446\n",
       "35~45   7912  2672\n",
       "45~55   5618  2241\n",
       "55~65   3052   993\n",
       "65~75   1056   237\n",
       "75~85    221    30\n",
       "85~95     46     9\n",
       "95~105     0     0"
      ]
     },
     "execution_count": 132,
     "metadata": {},
     "output_type": "execute_result"
    }
   ],
   "source": [
    "data=pd.DataFrame([age_all,age_income], columns=age).T\n",
    "data"
   ]
  },
  {
   "cell_type": "code",
   "execution_count": null,
   "id": "32897aa8",
   "metadata": {},
   "outputs": [
    {
     "data": {
      "text/html": [
       "<div>\n",
       "<style scoped>\n",
       "    .dataframe tbody tr th:only-of-type {\n",
       "        vertical-align: middle;\n",
       "    }\n",
       "\n",
       "    .dataframe tbody tr th {\n",
       "        vertical-align: top;\n",
       "    }\n",
       "\n",
       "    .dataframe thead th {\n",
       "        text-align: right;\n",
       "    }\n",
       "</style>\n",
       "<table border=\"1\" class=\"dataframe\">\n",
       "  <thead>\n",
       "    <tr style=\"text-align: right;\">\n",
       "      <th></th>\n",
       "      <th>0</th>\n",
       "      <th>1</th>\n",
       "    </tr>\n",
       "  </thead>\n",
       "  <tbody>\n",
       "    <tr>\n",
       "      <th>15~20</th>\n",
       "      <td>2162</td>\n",
       "      <td>3</td>\n",
       "    </tr>\n",
       "    <tr>\n",
       "      <th>20~25</th>\n",
       "      <td>4340</td>\n",
       "      <td>101</td>\n",
       "    </tr>\n",
       "    <tr>\n",
       "      <th>25~30</th>\n",
       "      <td>4376</td>\n",
       "      <td>516</td>\n",
       "    </tr>\n",
       "    <tr>\n",
       "      <th>30~35</th>\n",
       "      <td>4775</td>\n",
       "      <td>1075</td>\n",
       "    </tr>\n",
       "    <tr>\n",
       "      <th>35~40</th>\n",
       "      <td>4558</td>\n",
       "      <td>1449</td>\n",
       "    </tr>\n",
       "    <tr>\n",
       "      <th>40~45</th>\n",
       "      <td>4042</td>\n",
       "      <td>1452</td>\n",
       "    </tr>\n",
       "    <tr>\n",
       "      <th>45~50</th>\n",
       "      <td>3485</td>\n",
       "      <td>1392</td>\n",
       "    </tr>\n",
       "    <tr>\n",
       "      <th>50~55</th>\n",
       "      <td>2660</td>\n",
       "      <td>1077</td>\n",
       "    </tr>\n",
       "    <tr>\n",
       "      <th>55~60</th>\n",
       "      <td>1968</td>\n",
       "      <td>686</td>\n",
       "    </tr>\n",
       "    <tr>\n",
       "      <th>60~65</th>\n",
       "      <td>1355</td>\n",
       "      <td>382</td>\n",
       "    </tr>\n",
       "    <tr>\n",
       "      <th>65~70</th>\n",
       "      <td>743</td>\n",
       "      <td>179</td>\n",
       "    </tr>\n",
       "    <tr>\n",
       "      <th>70~75</th>\n",
       "      <td>397</td>\n",
       "      <td>73</td>\n",
       "    </tr>\n",
       "    <tr>\n",
       "      <th>75~80</th>\n",
       "      <td>178</td>\n",
       "      <td>24</td>\n",
       "    </tr>\n",
       "    <tr>\n",
       "      <th>80~85</th>\n",
       "      <td>66</td>\n",
       "      <td>9</td>\n",
       "    </tr>\n",
       "    <tr>\n",
       "      <th>85~90</th>\n",
       "      <td>46</td>\n",
       "      <td>9</td>\n",
       "    </tr>\n",
       "    <tr>\n",
       "      <th>90~95</th>\n",
       "      <td>37</td>\n",
       "      <td>8</td>\n",
       "    </tr>\n",
       "    <tr>\n",
       "      <th>95~100</th>\n",
       "      <td>0</td>\n",
       "      <td>0</td>\n",
       "    </tr>\n",
       "    <tr>\n",
       "      <th>100~105</th>\n",
       "      <td>0</td>\n",
       "      <td>0</td>\n",
       "    </tr>\n",
       "  </tbody>\n",
       "</table>\n",
       "</div>"
      ],
      "text/plain": [
       "            0     1\n",
       "15~20    2162     3\n",
       "20~25    4340   101\n",
       "25~30    4376   516\n",
       "30~35    4775  1075\n",
       "35~40    4558  1449\n",
       "40~45    4042  1452\n",
       "45~50    3485  1392\n",
       "50~55    2660  1077\n",
       "55~60    1968   686\n",
       "60~65    1355   382\n",
       "65~70     743   179\n",
       "70~75     397    73\n",
       "75~80     178    24\n",
       "80~85      66     9\n",
       "85~90      46     9\n",
       "90~95      37     8\n",
       "95~100      0     0\n",
       "100~105     0     0"
      ]
     },
     "execution_count": 135,
     "metadata": {},
     "output_type": "execute_result"
    }
   ],
   "source": [
    "data1=pd.DataFrame([age_all,age_income], columns=age).T\n",
    "data1"
   ]
  },
  {
   "cell_type": "code",
   "execution_count": null,
   "id": "bd48d310",
   "metadata": {},
   "outputs": [
    {
     "data": {
      "text/html": [
       "<div>\n",
       "<style scoped>\n",
       "    .dataframe tbody tr th:only-of-type {\n",
       "        vertical-align: middle;\n",
       "    }\n",
       "\n",
       "    .dataframe tbody tr th {\n",
       "        vertical-align: top;\n",
       "    }\n",
       "\n",
       "    .dataframe thead th {\n",
       "        text-align: right;\n",
       "    }\n",
       "</style>\n",
       "<table border=\"1\" class=\"dataframe\">\n",
       "  <thead>\n",
       "    <tr style=\"text-align: right;\">\n",
       "      <th></th>\n",
       "      <th>0</th>\n",
       "      <th>1</th>\n",
       "      <th>2</th>\n",
       "    </tr>\n",
       "  </thead>\n",
       "  <tbody>\n",
       "    <tr>\n",
       "      <th>15~25</th>\n",
       "      <td>5819</td>\n",
       "      <td>103</td>\n",
       "      <td>0.017701</td>\n",
       "    </tr>\n",
       "    <tr>\n",
       "      <th>25~35</th>\n",
       "      <td>8396</td>\n",
       "      <td>1446</td>\n",
       "      <td>0.172225</td>\n",
       "    </tr>\n",
       "    <tr>\n",
       "      <th>35~45</th>\n",
       "      <td>7912</td>\n",
       "      <td>2672</td>\n",
       "      <td>0.337715</td>\n",
       "    </tr>\n",
       "    <tr>\n",
       "      <th>45~55</th>\n",
       "      <td>5618</td>\n",
       "      <td>2241</td>\n",
       "      <td>0.398896</td>\n",
       "    </tr>\n",
       "    <tr>\n",
       "      <th>55~65</th>\n",
       "      <td>3052</td>\n",
       "      <td>993</td>\n",
       "      <td>0.325360</td>\n",
       "    </tr>\n",
       "    <tr>\n",
       "      <th>65~75</th>\n",
       "      <td>1056</td>\n",
       "      <td>237</td>\n",
       "      <td>0.224432</td>\n",
       "    </tr>\n",
       "    <tr>\n",
       "      <th>75~85</th>\n",
       "      <td>221</td>\n",
       "      <td>30</td>\n",
       "      <td>0.135747</td>\n",
       "    </tr>\n",
       "    <tr>\n",
       "      <th>85~95</th>\n",
       "      <td>46</td>\n",
       "      <td>9</td>\n",
       "      <td>0.195652</td>\n",
       "    </tr>\n",
       "    <tr>\n",
       "      <th>95~105</th>\n",
       "      <td>0</td>\n",
       "      <td>0</td>\n",
       "      <td>NaN</td>\n",
       "    </tr>\n",
       "  </tbody>\n",
       "</table>\n",
       "</div>"
      ],
      "text/plain": [
       "           0     1         2\n",
       "15~25   5819   103  0.017701\n",
       "25~35   8396  1446  0.172225\n",
       "35~45   7912  2672  0.337715\n",
       "45~55   5618  2241  0.398896\n",
       "55~65   3052   993  0.325360\n",
       "65~75   1056   237  0.224432\n",
       "75~85    221    30  0.135747\n",
       "85~95     46     9  0.195652\n",
       "95~105     0     0       NaN"
      ]
     },
     "execution_count": 133,
     "metadata": {},
     "output_type": "execute_result"
    }
   ],
   "source": [
    "data[2]=data[1]/data[0]\n",
    "data"
   ]
  },
  {
   "cell_type": "code",
   "execution_count": null,
   "id": "3fa42121",
   "metadata": {},
   "outputs": [
    {
     "data": {
      "text/html": [
       "<div>\n",
       "<style scoped>\n",
       "    .dataframe tbody tr th:only-of-type {\n",
       "        vertical-align: middle;\n",
       "    }\n",
       "\n",
       "    .dataframe tbody tr th {\n",
       "        vertical-align: top;\n",
       "    }\n",
       "\n",
       "    .dataframe thead th {\n",
       "        text-align: right;\n",
       "    }\n",
       "</style>\n",
       "<table border=\"1\" class=\"dataframe\">\n",
       "  <thead>\n",
       "    <tr style=\"text-align: right;\">\n",
       "      <th></th>\n",
       "      <th>0</th>\n",
       "      <th>1</th>\n",
       "      <th>2</th>\n",
       "    </tr>\n",
       "  </thead>\n",
       "  <tbody>\n",
       "    <tr>\n",
       "      <th>15~20</th>\n",
       "      <td>2162</td>\n",
       "      <td>3</td>\n",
       "      <td>0.001388</td>\n",
       "    </tr>\n",
       "    <tr>\n",
       "      <th>20~25</th>\n",
       "      <td>4340</td>\n",
       "      <td>101</td>\n",
       "      <td>0.023272</td>\n",
       "    </tr>\n",
       "    <tr>\n",
       "      <th>25~30</th>\n",
       "      <td>4376</td>\n",
       "      <td>516</td>\n",
       "      <td>0.117916</td>\n",
       "    </tr>\n",
       "    <tr>\n",
       "      <th>30~35</th>\n",
       "      <td>4775</td>\n",
       "      <td>1075</td>\n",
       "      <td>0.225131</td>\n",
       "    </tr>\n",
       "    <tr>\n",
       "      <th>35~40</th>\n",
       "      <td>4558</td>\n",
       "      <td>1449</td>\n",
       "      <td>0.317903</td>\n",
       "    </tr>\n",
       "    <tr>\n",
       "      <th>40~45</th>\n",
       "      <td>4042</td>\n",
       "      <td>1452</td>\n",
       "      <td>0.359228</td>\n",
       "    </tr>\n",
       "    <tr>\n",
       "      <th>45~50</th>\n",
       "      <td>3485</td>\n",
       "      <td>1392</td>\n",
       "      <td>0.399426</td>\n",
       "    </tr>\n",
       "    <tr>\n",
       "      <th>50~55</th>\n",
       "      <td>2660</td>\n",
       "      <td>1077</td>\n",
       "      <td>0.404887</td>\n",
       "    </tr>\n",
       "    <tr>\n",
       "      <th>55~60</th>\n",
       "      <td>1968</td>\n",
       "      <td>686</td>\n",
       "      <td>0.348577</td>\n",
       "    </tr>\n",
       "    <tr>\n",
       "      <th>60~65</th>\n",
       "      <td>1355</td>\n",
       "      <td>382</td>\n",
       "      <td>0.281919</td>\n",
       "    </tr>\n",
       "    <tr>\n",
       "      <th>65~70</th>\n",
       "      <td>743</td>\n",
       "      <td>179</td>\n",
       "      <td>0.240915</td>\n",
       "    </tr>\n",
       "    <tr>\n",
       "      <th>70~75</th>\n",
       "      <td>397</td>\n",
       "      <td>73</td>\n",
       "      <td>0.183879</td>\n",
       "    </tr>\n",
       "    <tr>\n",
       "      <th>75~80</th>\n",
       "      <td>178</td>\n",
       "      <td>24</td>\n",
       "      <td>0.134831</td>\n",
       "    </tr>\n",
       "    <tr>\n",
       "      <th>80~85</th>\n",
       "      <td>66</td>\n",
       "      <td>9</td>\n",
       "      <td>0.136364</td>\n",
       "    </tr>\n",
       "    <tr>\n",
       "      <th>85~90</th>\n",
       "      <td>46</td>\n",
       "      <td>9</td>\n",
       "      <td>0.195652</td>\n",
       "    </tr>\n",
       "    <tr>\n",
       "      <th>90~95</th>\n",
       "      <td>37</td>\n",
       "      <td>8</td>\n",
       "      <td>0.216216</td>\n",
       "    </tr>\n",
       "    <tr>\n",
       "      <th>95~100</th>\n",
       "      <td>0</td>\n",
       "      <td>0</td>\n",
       "      <td>NaN</td>\n",
       "    </tr>\n",
       "    <tr>\n",
       "      <th>100~105</th>\n",
       "      <td>0</td>\n",
       "      <td>0</td>\n",
       "      <td>NaN</td>\n",
       "    </tr>\n",
       "  </tbody>\n",
       "</table>\n",
       "</div>"
      ],
      "text/plain": [
       "            0     1         2\n",
       "15~20    2162     3  0.001388\n",
       "20~25    4340   101  0.023272\n",
       "25~30    4376   516  0.117916\n",
       "30~35    4775  1075  0.225131\n",
       "35~40    4558  1449  0.317903\n",
       "40~45    4042  1452  0.359228\n",
       "45~50    3485  1392  0.399426\n",
       "50~55    2660  1077  0.404887\n",
       "55~60    1968   686  0.348577\n",
       "60~65    1355   382  0.281919\n",
       "65~70     743   179  0.240915\n",
       "70~75     397    73  0.183879\n",
       "75~80     178    24  0.134831\n",
       "80~85      66     9  0.136364\n",
       "85~90      46     9  0.195652\n",
       "90~95      37     8  0.216216\n",
       "95~100      0     0       NaN\n",
       "100~105     0     0       NaN"
      ]
     },
     "execution_count": 136,
     "metadata": {},
     "output_type": "execute_result"
    }
   ],
   "source": [
    "data1[2]=data1[1]/data1[0]\n",
    "data1"
   ]
  },
  {
   "cell_type": "code",
   "execution_count": null,
   "id": "73d3b310",
   "metadata": {},
   "outputs": [
    {
     "name": "stderr",
     "output_type": "stream",
     "text": [
      "C:\\Users\\aischool\\AppData\\Local\\Temp\\ipykernel_6528\\2008193253.py:8: UserWarning: Boolean Series key will be reindexed to match DataFrame index.\n",
      "  b=train[train['age']<i+5][train['income']==1].count()['age']-train[train['age']<=i][train['income']==1].count()['age']\n"
     ]
    }
   ],
   "source": [
    "# 이상 미만\n",
    "age_all_=[]\n",
    "age_income_=[]\n",
    "age_=[]\n",
    "for i in range(15,101,5):\n",
    "    a=train[train['age']<i+5].count()['age']-train[train['age']<=i].count()['age']\n",
    "    age_all_.append(a)\n",
    "    b=train[train['age']<i+5][train['income']==1].count()['age']-train[train['age']<=i][train['income']==1].count()['age']\n",
    "    age_income_.append(b)\n",
    "    age_.append(str(i)+'~'+str(i+5))"
   ]
  },
  {
   "cell_type": "code",
   "execution_count": null,
   "id": "0fba8786",
   "metadata": {},
   "outputs": [
    {
     "data": {
      "text/html": [
       "<div>\n",
       "<style scoped>\n",
       "    .dataframe tbody tr th:only-of-type {\n",
       "        vertical-align: middle;\n",
       "    }\n",
       "\n",
       "    .dataframe tbody tr th {\n",
       "        vertical-align: top;\n",
       "    }\n",
       "\n",
       "    .dataframe thead th {\n",
       "        text-align: right;\n",
       "    }\n",
       "</style>\n",
       "<table border=\"1\" class=\"dataframe\">\n",
       "  <thead>\n",
       "    <tr style=\"text-align: right;\">\n",
       "      <th></th>\n",
       "      <th>0</th>\n",
       "      <th>1</th>\n",
       "    </tr>\n",
       "  </thead>\n",
       "  <tbody>\n",
       "    <tr>\n",
       "      <th>15~20</th>\n",
       "      <td>1479</td>\n",
       "      <td>2</td>\n",
       "    </tr>\n",
       "    <tr>\n",
       "      <th>20~25</th>\n",
       "      <td>2910</td>\n",
       "      <td>52</td>\n",
       "    </tr>\n",
       "    <tr>\n",
       "      <th>25~30</th>\n",
       "      <td>2874</td>\n",
       "      <td>323</td>\n",
       "    </tr>\n",
       "    <tr>\n",
       "      <th>30~35</th>\n",
       "      <td>3192</td>\n",
       "      <td>717</td>\n",
       "    </tr>\n",
       "    <tr>\n",
       "      <th>35~40</th>\n",
       "      <td>3042</td>\n",
       "      <td>1007</td>\n",
       "    </tr>\n",
       "    <tr>\n",
       "      <th>40~45</th>\n",
       "      <td>2709</td>\n",
       "      <td>979</td>\n",
       "    </tr>\n",
       "    <tr>\n",
       "      <th>45~50</th>\n",
       "      <td>2313</td>\n",
       "      <td>920</td>\n",
       "    </tr>\n",
       "    <tr>\n",
       "      <th>50~55</th>\n",
       "      <td>1757</td>\n",
       "      <td>719</td>\n",
       "    </tr>\n",
       "    <tr>\n",
       "      <th>55~60</th>\n",
       "      <td>1321</td>\n",
       "      <td>481</td>\n",
       "    </tr>\n",
       "    <tr>\n",
       "      <th>60~65</th>\n",
       "      <td>912</td>\n",
       "      <td>262</td>\n",
       "    </tr>\n",
       "    <tr>\n",
       "      <th>65~70</th>\n",
       "      <td>487</td>\n",
       "      <td>119</td>\n",
       "    </tr>\n",
       "    <tr>\n",
       "      <th>70~75</th>\n",
       "      <td>268</td>\n",
       "      <td>52</td>\n",
       "    </tr>\n",
       "    <tr>\n",
       "      <th>75~80</th>\n",
       "      <td>110</td>\n",
       "      <td>15</td>\n",
       "    </tr>\n",
       "    <tr>\n",
       "      <th>80~85</th>\n",
       "      <td>41</td>\n",
       "      <td>6</td>\n",
       "    </tr>\n",
       "    <tr>\n",
       "      <th>85~90</th>\n",
       "      <td>7</td>\n",
       "      <td>1</td>\n",
       "    </tr>\n",
       "    <tr>\n",
       "      <th>90~95</th>\n",
       "      <td>0</td>\n",
       "      <td>0</td>\n",
       "    </tr>\n",
       "    <tr>\n",
       "      <th>95~100</th>\n",
       "      <td>0</td>\n",
       "      <td>0</td>\n",
       "    </tr>\n",
       "    <tr>\n",
       "      <th>100~105</th>\n",
       "      <td>0</td>\n",
       "      <td>0</td>\n",
       "    </tr>\n",
       "  </tbody>\n",
       "</table>\n",
       "</div>"
      ],
      "text/plain": [
       "            0     1\n",
       "15~20    1479     2\n",
       "20~25    2910    52\n",
       "25~30    2874   323\n",
       "30~35    3192   717\n",
       "35~40    3042  1007\n",
       "40~45    2709   979\n",
       "45~50    2313   920\n",
       "50~55    1757   719\n",
       "55~60    1321   481\n",
       "60~65     912   262\n",
       "65~70     487   119\n",
       "70~75     268    52\n",
       "75~80     110    15\n",
       "80~85      41     6\n",
       "85~90       7     1\n",
       "90~95       0     0\n",
       "95~100      0     0\n",
       "100~105     0     0"
      ]
     },
     "execution_count": 140,
     "metadata": {},
     "output_type": "execute_result"
    }
   ],
   "source": [
    "data3=pd.DataFrame([age_all_,age_income_], columns=age_).T\n",
    "data3"
   ]
  },
  {
   "cell_type": "code",
   "execution_count": null,
   "id": "1924db58",
   "metadata": {},
   "outputs": [
    {
     "data": {
      "text/html": [
       "<div>\n",
       "<style scoped>\n",
       "    .dataframe tbody tr th:only-of-type {\n",
       "        vertical-align: middle;\n",
       "    }\n",
       "\n",
       "    .dataframe tbody tr th {\n",
       "        vertical-align: top;\n",
       "    }\n",
       "\n",
       "    .dataframe thead th {\n",
       "        text-align: right;\n",
       "    }\n",
       "</style>\n",
       "<table border=\"1\" class=\"dataframe\">\n",
       "  <thead>\n",
       "    <tr style=\"text-align: right;\">\n",
       "      <th></th>\n",
       "      <th>0</th>\n",
       "      <th>1</th>\n",
       "      <th>2</th>\n",
       "    </tr>\n",
       "  </thead>\n",
       "  <tbody>\n",
       "    <tr>\n",
       "      <th>15~20</th>\n",
       "      <td>1479</td>\n",
       "      <td>2</td>\n",
       "      <td>0.001352</td>\n",
       "    </tr>\n",
       "    <tr>\n",
       "      <th>20~25</th>\n",
       "      <td>2910</td>\n",
       "      <td>52</td>\n",
       "      <td>0.017869</td>\n",
       "    </tr>\n",
       "    <tr>\n",
       "      <th>25~30</th>\n",
       "      <td>2874</td>\n",
       "      <td>323</td>\n",
       "      <td>0.112387</td>\n",
       "    </tr>\n",
       "    <tr>\n",
       "      <th>30~35</th>\n",
       "      <td>3192</td>\n",
       "      <td>717</td>\n",
       "      <td>0.224624</td>\n",
       "    </tr>\n",
       "    <tr>\n",
       "      <th>35~40</th>\n",
       "      <td>3042</td>\n",
       "      <td>1007</td>\n",
       "      <td>0.331032</td>\n",
       "    </tr>\n",
       "    <tr>\n",
       "      <th>40~45</th>\n",
       "      <td>2709</td>\n",
       "      <td>979</td>\n",
       "      <td>0.361388</td>\n",
       "    </tr>\n",
       "    <tr>\n",
       "      <th>45~50</th>\n",
       "      <td>2313</td>\n",
       "      <td>920</td>\n",
       "      <td>0.397752</td>\n",
       "    </tr>\n",
       "    <tr>\n",
       "      <th>50~55</th>\n",
       "      <td>1757</td>\n",
       "      <td>719</td>\n",
       "      <td>0.409220</td>\n",
       "    </tr>\n",
       "    <tr>\n",
       "      <th>55~60</th>\n",
       "      <td>1321</td>\n",
       "      <td>481</td>\n",
       "      <td>0.364118</td>\n",
       "    </tr>\n",
       "    <tr>\n",
       "      <th>60~65</th>\n",
       "      <td>912</td>\n",
       "      <td>262</td>\n",
       "      <td>0.287281</td>\n",
       "    </tr>\n",
       "    <tr>\n",
       "      <th>65~70</th>\n",
       "      <td>487</td>\n",
       "      <td>119</td>\n",
       "      <td>0.244353</td>\n",
       "    </tr>\n",
       "    <tr>\n",
       "      <th>70~75</th>\n",
       "      <td>268</td>\n",
       "      <td>52</td>\n",
       "      <td>0.194030</td>\n",
       "    </tr>\n",
       "    <tr>\n",
       "      <th>75~80</th>\n",
       "      <td>110</td>\n",
       "      <td>15</td>\n",
       "      <td>0.136364</td>\n",
       "    </tr>\n",
       "    <tr>\n",
       "      <th>80~85</th>\n",
       "      <td>41</td>\n",
       "      <td>6</td>\n",
       "      <td>0.146341</td>\n",
       "    </tr>\n",
       "    <tr>\n",
       "      <th>85~90</th>\n",
       "      <td>7</td>\n",
       "      <td>1</td>\n",
       "      <td>0.142857</td>\n",
       "    </tr>\n",
       "    <tr>\n",
       "      <th>90~95</th>\n",
       "      <td>0</td>\n",
       "      <td>0</td>\n",
       "      <td>NaN</td>\n",
       "    </tr>\n",
       "    <tr>\n",
       "      <th>95~100</th>\n",
       "      <td>0</td>\n",
       "      <td>0</td>\n",
       "      <td>NaN</td>\n",
       "    </tr>\n",
       "    <tr>\n",
       "      <th>100~105</th>\n",
       "      <td>0</td>\n",
       "      <td>0</td>\n",
       "      <td>NaN</td>\n",
       "    </tr>\n",
       "  </tbody>\n",
       "</table>\n",
       "</div>"
      ],
      "text/plain": [
       "            0     1         2\n",
       "15~20    1479     2  0.001352\n",
       "20~25    2910    52  0.017869\n",
       "25~30    2874   323  0.112387\n",
       "30~35    3192   717  0.224624\n",
       "35~40    3042  1007  0.331032\n",
       "40~45    2709   979  0.361388\n",
       "45~50    2313   920  0.397752\n",
       "50~55    1757   719  0.409220\n",
       "55~60    1321   481  0.364118\n",
       "60~65     912   262  0.287281\n",
       "65~70     487   119  0.244353\n",
       "70~75     268    52  0.194030\n",
       "75~80     110    15  0.136364\n",
       "80~85      41     6  0.146341\n",
       "85~90       7     1  0.142857\n",
       "90~95       0     0       NaN\n",
       "95~100      0     0       NaN\n",
       "100~105     0     0       NaN"
      ]
     },
     "execution_count": 142,
     "metadata": {},
     "output_type": "execute_result"
    }
   ],
   "source": [
    "data3[2]=data3[1]/data3[0]\n",
    "data3"
   ]
  }
 ],
 "metadata": {
  "kernelspec": {
   "display_name": "Python 3.9.12 ('base')",
   "language": "python",
   "name": "python3"
  },
  "language_info": {
   "codemirror_mode": {
    "name": "ipython",
    "version": 3
   },
   "file_extension": ".py",
   "mimetype": "text/x-python",
   "name": "python",
   "nbconvert_exporter": "python",
   "pygments_lexer": "ipython3",
   "version": "3.9.12"
  },
  "toc": {
   "base_numbering": 1,
   "nav_menu": {},
   "number_sections": true,
   "sideBar": true,
   "skip_h1_title": false,
   "title_cell": "Table of Contents",
   "title_sidebar": "Contents",
   "toc_cell": false,
   "toc_position": {},
   "toc_section_display": true,
   "toc_window_display": false
  },
  "vscode": {
   "interpreter": {
    "hash": "a9d8fbd2622250be90e11d7629650d111e02c5b989647467f2b91c323a6d7e8d"
   }
  }
 },
 "nbformat": 4,
 "nbformat_minor": 5
}

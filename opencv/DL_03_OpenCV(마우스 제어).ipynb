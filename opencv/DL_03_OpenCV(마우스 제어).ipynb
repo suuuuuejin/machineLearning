{
 "cells": [
  {
   "cell_type": "code",
   "execution_count": 1,
   "metadata": {},
   "outputs": [],
   "source": [
    "import numpy as np\n",
    "import cv2\n",
    "from random import shuffle"
   ]
  },
  {
   "cell_type": "markdown",
   "metadata": {},
   "source": [
    "![image (4)](https://user-images.githubusercontent.com/108103279/195757056-ff6810b0-bece-44cc-929d-53bdb4429395.png)\n"
   ]
  },
  {
   "cell_type": "code",
   "execution_count": 12,
   "metadata": {},
   "outputs": [],
   "source": [
    "def onMouse(event, x, y, flags, param):\n",
    "    if event == cv2.EVENT_MOUSEMOVE:\n",
    "        shuffle(b), shuffle(g), shuffle(r) # shuffle:순서 섞음\n",
    "\n",
    "        cv2.circle(param, (x,y), 30, (b[0], g[0], r[0]), -1) # -1: 원이 다 색칠됨\n",
    "\n",
    "b = [i for i in range(200,256)]\n",
    "g = [i for i in range(200,256)]\n",
    "r = [i for i in range(200,256)]\n",
    "\n",
    "img = np.zeros((512,512,3), np.uint8)\n",
    "\n",
    "cv2.namedWindow('figure') # 창 생성\n",
    "cv2.setMouseCallback('figure', onMouse, param = img)\n",
    "# 이벤트가 밸생할 때 매개변수에 전달된 함수를 호출\n",
    "\n",
    "while True:\n",
    "    cv2.imshow('figure', img)\n",
    "    k = cv2.waitKey(10)\n",
    "\n",
    "    if k ==49:\n",
    "        cv2.destroyAllWindows()\n",
    "        break"
   ]
  },
  {
   "cell_type": "code",
   "execution_count": 6,
   "metadata": {},
   "outputs": [
    {
     "data": {
      "text/plain": [
       "(512, 512, 3)"
      ]
     },
     "execution_count": 6,
     "metadata": {},
     "output_type": "execute_result"
    }
   ],
   "source": [
    "img.shape"
   ]
  },
  {
   "cell_type": "markdown",
   "metadata": {},
   "source": [
    "- event : 윈도우에서 발생하는 이벤트\n",
    "- x, y : 마우스 좌표\n",
    "- flags : 특수한 생태를 확인하는 용도\n",
    "- param : 마우스 콜백 설정 함수에서 함께 전달되는 데이터\n",
    "\n",
    "마우스 콜백 함수 : 마우스 이벤트가 발생 했을 때 전달할 함수"
   ]
  },
  {
   "cell_type": "markdown",
   "metadata": {},
   "source": [
    "### 1. 사각형 그리기"
   ]
  },
  {
   "cell_type": "code",
   "execution_count": 2,
   "metadata": {},
   "outputs": [],
   "source": [
    "import numpy as np\n",
    "import cv2\n",
    "from random import shuffle\n",
    "\n",
    "x1, y1 = -1,-1\n",
    "\n",
    "def rectangle(event,x,y,flags,param):\n",
    "    global x1,y1 # 위에 생성된 전역변수로 사용하겠다.\n",
    "\n",
    "    if event == cv2.EVENT_LBUTTONDOWN: # 마우스 좌클릭 누른상태\n",
    "        x1,y1 = x,y\n",
    "        print('사각형 좌상단 좌표', x1, y1)\n",
    "\n",
    "    elif event == cv2.EVENT_LBUTTONUP: # 마우스 좌클릭 땐상태\n",
    "        cv2.rectangle(param, (x1,y1), (x,y), (0,255,0),3)\n",
    "        print('사각형 우하단 좌표', x, y)\n",
    "\n",
    "img = np.zeros((512,512,3), np.uint8)\n",
    "\n",
    "cv2.namedWindow('figure') # 창 생성\n",
    "cv2.setMouseCallback('figure', rectangle, param = img)\n",
    "# 이벤트가 밸생할 때 매개변수에 전달된 함수를 호출\n",
    "\n",
    "while True:\n",
    "    cv2.imshow('figure', img)\n",
    "    k = cv2.waitKey(10)\n",
    "\n",
    "    if k ==49:\n",
    "        cv2.destroyAllWindows()\n",
    "        break\n"
   ]
  },
  {
   "cell_type": "code",
   "execution_count": 4,
   "metadata": {},
   "outputs": [],
   "source": [
    "size = 3\n",
    "\n",
    "def mouse_event(event, x, y, flags, param):\n",
    "    global size\n",
    "    if event ==cv2.EVENT_FLAG_LBUTTON: # 좌클릭\n",
    "        cv2.circle(param, (x,y), size, (255,0,0), 2)\n",
    "\n",
    "    elif event == cv2.EVENT_MOUSEWHEEL:\n",
    "        if flags > 0:\n",
    "            size += 1\n",
    "        elif size>=1:   # flags < 0\n",
    "            size -= 1\n",
    "\n",
    "img = np.zeros((512,512,3), np.uint8)\n",
    "\n",
    "cv2.namedWindow('figure') # 창 생성\n",
    "cv2.setMouseCallback('figure', mouse_event, param = img)\n",
    "# 이벤트가 밸생할 때 매개변수에 전달된 함수를 호출\n",
    "\n",
    "while True:\n",
    "    cv2.imshow('figure', img)\n",
    "    k = cv2.waitKey(10)\n",
    "\n",
    "    if k ==49:\n",
    "        cv2.destroyAllWindows()\n",
    "        break"
   ]
  },
  {
   "cell_type": "markdown",
   "metadata": {},
   "source": [
    "![image (5)](https://user-images.githubusercontent.com/108103279/195775892-76160e2a-e055-4bde-a0b8-0c48b8d22f68.png)"
   ]
  },
  {
   "cell_type": "code",
   "execution_count": 5,
   "metadata": {},
   "outputs": [
    {
     "name": "stdout",
     "output_type": "stream",
     "text": [
      "사각형 좌상단 좌표 150 126\n",
      "사각형 우하단 좌표 379 263\n",
      "사각형 좌상단 좌표 83 96\n",
      "사각형 우하단 좌표 537 306\n"
     ]
    }
   ],
   "source": [
    "from ctypes import FormatError\n",
    "import numpy as np\n",
    "import cv2\n",
    "\n",
    "x1,y1=-1,-1\n",
    "cnt = 0\n",
    "\n",
    "def rectangle(event,x,y,flags,param):\n",
    "    global x1,y1,cnt # 위에 생성된 전역변수로 사용하겠다.\n",
    "\n",
    "    if event == cv2.EVENT_LBUTTONDOWN: # 마우스 좌클릭 누른상태\n",
    "        x1,y1 = x,y\n",
    "        print('사각형 좌상단 좌표', x1, y1)\n",
    "\n",
    "    elif event == cv2.EVENT_LBUTTONUP: # 마우스 좌클릭 땐상태\n",
    "        cv2.rectangle(param, (x1,y1), (x,y), (0,255,0),3)\n",
    "        print('사각형 우하단 좌표', x, y)\n",
    "        cv2.imshow('figure',param)\n",
    "\n",
    "        f_param = param[y1+3:y-3,x1+3:x-3]\n",
    "\n",
    "        cv2.imwrite(f'./cap/{cnt}.png', f_param, params = [cv2.IMWRITE_PNG_COMPRESSION,0])\n",
    "        cnt+=1\n",
    "try:\n",
    "    cap = cv2.VideoCapture('./images/video.mp4')\n",
    "except:\n",
    "    print('카메라 구동 실패')\n",
    "\n",
    "cap.set(3,480)\n",
    "cap.set(4,320)\n",
    "\n",
    "while True:\n",
    "    ret, frame = cap.read()\n",
    "\n",
    "    cv2.imshow('figure', frame)\n",
    "    k = cv2.waitKey(30) #30프레임\n",
    "\n",
    "    if k ==50:\n",
    "        cv2.namedWindow('figure') # 창 생성\n",
    "        cv2.setMouseCallback('figure', rectangle, param = frame)\n",
    "        cv2.waitKey(0)\n",
    "\n",
    "    if k ==49:\n",
    "        cap.release()\n",
    "        cv2.destroyAllWindows()\n",
    "        break\n"
   ]
  },
  {
   "cell_type": "code",
   "execution_count": null,
   "metadata": {},
   "outputs": [],
   "source": []
  },
  {
   "cell_type": "code",
   "execution_count": null,
   "metadata": {},
   "outputs": [],
   "source": []
  },
  {
   "cell_type": "code",
   "execution_count": null,
   "metadata": {},
   "outputs": [],
   "source": []
  },
  {
   "cell_type": "code",
   "execution_count": null,
   "metadata": {},
   "outputs": [],
   "source": []
  },
  {
   "cell_type": "code",
   "execution_count": null,
   "metadata": {},
   "outputs": [],
   "source": []
  },
  {
   "cell_type": "code",
   "execution_count": null,
   "metadata": {},
   "outputs": [],
   "source": []
  },
  {
   "cell_type": "code",
   "execution_count": null,
   "metadata": {},
   "outputs": [],
   "source": []
  },
  {
   "cell_type": "code",
   "execution_count": null,
   "metadata": {},
   "outputs": [],
   "source": []
  },
  {
   "cell_type": "code",
   "execution_count": null,
   "metadata": {},
   "outputs": [],
   "source": []
  },
  {
   "cell_type": "code",
   "execution_count": null,
   "metadata": {},
   "outputs": [],
   "source": []
  },
  {
   "cell_type": "code",
   "execution_count": null,
   "metadata": {},
   "outputs": [],
   "source": []
  },
  {
   "cell_type": "code",
   "execution_count": null,
   "metadata": {},
   "outputs": [],
   "source": []
  },
  {
   "cell_type": "code",
   "execution_count": null,
   "metadata": {},
   "outputs": [],
   "source": []
  },
  {
   "cell_type": "code",
   "execution_count": null,
   "metadata": {},
   "outputs": [],
   "source": []
  }
 ],
 "metadata": {
  "kernelspec": {
   "display_name": "Python 3.9.12 ('base')",
   "language": "python",
   "name": "python3"
  },
  "language_info": {
   "codemirror_mode": {
    "name": "ipython",
    "version": 3
   },
   "file_extension": ".py",
   "mimetype": "text/x-python",
   "name": "python",
   "nbconvert_exporter": "python",
   "pygments_lexer": "ipython3",
   "version": "3.9.12"
  },
  "orig_nbformat": 4,
  "vscode": {
   "interpreter": {
    "hash": "a9d8fbd2622250be90e11d7629650d111e02c5b989647467f2b91c323a6d7e8d"
   }
  }
 },
 "nbformat": 4,
 "nbformat_minor": 2
}

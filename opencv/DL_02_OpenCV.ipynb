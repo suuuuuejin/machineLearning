{
 "cells": [
  {
   "cell_type": "markdown",
   "metadata": {},
   "source": [
    "### 1. 영상 출력하기 "
   ]
  },
  {
   "cell_type": "code",
   "execution_count": 1,
   "metadata": {},
   "outputs": [
    {
     "name": "stdout",
     "output_type": "stream",
     "text": [
      "카메라 구동 성공\n"
     ]
    }
   ],
   "source": [
    "import cv2\n",
    "\n",
    "try:\n",
    "    print('카메라 구동 성공')\n",
    "    cap = cv2.VideoCapture('./images/video.mp4') # 0 : 0번 카메라로부터 비디오 캡쳐\n",
    "except:\n",
    "    print('카메라 구동 실패')\n",
    "\n",
    "cap.set(3,480) #3 : 가로길이\n",
    "cap.set(4,480) #4 : 세로길이\n",
    "\n",
    "while True:\n",
    "    ret, frame = cap.read() # 이미지(frame), 읽기여부(ref)반환\n",
    "    \n",
    "    cv2.imshow('video', frame)\n",
    "    k = cv2.waitKey(30) # 1000=1초 30=0.03초 -> 30프레임\n",
    "\n",
    "    if k == 49:   #1(아스키코드)을 눌렀을때\n",
    "        cap.release() # 비디오종료\n",
    "        cv2.destroyAllWindows() # 모든창 종료\n",
    "        break"
   ]
  },
  {
   "cell_type": "markdown",
   "metadata": {},
   "source": [
    "### 2. 녹화하기"
   ]
  },
  {
   "cell_type": "code",
   "execution_count": 3,
   "metadata": {},
   "outputs": [
    {
     "name": "stdout",
     "output_type": "stream",
     "text": [
      "카메라 구동 성공\n"
     ]
    }
   ],
   "source": [
    "import cv2\n",
    "\n",
    "try:\n",
    "    print('카메라 구동 성공')\n",
    "    cap = cv2.VideoCapture('./images/video.mp4') # 0 : 0번 카메라로부터 비디오 캡쳐\n",
    "except:\n",
    "    print('카메라 구동 실패')\n",
    "\n",
    "cap.set(3,480) #3 : 가로길이\n",
    "cap.set(4,480) #4 : 세로길이\n",
    "\n",
    "fps = 30.0 # 프레임\n",
    "width = int(cap.get(3))\n",
    "height = int(cap.get(4))\n",
    "fcc = cv2.VideoWriter_fourcc(*'MPEG') # 코덱\n",
    "record = False\n",
    "\n",
    "# 녹화장비\n",
    "out = cv2.VideoWriter('video01.mp4', fcc, fps, (width, height))\n",
    "\n",
    "while True:\n",
    "    ret, frame = cap.read() # 이미지(frame), 읽기여부(ref)반환\n",
    "    \n",
    "    cv2.imshow('video', frame)\n",
    "    k = cv2.waitKey(30) # 1000=1초 30=0.03초 -> 30프레임\n",
    "\n",
    "    if record:\n",
    "        out.write(frame) # 녹화\n",
    "\n",
    "    if k ==50:    # 숫자2\n",
    "        record = True\n",
    "\n",
    "    if k == 49:   #1(아스키코드)을 눌렀을때\n",
    "        cap.release() # 비디오종료\n",
    "        out.release() # 녹화 종료\n",
    "        cv2.destroyAllWindows() # 모든창 종료\n",
    "        break"
   ]
  },
  {
   "cell_type": "markdown",
   "metadata": {},
   "source": [
    "### 3. 이미지 캡쳐하기"
   ]
  },
  {
   "cell_type": "code",
   "execution_count": 1,
   "metadata": {},
   "outputs": [
    {
     "name": "stdout",
     "output_type": "stream",
     "text": [
      "카메라 구동 성공\n"
     ]
    }
   ],
   "source": [
    "import cv2\n",
    "\n",
    "try:\n",
    "    print('카메라 구동 성공')\n",
    "    cap = cv2.VideoCapture('./images/video.mp4') # 0 : 0번 카메라로부터 비디오 캡쳐\n",
    "except:\n",
    "    print('카메라 구동 실패')\n",
    "\n",
    "cap.set(3,480) #3 : 가로길이\n",
    "cap.set(4,480) #4 : 세로길이\n",
    "\n",
    "cnt = 0\n",
    "\n",
    "fps = 30.0 # 프레임\n",
    "width = int(cap.get(3))\n",
    "height = int(cap.get(4))\n",
    "fcc = cv2.VideoWriter_fourcc(*'MPEG') # 코덱\n",
    "record = False\n",
    "\n",
    "# 녹화장비\n",
    "out = cv2.VideoWriter('video01.mp4', fcc, fps, (width, height))\n",
    "\n",
    "while True:\n",
    "    ret, frame = cap.read() # 이미지(frame), 읽기여부(ref)반환\n",
    "    \n",
    "    cv2.imshow('video', frame)\n",
    "    k = cv2.waitKey(30) # 1000=1초 30=0.03초 -> 30프레임\n",
    "\n",
    "    if record:\n",
    "        out.write(frame) # 녹화\n",
    "\n",
    "    if k ==50:    # 숫자2\n",
    "        cv2.imwrite(f'img{cnt}.png', frame, params = [cv2.IMWRITE_PNG_COMPRESSION, 0]) # 0은 압축x\n",
    "        cnt +=1\n",
    "\n",
    "    if k == 49:   #1(아스키코드)을 눌렀을때\n",
    "        cap.release() # 비디오종료\n",
    "        out.release() # 녹화 종료\n",
    "        cv2.destroyAllWindows() # 모든창 종료\n",
    "        break"
   ]
  },
  {
   "cell_type": "markdown",
   "metadata": {},
   "source": [
    "- png 확장자로 저장\n",
    "    - cv2.IMWRITE_RNG_COMPRESSION\n",
    "    - 압축률 0~9까지 설정 가능 (0은 압축x)\n",
    "- jpg 확장자로 저장\n",
    "    - cv2.IMWRITE_JPEG_QUALITY\n",
    "    - 이미지 품질 설정 0~100까지 설정 가능"
   ]
  },
  {
   "cell_type": "code",
   "execution_count": null,
   "metadata": {},
   "outputs": [],
   "source": []
  },
  {
   "cell_type": "code",
   "execution_count": null,
   "metadata": {},
   "outputs": [],
   "source": []
  },
  {
   "cell_type": "code",
   "execution_count": null,
   "metadata": {},
   "outputs": [],
   "source": []
  },
  {
   "cell_type": "code",
   "execution_count": null,
   "metadata": {},
   "outputs": [],
   "source": []
  },
  {
   "cell_type": "code",
   "execution_count": null,
   "metadata": {},
   "outputs": [],
   "source": []
  },
  {
   "cell_type": "code",
   "execution_count": null,
   "metadata": {},
   "outputs": [],
   "source": []
  },
  {
   "cell_type": "code",
   "execution_count": null,
   "metadata": {},
   "outputs": [],
   "source": []
  },
  {
   "cell_type": "code",
   "execution_count": null,
   "metadata": {},
   "outputs": [],
   "source": []
  },
  {
   "cell_type": "code",
   "execution_count": null,
   "metadata": {},
   "outputs": [],
   "source": []
  },
  {
   "cell_type": "code",
   "execution_count": null,
   "metadata": {},
   "outputs": [],
   "source": []
  },
  {
   "cell_type": "code",
   "execution_count": null,
   "metadata": {},
   "outputs": [],
   "source": []
  },
  {
   "cell_type": "code",
   "execution_count": null,
   "metadata": {},
   "outputs": [],
   "source": []
  },
  {
   "cell_type": "code",
   "execution_count": null,
   "metadata": {},
   "outputs": [],
   "source": []
  },
  {
   "cell_type": "code",
   "execution_count": null,
   "metadata": {},
   "outputs": [],
   "source": []
  },
  {
   "cell_type": "code",
   "execution_count": null,
   "metadata": {},
   "outputs": [],
   "source": []
  },
  {
   "cell_type": "code",
   "execution_count": null,
   "metadata": {},
   "outputs": [],
   "source": []
  },
  {
   "cell_type": "code",
   "execution_count": null,
   "metadata": {},
   "outputs": [],
   "source": []
  },
  {
   "cell_type": "code",
   "execution_count": null,
   "metadata": {},
   "outputs": [],
   "source": []
  },
  {
   "cell_type": "code",
   "execution_count": null,
   "metadata": {},
   "outputs": [],
   "source": []
  },
  {
   "cell_type": "code",
   "execution_count": null,
   "metadata": {},
   "outputs": [],
   "source": []
  },
  {
   "cell_type": "code",
   "execution_count": null,
   "metadata": {},
   "outputs": [],
   "source": []
  },
  {
   "cell_type": "code",
   "execution_count": null,
   "metadata": {},
   "outputs": [],
   "source": []
  },
  {
   "cell_type": "code",
   "execution_count": null,
   "metadata": {},
   "outputs": [],
   "source": []
  },
  {
   "cell_type": "code",
   "execution_count": null,
   "metadata": {},
   "outputs": [],
   "source": []
  },
  {
   "cell_type": "code",
   "execution_count": null,
   "metadata": {},
   "outputs": [],
   "source": []
  },
  {
   "cell_type": "code",
   "execution_count": null,
   "metadata": {},
   "outputs": [],
   "source": []
  },
  {
   "cell_type": "code",
   "execution_count": null,
   "metadata": {},
   "outputs": [],
   "source": []
  },
  {
   "cell_type": "code",
   "execution_count": null,
   "metadata": {},
   "outputs": [],
   "source": []
  },
  {
   "cell_type": "code",
   "execution_count": null,
   "metadata": {},
   "outputs": [],
   "source": []
  },
  {
   "cell_type": "code",
   "execution_count": null,
   "metadata": {},
   "outputs": [],
   "source": []
  },
  {
   "cell_type": "code",
   "execution_count": null,
   "metadata": {},
   "outputs": [],
   "source": []
  },
  {
   "cell_type": "code",
   "execution_count": null,
   "metadata": {},
   "outputs": [],
   "source": []
  },
  {
   "cell_type": "code",
   "execution_count": null,
   "metadata": {},
   "outputs": [],
   "source": []
  }
 ],
 "metadata": {
  "kernelspec": {
   "display_name": "Python 3.9.12 ('base')",
   "language": "python",
   "name": "python3"
  },
  "language_info": {
   "codemirror_mode": {
    "name": "ipython",
    "version": 3
   },
   "file_extension": ".py",
   "mimetype": "text/x-python",
   "name": "python",
   "nbconvert_exporter": "python",
   "pygments_lexer": "ipython3",
   "version": "3.9.12"
  },
  "orig_nbformat": 4,
  "vscode": {
   "interpreter": {
    "hash": "a9d8fbd2622250be90e11d7629650d111e02c5b989647467f2b91c323a6d7e8d"
   }
  }
 },
 "nbformat": 4,
 "nbformat_minor": 2
}

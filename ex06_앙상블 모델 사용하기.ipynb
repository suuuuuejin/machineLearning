{
 "cells": [
  {
   "cell_type": "markdown",
   "id": "63315ecb",
   "metadata": {},
   "source": [
    "#### 전처리된 데이터 파일 로딩"
   ]
  },
  {
   "cell_type": "code",
   "execution_count": 6,
   "id": "9864cda4",
   "metadata": {},
   "outputs": [],
   "source": [
    "import numpy as np\n",
    "import pandas as pd\n",
    "import matplotlib.pyplot as plt"
   ]
  },
  {
   "cell_type": "code",
   "execution_count": 7,
   "id": "83e54a33",
   "metadata": {},
   "outputs": [
    {
     "data": {
      "text/html": [
       "<div>\n",
       "<style scoped>\n",
       "    .dataframe tbody tr th:only-of-type {\n",
       "        vertical-align: middle;\n",
       "    }\n",
       "\n",
       "    .dataframe tbody tr th {\n",
       "        vertical-align: top;\n",
       "    }\n",
       "\n",
       "    .dataframe thead th {\n",
       "        text-align: right;\n",
       "    }\n",
       "</style>\n",
       "<table border=\"1\" class=\"dataframe\">\n",
       "  <thead>\n",
       "    <tr style=\"text-align: right;\">\n",
       "      <th></th>\n",
       "      <th>Age</th>\n",
       "      <th>Cabin_A</th>\n",
       "      <th>Cabin_B</th>\n",
       "      <th>Cabin_C</th>\n",
       "      <th>Cabin_D</th>\n",
       "      <th>Cabin_E</th>\n",
       "      <th>Cabin_F</th>\n",
       "      <th>Cabin_G</th>\n",
       "      <th>Cabin_M</th>\n",
       "      <th>Cabin_T</th>\n",
       "      <th>...</th>\n",
       "      <th>Parch</th>\n",
       "      <th>Pclass</th>\n",
       "      <th>Sex_female</th>\n",
       "      <th>Sex_male</th>\n",
       "      <th>SibSp</th>\n",
       "      <th>Title_Master</th>\n",
       "      <th>Title_Miss</th>\n",
       "      <th>Title_Mr</th>\n",
       "      <th>Title_Mrs</th>\n",
       "      <th>Title_Other</th>\n",
       "    </tr>\n",
       "    <tr>\n",
       "      <th>PassengerId</th>\n",
       "      <th></th>\n",
       "      <th></th>\n",
       "      <th></th>\n",
       "      <th></th>\n",
       "      <th></th>\n",
       "      <th></th>\n",
       "      <th></th>\n",
       "      <th></th>\n",
       "      <th></th>\n",
       "      <th></th>\n",
       "      <th></th>\n",
       "      <th></th>\n",
       "      <th></th>\n",
       "      <th></th>\n",
       "      <th></th>\n",
       "      <th></th>\n",
       "      <th></th>\n",
       "      <th></th>\n",
       "      <th></th>\n",
       "      <th></th>\n",
       "      <th></th>\n",
       "    </tr>\n",
       "  </thead>\n",
       "  <tbody>\n",
       "    <tr>\n",
       "      <th>1</th>\n",
       "      <td>22.0</td>\n",
       "      <td>0</td>\n",
       "      <td>0</td>\n",
       "      <td>0</td>\n",
       "      <td>0</td>\n",
       "      <td>0</td>\n",
       "      <td>0</td>\n",
       "      <td>0</td>\n",
       "      <td>1</td>\n",
       "      <td>0</td>\n",
       "      <td>...</td>\n",
       "      <td>0</td>\n",
       "      <td>3</td>\n",
       "      <td>0</td>\n",
       "      <td>1</td>\n",
       "      <td>1</td>\n",
       "      <td>0</td>\n",
       "      <td>0</td>\n",
       "      <td>1</td>\n",
       "      <td>0</td>\n",
       "      <td>0</td>\n",
       "    </tr>\n",
       "    <tr>\n",
       "      <th>2</th>\n",
       "      <td>38.0</td>\n",
       "      <td>0</td>\n",
       "      <td>0</td>\n",
       "      <td>1</td>\n",
       "      <td>0</td>\n",
       "      <td>0</td>\n",
       "      <td>0</td>\n",
       "      <td>0</td>\n",
       "      <td>0</td>\n",
       "      <td>0</td>\n",
       "      <td>...</td>\n",
       "      <td>0</td>\n",
       "      <td>1</td>\n",
       "      <td>1</td>\n",
       "      <td>0</td>\n",
       "      <td>1</td>\n",
       "      <td>0</td>\n",
       "      <td>0</td>\n",
       "      <td>0</td>\n",
       "      <td>1</td>\n",
       "      <td>0</td>\n",
       "    </tr>\n",
       "    <tr>\n",
       "      <th>3</th>\n",
       "      <td>26.0</td>\n",
       "      <td>0</td>\n",
       "      <td>0</td>\n",
       "      <td>0</td>\n",
       "      <td>0</td>\n",
       "      <td>0</td>\n",
       "      <td>0</td>\n",
       "      <td>0</td>\n",
       "      <td>1</td>\n",
       "      <td>0</td>\n",
       "      <td>...</td>\n",
       "      <td>0</td>\n",
       "      <td>3</td>\n",
       "      <td>1</td>\n",
       "      <td>0</td>\n",
       "      <td>0</td>\n",
       "      <td>0</td>\n",
       "      <td>1</td>\n",
       "      <td>0</td>\n",
       "      <td>0</td>\n",
       "      <td>0</td>\n",
       "    </tr>\n",
       "    <tr>\n",
       "      <th>4</th>\n",
       "      <td>35.0</td>\n",
       "      <td>0</td>\n",
       "      <td>0</td>\n",
       "      <td>1</td>\n",
       "      <td>0</td>\n",
       "      <td>0</td>\n",
       "      <td>0</td>\n",
       "      <td>0</td>\n",
       "      <td>0</td>\n",
       "      <td>0</td>\n",
       "      <td>...</td>\n",
       "      <td>0</td>\n",
       "      <td>1</td>\n",
       "      <td>1</td>\n",
       "      <td>0</td>\n",
       "      <td>1</td>\n",
       "      <td>0</td>\n",
       "      <td>0</td>\n",
       "      <td>0</td>\n",
       "      <td>1</td>\n",
       "      <td>0</td>\n",
       "    </tr>\n",
       "    <tr>\n",
       "      <th>5</th>\n",
       "      <td>35.0</td>\n",
       "      <td>0</td>\n",
       "      <td>0</td>\n",
       "      <td>0</td>\n",
       "      <td>0</td>\n",
       "      <td>0</td>\n",
       "      <td>0</td>\n",
       "      <td>0</td>\n",
       "      <td>1</td>\n",
       "      <td>0</td>\n",
       "      <td>...</td>\n",
       "      <td>0</td>\n",
       "      <td>3</td>\n",
       "      <td>0</td>\n",
       "      <td>1</td>\n",
       "      <td>0</td>\n",
       "      <td>0</td>\n",
       "      <td>0</td>\n",
       "      <td>1</td>\n",
       "      <td>0</td>\n",
       "      <td>0</td>\n",
       "    </tr>\n",
       "  </tbody>\n",
       "</table>\n",
       "<p>5 rows × 28 columns</p>\n",
       "</div>"
      ],
      "text/plain": [
       "              Age  Cabin_A  Cabin_B  Cabin_C  Cabin_D  Cabin_E  Cabin_F  \\\n",
       "PassengerId                                                               \n",
       "1            22.0        0        0        0        0        0        0   \n",
       "2            38.0        0        0        1        0        0        0   \n",
       "3            26.0        0        0        0        0        0        0   \n",
       "4            35.0        0        0        1        0        0        0   \n",
       "5            35.0        0        0        0        0        0        0   \n",
       "\n",
       "             Cabin_G  Cabin_M  Cabin_T  ...  Parch  Pclass  Sex_female  \\\n",
       "PassengerId                             ...                              \n",
       "1                  0        1        0  ...      0       3           0   \n",
       "2                  0        0        0  ...      0       1           1   \n",
       "3                  0        1        0  ...      0       3           1   \n",
       "4                  0        0        0  ...      0       1           1   \n",
       "5                  0        1        0  ...      0       3           0   \n",
       "\n",
       "             Sex_male  SibSp  Title_Master  Title_Miss  Title_Mr  Title_Mrs  \\\n",
       "PassengerId                                                                   \n",
       "1                   1      1             0           0         1          0   \n",
       "2                   0      1             0           0         0          1   \n",
       "3                   0      0             0           1         0          0   \n",
       "4                   0      1             0           0         0          1   \n",
       "5                   1      0             0           0         1          0   \n",
       "\n",
       "             Title_Other  \n",
       "PassengerId               \n",
       "1                      0  \n",
       "2                      0  \n",
       "3                      0  \n",
       "4                      0  \n",
       "5                      0  \n",
       "\n",
       "[5 rows x 28 columns]"
      ]
     },
     "execution_count": 7,
     "metadata": {},
     "output_type": "execute_result"
    }
   ],
   "source": [
    "X_train = pd.read_csv(\"./data/titanic/preprocessing_X_train.csv\",\n",
    "                     index_col='PassengerId')\n",
    "X_train.head()"
   ]
  },
  {
   "cell_type": "code",
   "execution_count": 8,
   "id": "a3487887",
   "metadata": {},
   "outputs": [
    {
     "data": {
      "text/html": [
       "<div>\n",
       "<style scoped>\n",
       "    .dataframe tbody tr th:only-of-type {\n",
       "        vertical-align: middle;\n",
       "    }\n",
       "\n",
       "    .dataframe tbody tr th {\n",
       "        vertical-align: top;\n",
       "    }\n",
       "\n",
       "    .dataframe thead th {\n",
       "        text-align: right;\n",
       "    }\n",
       "</style>\n",
       "<table border=\"1\" class=\"dataframe\">\n",
       "  <thead>\n",
       "    <tr style=\"text-align: right;\">\n",
       "      <th></th>\n",
       "      <th>Age</th>\n",
       "      <th>Cabin_A</th>\n",
       "      <th>Cabin_B</th>\n",
       "      <th>Cabin_C</th>\n",
       "      <th>Cabin_D</th>\n",
       "      <th>Cabin_E</th>\n",
       "      <th>Cabin_F</th>\n",
       "      <th>Cabin_G</th>\n",
       "      <th>Cabin_M</th>\n",
       "      <th>Cabin_T</th>\n",
       "      <th>...</th>\n",
       "      <th>Parch</th>\n",
       "      <th>Pclass</th>\n",
       "      <th>Sex_female</th>\n",
       "      <th>Sex_male</th>\n",
       "      <th>SibSp</th>\n",
       "      <th>Title_Master</th>\n",
       "      <th>Title_Miss</th>\n",
       "      <th>Title_Mr</th>\n",
       "      <th>Title_Mrs</th>\n",
       "      <th>Title_Other</th>\n",
       "    </tr>\n",
       "    <tr>\n",
       "      <th>PassengerId</th>\n",
       "      <th></th>\n",
       "      <th></th>\n",
       "      <th></th>\n",
       "      <th></th>\n",
       "      <th></th>\n",
       "      <th></th>\n",
       "      <th></th>\n",
       "      <th></th>\n",
       "      <th></th>\n",
       "      <th></th>\n",
       "      <th></th>\n",
       "      <th></th>\n",
       "      <th></th>\n",
       "      <th></th>\n",
       "      <th></th>\n",
       "      <th></th>\n",
       "      <th></th>\n",
       "      <th></th>\n",
       "      <th></th>\n",
       "      <th></th>\n",
       "      <th></th>\n",
       "    </tr>\n",
       "  </thead>\n",
       "  <tbody>\n",
       "    <tr>\n",
       "      <th>892</th>\n",
       "      <td>34.5</td>\n",
       "      <td>0</td>\n",
       "      <td>0</td>\n",
       "      <td>0</td>\n",
       "      <td>0</td>\n",
       "      <td>0</td>\n",
       "      <td>0</td>\n",
       "      <td>0</td>\n",
       "      <td>1</td>\n",
       "      <td>0</td>\n",
       "      <td>...</td>\n",
       "      <td>0</td>\n",
       "      <td>3</td>\n",
       "      <td>0</td>\n",
       "      <td>1</td>\n",
       "      <td>0</td>\n",
       "      <td>0</td>\n",
       "      <td>0</td>\n",
       "      <td>1</td>\n",
       "      <td>0</td>\n",
       "      <td>0</td>\n",
       "    </tr>\n",
       "    <tr>\n",
       "      <th>893</th>\n",
       "      <td>47.0</td>\n",
       "      <td>0</td>\n",
       "      <td>0</td>\n",
       "      <td>0</td>\n",
       "      <td>0</td>\n",
       "      <td>0</td>\n",
       "      <td>0</td>\n",
       "      <td>0</td>\n",
       "      <td>1</td>\n",
       "      <td>0</td>\n",
       "      <td>...</td>\n",
       "      <td>0</td>\n",
       "      <td>3</td>\n",
       "      <td>1</td>\n",
       "      <td>0</td>\n",
       "      <td>1</td>\n",
       "      <td>0</td>\n",
       "      <td>0</td>\n",
       "      <td>0</td>\n",
       "      <td>1</td>\n",
       "      <td>0</td>\n",
       "    </tr>\n",
       "    <tr>\n",
       "      <th>894</th>\n",
       "      <td>62.0</td>\n",
       "      <td>0</td>\n",
       "      <td>0</td>\n",
       "      <td>0</td>\n",
       "      <td>0</td>\n",
       "      <td>0</td>\n",
       "      <td>0</td>\n",
       "      <td>0</td>\n",
       "      <td>1</td>\n",
       "      <td>0</td>\n",
       "      <td>...</td>\n",
       "      <td>0</td>\n",
       "      <td>2</td>\n",
       "      <td>0</td>\n",
       "      <td>1</td>\n",
       "      <td>0</td>\n",
       "      <td>0</td>\n",
       "      <td>0</td>\n",
       "      <td>1</td>\n",
       "      <td>0</td>\n",
       "      <td>0</td>\n",
       "    </tr>\n",
       "    <tr>\n",
       "      <th>895</th>\n",
       "      <td>27.0</td>\n",
       "      <td>0</td>\n",
       "      <td>0</td>\n",
       "      <td>0</td>\n",
       "      <td>0</td>\n",
       "      <td>0</td>\n",
       "      <td>0</td>\n",
       "      <td>0</td>\n",
       "      <td>1</td>\n",
       "      <td>0</td>\n",
       "      <td>...</td>\n",
       "      <td>0</td>\n",
       "      <td>3</td>\n",
       "      <td>0</td>\n",
       "      <td>1</td>\n",
       "      <td>0</td>\n",
       "      <td>0</td>\n",
       "      <td>0</td>\n",
       "      <td>1</td>\n",
       "      <td>0</td>\n",
       "      <td>0</td>\n",
       "    </tr>\n",
       "    <tr>\n",
       "      <th>896</th>\n",
       "      <td>22.0</td>\n",
       "      <td>0</td>\n",
       "      <td>0</td>\n",
       "      <td>0</td>\n",
       "      <td>0</td>\n",
       "      <td>0</td>\n",
       "      <td>0</td>\n",
       "      <td>0</td>\n",
       "      <td>1</td>\n",
       "      <td>0</td>\n",
       "      <td>...</td>\n",
       "      <td>1</td>\n",
       "      <td>3</td>\n",
       "      <td>1</td>\n",
       "      <td>0</td>\n",
       "      <td>1</td>\n",
       "      <td>0</td>\n",
       "      <td>0</td>\n",
       "      <td>0</td>\n",
       "      <td>1</td>\n",
       "      <td>0</td>\n",
       "    </tr>\n",
       "  </tbody>\n",
       "</table>\n",
       "<p>5 rows × 28 columns</p>\n",
       "</div>"
      ],
      "text/plain": [
       "              Age  Cabin_A  Cabin_B  Cabin_C  Cabin_D  Cabin_E  Cabin_F  \\\n",
       "PassengerId                                                               \n",
       "892          34.5        0        0        0        0        0        0   \n",
       "893          47.0        0        0        0        0        0        0   \n",
       "894          62.0        0        0        0        0        0        0   \n",
       "895          27.0        0        0        0        0        0        0   \n",
       "896          22.0        0        0        0        0        0        0   \n",
       "\n",
       "             Cabin_G  Cabin_M  Cabin_T  ...  Parch  Pclass  Sex_female  \\\n",
       "PassengerId                             ...                              \n",
       "892                0        1        0  ...      0       3           0   \n",
       "893                0        1        0  ...      0       3           1   \n",
       "894                0        1        0  ...      0       2           0   \n",
       "895                0        1        0  ...      0       3           0   \n",
       "896                0        1        0  ...      1       3           1   \n",
       "\n",
       "             Sex_male  SibSp  Title_Master  Title_Miss  Title_Mr  Title_Mrs  \\\n",
       "PassengerId                                                                   \n",
       "892                 1      0             0           0         1          0   \n",
       "893                 0      1             0           0         0          1   \n",
       "894                 1      0             0           0         1          0   \n",
       "895                 1      0             0           0         1          0   \n",
       "896                 0      1             0           0         0          1   \n",
       "\n",
       "             Title_Other  \n",
       "PassengerId               \n",
       "892                    0  \n",
       "893                    0  \n",
       "894                    0  \n",
       "895                    0  \n",
       "896                    0  \n",
       "\n",
       "[5 rows x 28 columns]"
      ]
     },
     "execution_count": 8,
     "metadata": {},
     "output_type": "execute_result"
    }
   ],
   "source": [
    "X_test = pd.read_csv(\"./data/titanic/preprocessing_X_test.csv\",\n",
    "                     index_col='PassengerId')\n",
    "X_test.head()"
   ]
  },
  {
   "cell_type": "code",
   "execution_count": 9,
   "id": "d763dddd",
   "metadata": {},
   "outputs": [
    {
     "data": {
      "text/html": [
       "<div>\n",
       "<style scoped>\n",
       "    .dataframe tbody tr th:only-of-type {\n",
       "        vertical-align: middle;\n",
       "    }\n",
       "\n",
       "    .dataframe tbody tr th {\n",
       "        vertical-align: top;\n",
       "    }\n",
       "\n",
       "    .dataframe thead th {\n",
       "        text-align: right;\n",
       "    }\n",
       "</style>\n",
       "<table border=\"1\" class=\"dataframe\">\n",
       "  <thead>\n",
       "    <tr style=\"text-align: right;\">\n",
       "      <th></th>\n",
       "      <th>Survived</th>\n",
       "    </tr>\n",
       "    <tr>\n",
       "      <th>PassengerId</th>\n",
       "      <th></th>\n",
       "    </tr>\n",
       "  </thead>\n",
       "  <tbody>\n",
       "    <tr>\n",
       "      <th>1</th>\n",
       "      <td>0</td>\n",
       "    </tr>\n",
       "    <tr>\n",
       "      <th>2</th>\n",
       "      <td>1</td>\n",
       "    </tr>\n",
       "    <tr>\n",
       "      <th>3</th>\n",
       "      <td>1</td>\n",
       "    </tr>\n",
       "    <tr>\n",
       "      <th>4</th>\n",
       "      <td>1</td>\n",
       "    </tr>\n",
       "    <tr>\n",
       "      <th>5</th>\n",
       "      <td>0</td>\n",
       "    </tr>\n",
       "  </tbody>\n",
       "</table>\n",
       "</div>"
      ],
      "text/plain": [
       "             Survived\n",
       "PassengerId          \n",
       "1                   0\n",
       "2                   1\n",
       "3                   1\n",
       "4                   1\n",
       "5                   0"
      ]
     },
     "execution_count": 9,
     "metadata": {},
     "output_type": "execute_result"
    }
   ],
   "source": [
    "y_train = pd.read_csv(\"./data/titanic/y_train.csv\",\n",
    "                     index_col='PassengerId')\n",
    "y_train.head()"
   ]
  },
  {
   "cell_type": "markdown",
   "id": "c1bb752f",
   "metadata": {},
   "source": [
    "### 목표\n",
    "- 앙상블 모델의 개념을 이해\n",
    "- 교차검증에 대한 이해\n",
    "- GridSearch(최적화를 도와줌)를 이용한 하이퍼파라미터 튜닝 실습"
   ]
  },
  {
   "cell_type": "markdown",
   "id": "037ee1dc",
   "metadata": {},
   "source": [
    "#### 앙상블\n",
    "- 단일 모델로 예측한 결과보다 더 좋은 성능을 내기위해 여러 모델을 묶어서 예측해보는 기법\n",
    "- 앙상블 기법\n",
    "    1. 보팅(Voting)\n",
    "        - 서로다른 알고리즘의 모델을 학습시켜 예측결과를 투표하는 방법\n",
    "        - 앙상블의 가장 기본 원리\n",
    "        - 하드보팅(결과로 투포)과 소프트보팅(평균으로 결정)으로 나뉜다.\n",
    "    2. 배깅(Bagging)\n",
    "        - 같은 알고리즘을 가진 모델을 학습시켜 예측결과를 투표하는 방법\n",
    "        - 학습데이터를 모델마다 다르게 준비(부트스트래핑)\n",
    "        - 학습에 사용되는 컬럼을 다르게 랜덤선택\n",
    "        - tree기반의 배깅모델 -> 랜덤포레스트\n",
    "        - 병렬학습을 해서 상대적으로 속도가 빠르다.\n",
    "    3. 부스팅(Boosting)\n",
    "        - 같은 알고리즘을 가진 모델을 학습시켜 예측결과를 투표하는 방법\n",
    "        - 이전 모델이 잘못 예측한 부분을 다음 모델이 강조해서 학습하는 방법사용\n",
    "        - 순차적인 학습을 하기때문에 속도가 느리다."
   ]
  },
  {
   "cell_type": "markdown",
   "id": "140f4279",
   "metadata": {},
   "source": [
    "#### 배깅모델"
   ]
  },
  {
   "cell_type": "code",
   "execution_count": 10,
   "id": "288d2621",
   "metadata": {},
   "outputs": [],
   "source": [
    "from sklearn.ensemble import RandomForestClassifier"
   ]
  },
  {
   "cell_type": "code",
   "execution_count": 11,
   "id": "409eaf68",
   "metadata": {},
   "outputs": [],
   "source": [
    "rf_model = RandomForestClassifier(random_state=923, # 랜덤 수 고정\n",
    "                                 n_estimators=1000, # 앙상블할 모델의 갯수 \n",
    "                                 max_features=0.6, # 학습에 사용할 특성 수\n",
    "                                 max_depth=15) # 트리의 깊이 설정 "
   ]
  },
  {
   "cell_type": "code",
   "execution_count": 12,
   "id": "23919d2d",
   "metadata": {},
   "outputs": [
    {
     "name": "stderr",
     "output_type": "stream",
     "text": [
      "C:\\Users\\pipi1\\AppData\\Local\\Temp\\ipykernel_17148\\764246711.py:1: DataConversionWarning: A column-vector y was passed when a 1d array was expected. Please change the shape of y to (n_samples,), for example using ravel().\n",
      "  rf_model.fit(X_train,y_train)\n"
     ]
    },
    {
     "data": {
      "text/plain": [
       "RandomForestClassifier(max_depth=15, max_features=0.6, n_estimators=1000,\n",
       "                       random_state=923)"
      ]
     },
     "execution_count": 12,
     "metadata": {},
     "output_type": "execute_result"
    }
   ],
   "source": [
    "rf_model.fit(X_train,y_train)"
   ]
  },
  {
   "cell_type": "code",
   "execution_count": 13,
   "id": "944e6fe0",
   "metadata": {},
   "outputs": [],
   "source": [
    "rf_pre = rf_model.predict(X_test)"
   ]
  },
  {
   "cell_type": "code",
   "execution_count": 14,
   "id": "e34099a2",
   "metadata": {},
   "outputs": [],
   "source": [
    "# 결과 업로드\n",
    "submission = pd.read_csv(\"./data/titanic/gender_submission.csv\")\n",
    "submission[\"Survived\"] = rf_pre\n",
    "submission.to_csv(\"./data/titanic/rf_prediction1.csv\",\n",
    "                 index=False)"
   ]
  },
  {
   "cell_type": "markdown",
   "id": "f261e3d5",
   "metadata": {},
   "source": [
    "#### 교차검증\n",
    "- 모델의 일반화를 위해서 데이터를 훈련, 검증, 평가 셋으로 분리\n",
    "- 검증셋이 여러개 있어서 모델의 신뢰도를 확보 할 수 있으면 좋다.\n",
    "- 하지만 데이터양이 충분하지 않은 경우가 많아서 교차검증 기법을 많이 사용\n",
    "- 교차검증 기법중에서도 k-fold cross validation기법이 일반적으로 쓰임"
   ]
  },
  {
   "cell_type": "code",
   "execution_count": 17,
   "id": "287c461a",
   "metadata": {
    "collapsed": true
   },
   "outputs": [
    {
     "name": "stderr",
     "output_type": "stream",
     "text": [
      "C:\\Users\\pipi1\\anaconda3\\lib\\site-packages\\sklearn\\model_selection\\_validation.py:680: DataConversionWarning: A column-vector y was passed when a 1d array was expected. Please change the shape of y to (n_samples,), for example using ravel().\n",
      "  estimator.fit(X_train, y_train, **fit_params)\n",
      "C:\\Users\\pipi1\\anaconda3\\lib\\site-packages\\sklearn\\model_selection\\_validation.py:680: DataConversionWarning: A column-vector y was passed when a 1d array was expected. Please change the shape of y to (n_samples,), for example using ravel().\n",
      "  estimator.fit(X_train, y_train, **fit_params)\n",
      "C:\\Users\\pipi1\\anaconda3\\lib\\site-packages\\sklearn\\model_selection\\_validation.py:680: DataConversionWarning: A column-vector y was passed when a 1d array was expected. Please change the shape of y to (n_samples,), for example using ravel().\n",
      "  estimator.fit(X_train, y_train, **fit_params)\n",
      "C:\\Users\\pipi1\\anaconda3\\lib\\site-packages\\sklearn\\model_selection\\_validation.py:680: DataConversionWarning: A column-vector y was passed when a 1d array was expected. Please change the shape of y to (n_samples,), for example using ravel().\n",
      "  estimator.fit(X_train, y_train, **fit_params)\n",
      "C:\\Users\\pipi1\\anaconda3\\lib\\site-packages\\sklearn\\model_selection\\_validation.py:680: DataConversionWarning: A column-vector y was passed when a 1d array was expected. Please change the shape of y to (n_samples,), for example using ravel().\n",
      "  estimator.fit(X_train, y_train, **fit_params)\n"
     ]
    }
   ],
   "source": [
    "from sklearn.model_selection import cross_val_score\n",
    "cross_score = cross_val_score(rf_model,X_train,y_train,cv=5)"
   ]
  },
  {
   "cell_type": "code",
   "execution_count": 19,
   "id": "571fd58d",
   "metadata": {},
   "outputs": [
    {
     "data": {
      "text/plain": [
       "0.8192894356914193"
      ]
     },
     "execution_count": 19,
     "metadata": {},
     "output_type": "execute_result"
    }
   ],
   "source": [
    "cross_score.mean()"
   ]
  },
  {
   "cell_type": "markdown",
   "id": "4c4a0572",
   "metadata": {},
   "source": [
    "#### GridSearch를 이용한 모델최적화(하이퍼파라미터튜닝)\n",
    "- 특정 검증데이터에서만 좋은 하이퍼파라미터보다는 \n",
    "- 여러 검증데이터에서 좋은 하이퍼파라미터를 선택하는게 일반화에 도움이 되기 떄문에 모델최적화에서도 교차검증을 적용해서 사용한다."
   ]
  },
  {
   "cell_type": "code",
   "execution_count": 21,
   "id": "bf2e2446",
   "metadata": {},
   "outputs": [],
   "source": [
    "from sklearn.model_selection import GridSearchCV"
   ]
  },
  {
   "cell_type": "code",
   "execution_count": 68,
   "id": "e4d4f747",
   "metadata": {},
   "outputs": [],
   "source": [
    "# 모델 최적화(하이퍼파라미터튜닝)를 할 객체 생성\n",
    "model2 = RandomForestClassifier(random_state=926)\n",
    "# 파라미터 조합\n",
    "pram_grid = {\n",
    "    'max_depth' : [5, 10, 15, 20],\n",
    "    'n_estimators' : [500, 1000, 1500, 2000],\n",
    "    'max_features' : [0.5, 0.7, 0.8]\n",
    "}  # 총 4x4x3 개"
   ]
  },
  {
   "cell_type": "code",
   "execution_count": 23,
   "id": "c681e074",
   "metadata": {},
   "outputs": [],
   "source": [
    "grid = GridSearchCV(model2,   #튜닝할 모델\n",
    "                    pram_grid, # 튜닝해볼 파라미터 조합\n",
    "                    cv=3, # 교차검증 횟수\n",
    "                    n_jobs=-1)  # 연산에 사용할 pc코어 수(-1 = 모든 피씨의 연산을 여기에 집중시키겠다)\n",
    "                    # 총 파라미터 조합갯수 x 교차검증횟수(cv)"
   ]
  },
  {
   "cell_type": "code",
   "execution_count": 24,
   "id": "19293176",
   "metadata": {},
   "outputs": [
    {
     "name": "stderr",
     "output_type": "stream",
     "text": [
      "C:\\Users\\pipi1\\anaconda3\\lib\\site-packages\\sklearn\\model_selection\\_search.py:926: DataConversionWarning: A column-vector y was passed when a 1d array was expected. Please change the shape of y to (n_samples,), for example using ravel().\n",
      "  self.best_estimator_.fit(X, y, **fit_params)\n"
     ]
    },
    {
     "data": {
      "text/plain": [
       "GridSearchCV(cv=3, estimator=RandomForestClassifier(random_state=926),\n",
       "             n_jobs=-1,\n",
       "             param_grid={'max_depth': [5, 10, 15, 20],\n",
       "                         'max_features': [0.5, 0.7, 0.8],\n",
       "                         'n_estimators': [500, 1000, 1500, 2000]})"
      ]
     },
     "execution_count": 24,
     "metadata": {},
     "output_type": "execute_result"
    }
   ],
   "source": [
    "grid.fit(X_train,y_train)"
   ]
  },
  {
   "cell_type": "code",
   "execution_count": 27,
   "id": "52306b85",
   "metadata": {},
   "outputs": [
    {
     "name": "stdout",
     "output_type": "stream",
     "text": [
      "최고 점수 0.8395061728395062\n",
      "최고 조합 {'max_depth': 5, 'max_features': 0.8, 'n_estimators': 2000}\n"
     ]
    }
   ],
   "source": [
    "print(\"최고 점수\",grid.best_score_)\n",
    "print(\"최고 조합\",grid.best_params_)"
   ]
  },
  {
   "cell_type": "code",
   "execution_count": 28,
   "id": "9382644b",
   "metadata": {},
   "outputs": [],
   "source": [
    "# 학습이 완료된 최고 조합 모델\n",
    "best_rf = grid.best_estimator_"
   ]
  },
  {
   "cell_type": "code",
   "execution_count": 29,
   "id": "00abb78b",
   "metadata": {},
   "outputs": [],
   "source": [
    "pre_test=best_rf.predict(X_test)"
   ]
  },
  {
   "cell_type": "code",
   "execution_count": 30,
   "id": "37364d75",
   "metadata": {},
   "outputs": [],
   "source": [
    "# 결과 업로드\n",
    "submission = pd.read_csv(\"./data/titanic/gender_submission.csv\")\n",
    "submission[\"Survived\"] = pre_test\n",
    "submission.to_csv(\"./data/titanic/rf_prediction2.csv\",\n",
    "                 index=False)"
   ]
  },
  {
   "cell_type": "markdown",
   "id": "3f1f83f9",
   "metadata": {},
   "source": [
    "#### 부스팅 모델"
   ]
  },
  {
   "cell_type": "code",
   "execution_count": 31,
   "id": "e6657810",
   "metadata": {},
   "outputs": [],
   "source": [
    "from sklearn.ensemble import GradientBoostingClassifier"
   ]
  },
  {
   "cell_type": "code",
   "execution_count": 64,
   "id": "ea30e221",
   "metadata": {},
   "outputs": [],
   "source": [
    "gbtree = GradientBoostingClassifier(n_estimators=100, # 나무의 갯수, 순차적으로 나무가 100번 만들어짐\n",
    "                                    learning_rate=0.1, # 다음 트리에 반영할 오차 정도, 이전 트리에서 잘못한것을 다음트리한테 얼마나 반영할건지(0.1= 10%만 반영)\n",
    "                                    max_depth=5, #나무의 최대깊이\n",
    "                                    subsample=1 #학슴에 사용할 데이터의 비율\n",
    "                                   )"
   ]
  },
  {
   "cell_type": "code",
   "execution_count": 65,
   "id": "78254c29",
   "metadata": {},
   "outputs": [
    {
     "name": "stderr",
     "output_type": "stream",
     "text": [
      "C:\\Users\\pipi1\\anaconda3\\lib\\site-packages\\sklearn\\ensemble\\_gb.py:494: DataConversionWarning: A column-vector y was passed when a 1d array was expected. Please change the shape of y to (n_samples, ), for example using ravel().\n",
      "  y = column_or_1d(y, warn=True)\n"
     ]
    },
    {
     "data": {
      "text/plain": [
       "GradientBoostingClassifier(max_depth=5, subsample=1)"
      ]
     },
     "execution_count": 65,
     "metadata": {},
     "output_type": "execute_result"
    }
   ],
   "source": [
    "gbtree.fit(X_train,y_train)"
   ]
  },
  {
   "cell_type": "code",
   "execution_count": 66,
   "id": "8f4ffe8b",
   "metadata": {},
   "outputs": [],
   "source": [
    "pre_gb = gbtree.predict(X_test)\n",
    "# 결과 업로드\n",
    "submission = pd.read_csv(\"./data/titanic/gender_submission.csv\")\n",
    "submission[\"Survived\"] = pre_gb\n",
    "submission.to_csv(\"./data/titanic/gb_prediction2.csv\",\n",
    "                 index=False)\n"
   ]
  },
  {
   "cell_type": "code",
   "execution_count": 75,
   "id": "e04b6108",
   "metadata": {},
   "outputs": [],
   "source": [
    "# 그리드서치 이용한 모델 최적화 실습\n",
    "# 모델 최적화(하이퍼파라미터튜닝)를 할 객체 생성\n",
    "gb_model = GradientBoostingClassifier(random_state=0)\n",
    "# 파라미터 조합\n",
    "pram_grid = {\n",
    "    'learning_rate' : [0.01, 0.1, 0.5, 0.8],\n",
    "    'n_estimators' : [200, 500, 1000, 1500, 2000],\n",
    "    'max_depth' : [5,7,9],\n",
    "    'max_features' : [0.5, 0.7, 0.8],\n",
    "    'subsample' : [0.5,0.7,1.0]\n",
    "}  # 총 4x5x3x3x3x(cv)3 의 조합"
   ]
  },
  {
   "cell_type": "code",
   "execution_count": 76,
   "id": "8a8d41bd",
   "metadata": {},
   "outputs": [],
   "source": [
    "grid = GridSearchCV(gb_model,   #튜닝할 모델\n",
    "                    pram_grid, # 튜닝해볼 파라미터 조합\n",
    "                    cv=3, # 교차검증 횟수\n",
    "                    n_jobs=-1)  # 연산에 사용할 pc코어 수(-1 = 모든 피씨의 연산을 여기에 집중시키겠다)"
   ]
  },
  {
   "cell_type": "code",
   "execution_count": 77,
   "id": "a1348785",
   "metadata": {},
   "outputs": [
    {
     "name": "stderr",
     "output_type": "stream",
     "text": [
      "C:\\Users\\pipi1\\anaconda3\\lib\\site-packages\\sklearn\\ensemble\\_gb.py:494: DataConversionWarning: A column-vector y was passed when a 1d array was expected. Please change the shape of y to (n_samples, ), for example using ravel().\n",
      "  y = column_or_1d(y, warn=True)\n"
     ]
    },
    {
     "data": {
      "text/plain": [
       "GridSearchCV(cv=3, estimator=GradientBoostingClassifier(random_state=0),\n",
       "             n_jobs=-1,\n",
       "             param_grid={'learning_rate': [0.01, 0.1, 0.5, 0.8],\n",
       "                         'max_depth': [5, 7, 9],\n",
       "                         'max_features': [0.5, 0.7, 0.8],\n",
       "                         'n_estimators': [200, 500, 1000, 1500, 2000],\n",
       "                         'subsample': [0.5, 0.7, 1.0]})"
      ]
     },
     "execution_count": 77,
     "metadata": {},
     "output_type": "execute_result"
    }
   ],
   "source": [
    "grid.fit(X_train,y_train)"
   ]
  },
  {
   "cell_type": "code",
   "execution_count": 78,
   "id": "acf72267",
   "metadata": {},
   "outputs": [],
   "source": [
    "pre_grid = grid.predict(X_test)\n"
   ]
  },
  {
   "cell_type": "code",
   "execution_count": 79,
   "id": "bc517109",
   "metadata": {},
   "outputs": [
    {
     "name": "stdout",
     "output_type": "stream",
     "text": [
      "최고 점수 0.8361391694725029\n",
      "최고 조합 {'learning_rate': 0.01, 'max_depth': 5, 'max_features': 0.5, 'n_estimators': 500, 'subsample': 0.5}\n"
     ]
    }
   ],
   "source": [
    "print(\"최고 점수\",grid.best_score_)\n",
    "print(\"최고 조합\",grid.best_params_)"
   ]
  },
  {
   "cell_type": "code",
   "execution_count": 80,
   "id": "b20d6228",
   "metadata": {},
   "outputs": [],
   "source": [
    "# 학습이 완료된 최고 조합 모델\n",
    "best_rf = grid.best_estimator_\n",
    "pre_test=best_rf.predict(X_test)"
   ]
  },
  {
   "cell_type": "code",
   "execution_count": 81,
   "id": "b304224d",
   "metadata": {},
   "outputs": [],
   "source": [
    "# 결과 업로드\n",
    "submission[\"Survived\"] = pre_grid\n",
    "submission.to_csv(\"./data/titanic/gb_prediction2.csv\",\n",
    "                 index=False)"
   ]
  },
  {
   "cell_type": "markdown",
   "id": "61010547",
   "metadata": {},
   "source": [
    "#### 외부 부스팅 라이브러리 사용하기\n",
    "- boosting의 단점을 보완하고 추가 기능들을 탑재한 외부부스팅 라이브러리들이 있다\n",
    "- ex) wboost, lightGBM, catboost등"
   ]
  },
  {
   "cell_type": "code",
   "execution_count": 82,
   "id": "01f4cf86",
   "metadata": {
    "collapsed": true
   },
   "outputs": [
    {
     "name": "stdout",
     "output_type": "stream",
     "text": [
      "Collecting xgboost\n",
      "  Downloading xgboost-1.6.2-py3-none-win_amd64.whl (125.4 MB)\n",
      "Requirement already satisfied: numpy in c:\\users\\pipi1\\anaconda3\\lib\\site-packages (from xgboost) (1.21.5)\n",
      "Requirement already satisfied: scipy in c:\\users\\pipi1\\anaconda3\\lib\\site-packages (from xgboost) (1.7.3)\n",
      "Installing collected packages: xgboost\n",
      "Successfully installed xgboost-1.6.2\n",
      "Collecting lightgbm\n",
      "  Downloading lightgbm-3.3.2-py3-none-win_amd64.whl (1.0 MB)\n",
      "Requirement already satisfied: numpy in c:\\users\\pipi1\\anaconda3\\lib\\site-packages (from lightgbm) (1.21.5)\n",
      "Requirement already satisfied: scikit-learn!=0.22.0 in c:\\users\\pipi1\\anaconda3\\lib\\site-packages (from lightgbm) (1.0.2)\n",
      "Requirement already satisfied: scipy in c:\\users\\pipi1\\anaconda3\\lib\\site-packages (from lightgbm) (1.7.3)\n",
      "Requirement already satisfied: wheel in c:\\users\\pipi1\\anaconda3\\lib\\site-packages (from lightgbm) (0.37.1)\n",
      "Requirement already satisfied: joblib>=0.11 in c:\\users\\pipi1\\anaconda3\\lib\\site-packages (from scikit-learn!=0.22.0->lightgbm) (1.1.0)\n",
      "Requirement already satisfied: threadpoolctl>=2.0.0 in c:\\users\\pipi1\\anaconda3\\lib\\site-packages (from scikit-learn!=0.22.0->lightgbm) (2.2.0)\n",
      "Installing collected packages: lightgbm\n",
      "Successfully installed lightgbm-3.3.2\n"
     ]
    }
   ],
   "source": [
    "!pip install xgboost  # gpu에서 병렬 연산을 할수 있게 해주는 # 내부는 C나 c++로 되어있는데 겉은 파이썬\n",
    "!pip install lightgbm  "
   ]
  },
  {
   "cell_type": "code",
   "execution_count": 83,
   "id": "0aa08eda",
   "metadata": {},
   "outputs": [],
   "source": [
    "from xgboost import XGBClassifier"
   ]
  },
  {
   "cell_type": "code",
   "execution_count": 84,
   "id": "8a9642ba",
   "metadata": {},
   "outputs": [],
   "source": [
    "xgb_model = XGBClassifier(booster=\"gbtree\", #부스팅할 모델 알고리즘 (선형모델 기반으로 하려면 gblinear)\n",
    "                          learning_rate=0.1, # 학습률\n",
    "                          max_depth=6, # 나무의 최대깊이\n",
    "                          gamma=0.2) # 리프노드 분리를 결정하는 파라미터  \n",
    "                                 # 키우면 모델 단순, 작아지면 모델 복잡"
   ]
  },
  {
   "cell_type": "code",
   "execution_count": 86,
   "id": "ffc5c5c9",
   "metadata": {},
   "outputs": [],
   "source": [
    "xgb_model.fit(X_train,y_train)\n",
    "pre_xgb = xgb_model.predict(X_test)"
   ]
  },
  {
   "cell_type": "code",
   "execution_count": null,
   "id": "c412908f",
   "metadata": {},
   "outputs": [],
   "source": []
  }
 ],
 "metadata": {
  "kernelspec": {
   "display_name": "Python 3.9.12 ('base')",
   "language": "python",
   "name": "python3"
  },
  "language_info": {
   "codemirror_mode": {
    "name": "ipython",
    "version": 3
   },
   "file_extension": ".py",
   "mimetype": "text/x-python",
   "name": "python",
   "nbconvert_exporter": "python",
   "pygments_lexer": "ipython3",
   "version": "3.9.12"
  },
  "toc": {
   "base_numbering": 1,
   "nav_menu": {},
   "number_sections": true,
   "sideBar": true,
   "skip_h1_title": false,
   "title_cell": "Table of Contents",
   "title_sidebar": "Contents",
   "toc_cell": false,
   "toc_position": {},
   "toc_section_display": true,
   "toc_window_display": false
  },
  "vscode": {
   "interpreter": {
    "hash": "a9d8fbd2622250be90e11d7629650d111e02c5b989647467f2b91c323a6d7e8d"
   }
  }
 },
 "nbformat": 4,
 "nbformat_minor": 5
}
